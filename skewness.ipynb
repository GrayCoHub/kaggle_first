{
 "cells": [
  {
   "cell_type": "code",
   "execution_count": null,
   "id": "9ffd107c-d651-4b7a-941c-4c2d89f8d5d7",
   "metadata": {},
   "outputs": [],
   "source": []
  },
  {
   "cell_type": "markdown",
   "id": "e8908f81-c7c6-45fa-b37c-78c4ec2b388c",
   "metadata": {},
   "source": [
    "# <font color = yellow> Data prep to Skewness\n",
    "\n",
    "### Using the Kaggle Insurance dataset"
   ]
  },
  {
   "cell_type": "code",
   "execution_count": null,
   "id": "7d360222-a33c-409e-8a7e-b6327570ea51",
   "metadata": {},
   "outputs": [],
   "source": [
    "library(dplyr)\n",
    "library(lubridate)\n",
    "library(missForest)\n",
    "library(e1071)  # for determinning skewness\n",
    "library(ggplot2)\n",
    "\n",
    "options(scipen = 999)"
   ]
  },
  {
   "cell_type": "code",
   "execution_count": null,
   "id": "7a2111e0-7d28-42da-8a33-f069e0f7d395",
   "metadata": {},
   "outputs": [],
   "source": [
    "library(ppcor)\n",
    "library(tibble)\n",
    "library(corrplot)"
   ]
  },
  {
   "cell_type": "code",
   "execution_count": null,
   "id": "40ced0ac-bb40-42cc-b0f1-ae7ca066519a",
   "metadata": {},
   "outputs": [],
   "source": [
    "library(reshape2)  # meld\n",
    "library(Hmisc)    # cor \n",
    "library(e1071)  # skewness"
   ]
  },
  {
   "cell_type": "code",
   "execution_count": null,
   "id": "033a3417-7988-419f-affc-eeebd4049960",
   "metadata": {},
   "outputs": [],
   "source": []
  },
  {
   "cell_type": "markdown",
   "id": "659ed745-2b6a-41bf-98d6-44afa51b5df4",
   "metadata": {},
   "source": [
    "### <font color = yellow> Get the fixed df (created in dataPrep_p_values.ipynb)"
   ]
  },
  {
   "cell_type": "code",
   "execution_count": null,
   "id": "072fb3c7-5fa9-4573-b5a3-90db4257a526",
   "metadata": {},
   "outputs": [],
   "source": [
    "# missing data was imputed w/ missForrest( )\n",
    "train_path <- \"C:\\\\all_programming\\\\Kaggle\\\\datasets\\\\df_fixed.csv\"\n",
    "df_fixed <- read.csv(train_path, stringsAsFactors = FALSE)\n",
    "dim(df_fixed)"
   ]
  },
  {
   "cell_type": "markdown",
   "id": "41c68eaf-8380-4ff6-8b8a-33c92f9bca78",
   "metadata": {},
   "source": [
    "### <font color = yellow> Calculate the Skewness values, consider direction and size"
   ]
  },
  {
   "cell_type": "code",
   "execution_count": null,
   "id": "cc7b2d2f-9031-4a74-a618-f125d24b5d22",
   "metadata": {},
   "outputs": [],
   "source": []
  },
  {
   "cell_type": "code",
   "execution_count": null,
   "id": "e8e529ce-9d78-4ba5-8811-347f4ab71653",
   "metadata": {},
   "outputs": [],
   "source": [
    "# Calculate skewness for each variable\n",
    "skewness_Age <- skewness(df_fixed$Age, na.rm = TRUE)\n",
    "skewness_Income <- skewness(df_fixed$Income, na.rm = TRUE)\n",
    "skewness_Dependents <- skewness(df_fixed$Kids, na.rm = TRUE)\n",
    "skewness_HC <- skewness(df_fixed$Health, na.rm = TRUE)\n",
    "skewness_PC <- skewness(df_fixed$Claims, na.rm = TRUE)\n",
    "skewness_CS <- skewness(df_fixed$Credit, na.rm = TRUE)\n",
    "skewness_ID <- skewness(df_fixed$InsDur, na.rm = TRUE)\n",
    "\n",
    "# Print skewness values\n",
    "print(paste(\"Skewness of Age:\", skewness_Age))\n",
    "print(paste(\"Skewness of Income:\", skewness_Income))\n",
    "print(paste(\"Skewness of Dependents:\", skewness_Dependents))\n",
    "print(paste(\"Skewness of Health Score:\", skewness_HC))\n",
    "print(paste(\"Skewness of Previous Claims:\", skewness_PC))\n",
    "print(paste(\"Skewness of Credit Score:\", skewness_CS))\n",
    "print(paste(\"Skewness of Credit Score:\", skewness_ID))"
   ]
  },
  {
   "cell_type": "code",
   "execution_count": null,
   "id": "f74afb3a-8fd8-4cbd-bc32-81fa7c909c35",
   "metadata": {},
   "outputs": [],
   "source": []
  },
  {
   "cell_type": "code",
   "execution_count": null,
   "id": "902927da-9af4-49d9-a332-5c523e99349b",
   "metadata": {},
   "outputs": [],
   "source": [
    "# Install and load necessary packages\n",
    "\n",
    "# Melt the dataframe \n",
    "df_melted <- melt(df_fixed)  # has no id var\n",
    "\n",
    "# View the melted dataframe\n",
    "dim(df_melted)\n",
    "head(df_melted)\n",
    "# review the vars for completeness\n",
    "unique(df_melted$variable)\n",
    "# summary(df_melted)"
   ]
  },
  {
   "cell_type": "code",
   "execution_count": null,
   "id": "7047381b-fee2-4fb5-a725-6a1429f8b1a2",
   "metadata": {},
   "outputs": [],
   "source": []
  },
  {
   "cell_type": "markdown",
   "id": "4f2cb06d-f708-4f26-af96-1416117a7d23",
   "metadata": {},
   "source": [
    "### <font color = yellow> Visual the unskewed variables"
   ]
  },
  {
   "cell_type": "code",
   "execution_count": null,
   "id": "c767d472-4e6d-4c3f-ba88-7583088e8dca",
   "metadata": {},
   "outputs": [],
   "source": [
    "# Faceted plot\n",
    "ggplot(df_melted, aes(x = value)) + \n",
    "  geom_histogram(bins = 10, fill = \"blue\", alpha = 0.7) +\n",
    "  facet_wrap(~ variable, scales = \"free\") +\n",
    "  labs(title = \"Distribution of Variables\", x = \"Value\", y = \"Count\") +\n",
    "  theme_minimal()"
   ]
  },
  {
   "cell_type": "code",
   "execution_count": null,
   "id": "96ae1358-6b98-4a25-9510-3730c993352e",
   "metadata": {},
   "outputs": [],
   "source": [
    "summary(df_fixed)"
   ]
  },
  {
   "cell_type": "code",
   "execution_count": null,
   "id": "c372aaba-38e3-4e5a-bcc0-07dabb9c897a",
   "metadata": {},
   "outputs": [],
   "source": []
  },
  {
   "cell_type": "markdown",
   "id": "e7717c22-cdb8-419c-8adf-024691baa355",
   "metadata": {},
   "source": [
    "### <font color = yellow> Kids is not a continuous value.  Kids represent a count ... an integer variable\n",
    "\n",
    "#### Imput the Kids variable seperately with nearest neighbors (k-NN)\n"
   ]
  },
  {
   "cell_type": "code",
   "execution_count": null,
   "id": "986687e1-6275-40e6-9566-7aa990f08ef6",
   "metadata": {},
   "outputs": [],
   "source": []
  },
  {
   "cell_type": "code",
   "execution_count": null,
   "id": "51ab5f9e-3be7-405f-8711-4f3a0d8beda3",
   "metadata": {},
   "outputs": [],
   "source": [
    "colnames(df_fixed)"
   ]
  },
  {
   "cell_type": "code",
   "execution_count": null,
   "id": "118420dd-eb4b-4cf6-b97c-042add1a832e",
   "metadata": {},
   "outputs": [],
   "source": [
    "# Install and load necessary packages\n",
    "\n",
    "\n",
    "# Sample dataframe with missing values\n",
    "df_vars <- data.frame(\n",
    "  Age = c(25, 45, 35, 50, 60),\n",
    "  Income = c(30000, 50000, 40000, 60000, 70000),\n",
    "  Kids = c(2, NA, 3, 1, 0),\n",
    "  Health = c(620, 630, 608, 507, 780)\n",
    ")\n",
    "\n",
    "# Separate integer and non-integer features\n",
    "df_non_integer <- df_vars[, c(\"Age\", \"Income\", \"Health\")]\n",
    "df_integer <- df_vars[, \"Kids\", drop = FALSE]\n",
    "\n",
    "# Impute non-integer features using missForest\n",
    "imputed_non_integer <- missForest(df_non_integer)\n",
    "df_non_integer_imputed <- imputed_non_integer$ximp\n",
    "\n",
    "# View the imputed non-integer dataframe\n",
    "print(df_non_integer_imputed)\n"
   ]
  },
  {
   "cell_type": "code",
   "execution_count": null,
   "id": "8c681b99-d7d4-451a-854b-8cb21fa954de",
   "metadata": {},
   "outputs": [],
   "source": [
    "# Install and load necessary package\n",
    "\n",
    "library(VIM)\n",
    "\n",
    "# Ensure df_fixed is a dataframe and contains the 'Kids' column \n",
    "if (!\"Kids\" %in% names(df_fixed)) { \n",
    "    stop(\"The dataframe must contain the 'Kids' column\") \n",
    "    } \n",
    "# Impute integer features using k-NN imputation \n",
    "# `kNN()` returns the complete dataframe with an additional 'Kids_imp' column for imputed values \n",
    "imputed_integer <- kNN(df_fixed, variable = \"Kids\", k = 3) \n",
    "\n",
    "# Extract the imputed 'Kids' column \n",
    "df_integer_imputed <- imputed_integer$Kids \n",
    "# View the imputed integer dataframe \n",
    "head(df_integer_imputed)"
   ]
  },
  {
   "cell_type": "code",
   "execution_count": null,
   "id": "43c67d2e-c96e-4720-9426-19f4ef7e2500",
   "metadata": {},
   "outputs": [],
   "source": []
  },
  {
   "cell_type": "code",
   "execution_count": null,
   "id": "af5b31a2-f333-4fe8-bac6-2c694a768a6f",
   "metadata": {},
   "outputs": [],
   "source": []
  }
 ],
 "metadata": {
  "kernelspec": {
   "display_name": "R",
   "language": "R",
   "name": "ir"
  },
  "language_info": {
   "codemirror_mode": "r",
   "file_extension": ".r",
   "mimetype": "text/x-r-source",
   "name": "R",
   "pygments_lexer": "r",
   "version": "4.3.0"
  }
 },
 "nbformat": 4,
 "nbformat_minor": 5
}
