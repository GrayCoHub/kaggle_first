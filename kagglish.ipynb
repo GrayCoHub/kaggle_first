{
 "cells": [
  {
   "cell_type": "code",
   "execution_count": 1,
   "id": "939aae4f-0c57-4aea-b968-be3f02ac1918",
   "metadata": {},
   "outputs": [
    {
     "name": "stderr",
     "output_type": "stream",
     "text": [
      "Warning message:\n",
      "\"package 'dplyr' was built under R version 4.3.2\"\n",
      "\n",
      "Attaching package: 'dplyr'\n",
      "\n",
      "\n",
      "The following objects are masked from 'package:stats':\n",
      "\n",
      "    filter, lag\n",
      "\n",
      "\n",
      "The following objects are masked from 'package:base':\n",
      "\n",
      "    intersect, setdiff, setequal, union\n",
      "\n",
      "\n",
      "Warning message:\n",
      "\"package 'ggplot2' was built under R version 4.3.3\"\n",
      "\n",
      "Attaching package: 'gridExtra'\n",
      "\n",
      "\n",
      "The following object is masked from 'package:dplyr':\n",
      "\n",
      "    combine\n",
      "\n",
      "\n"
     ]
    }
   ],
   "source": [
    "library(dplyr)\n",
    "\n",
    "# Load necessary libraries\n",
    "library(ggplot2)\n",
    "library(gridExtra)\n"
   ]
  },
  {
   "cell_type": "code",
   "execution_count": 2,
   "id": "1e44194f-737e-4efe-a549-133cdfb19b67",
   "metadata": {},
   "outputs": [
    {
     "name": "stderr",
     "output_type": "stream",
     "text": [
      "Warning message:\n",
      "\"package 'xgboost' was built under R version 4.3.3\"\n",
      "\n",
      "Attaching package: 'xgboost'\n",
      "\n",
      "\n",
      "The following object is masked from 'package:dplyr':\n",
      "\n",
      "    slice\n",
      "\n",
      "\n",
      "Warning message:\n",
      "\"package 'ParBayesianOptimization' was built under R version 4.3.3\"\n"
     ]
    }
   ],
   "source": [
    "library(xgboost) \n",
    "library(ParBayesianOptimization)"
   ]
  },
  {
   "cell_type": "code",
   "execution_count": 3,
   "id": "8368da93-c6d4-4a24-a6df-783620df7f90",
   "metadata": {},
   "outputs": [],
   "source": [
    "options(scipen = 999)"
   ]
  },
  {
   "cell_type": "code",
   "execution_count": 4,
   "id": "1f0c0697-1a1d-424c-90ae-8e11878460b5",
   "metadata": {},
   "outputs": [
    {
     "name": "stderr",
     "output_type": "stream",
     "text": [
      "Warning message:\n",
      "\"package 'doParallel' was built under R version 4.3.3\"\n",
      "Loading required package: foreach\n",
      "\n",
      "Warning message:\n",
      "\"package 'foreach' was built under R version 4.3.3\"\n",
      "Loading required package: iterators\n",
      "\n",
      "Warning message:\n",
      "\"package 'iterators' was built under R version 4.3.3\"\n",
      "Loading required package: parallel\n",
      "\n"
     ]
    }
   ],
   "source": [
    "library(doParallel)\n",
    "library(foreach)"
   ]
  },
  {
   "cell_type": "code",
   "execution_count": null,
   "id": "1113ec0c-6153-44e8-81fc-f980d65f0490",
   "metadata": {},
   "outputs": [],
   "source": []
  },
  {
   "cell_type": "code",
   "execution_count": 5,
   "id": "1da0ee0f-a425-453e-a5df-53f6a40dfdf4",
   "metadata": {},
   "outputs": [
    {
     "data": {
      "text/html": [
       "<style>\n",
       ".list-inline {list-style: none; margin:0; padding: 0}\n",
       ".list-inline>li {display: inline-block}\n",
       ".list-inline>li:not(:last-child)::after {content: \"\\00b7\"; padding: 0 .5ex}\n",
       "</style>\n",
       "<ol class=list-inline><li>800000</li><li>20</li></ol>\n"
      ],
      "text/latex": [
       "\\begin{enumerate*}\n",
       "\\item 800000\n",
       "\\item 20\n",
       "\\end{enumerate*}\n"
      ],
      "text/markdown": [
       "1. 800000\n",
       "2. 20\n",
       "\n",
       "\n"
      ],
      "text/plain": [
       "[1] 800000     20"
      ]
     },
     "metadata": {},
     "output_type": "display_data"
    },
    {
     "data": {
      "text/html": [
       "<style>\n",
       ".list-inline {list-style: none; margin:0; padding: 0}\n",
       ".list-inline>li {display: inline-block}\n",
       ".list-inline>li:not(:last-child)::after {content: \"\\00b7\"; padding: 0 .5ex}\n",
       "</style>\n",
       "<ol class=list-inline><li>1200000</li><li>21</li></ol>\n"
      ],
      "text/latex": [
       "\\begin{enumerate*}\n",
       "\\item 1200000\n",
       "\\item 21\n",
       "\\end{enumerate*}\n"
      ],
      "text/markdown": [
       "1. 1200000\n",
       "2. 21\n",
       "\n",
       "\n"
      ],
      "text/plain": [
       "[1] 1200000      21"
      ]
     },
     "metadata": {},
     "output_type": "display_data"
    }
   ],
   "source": [
    "# Load the test dataset\n",
    "test_path <- \"C:\\\\all_programming\\\\Kaggle\\\\datasets\\\\test\\\\test.csv\"\n",
    "test <- read.csv(test_path, stringsAsFactors = FALSE)\n",
    "dim(test)   # has empty fields\n",
    "\n",
    "train_path <- \"C:\\\\all_programming\\\\Kaggle\\\\datasets\\\\train\\\\train.csv\"\n",
    "train <- read.csv(train_path, stringsAsFactors = FALSE)\n",
    "dim(train)"
   ]
  },
  {
   "cell_type": "code",
   "execution_count": 6,
   "id": "a0aa59c2-5d2c-4116-9985-76d2375bb9f1",
   "metadata": {},
   "outputs": [
    {
     "data": {
      "text/html": [
       "<table class=\"dataframe\">\n",
       "<caption>A data.frame: 2 × 21</caption>\n",
       "<thead>\n",
       "\t<tr><th></th><th scope=col>id</th><th scope=col>Age</th><th scope=col>Gender</th><th scope=col>Annual.Income</th><th scope=col>Marital.Status</th><th scope=col>Number.of.Dependents</th><th scope=col>Education.Level</th><th scope=col>Occupation</th><th scope=col>Health.Score</th><th scope=col>Location</th><th scope=col>⋯</th><th scope=col>Previous.Claims</th><th scope=col>Vehicle.Age</th><th scope=col>Credit.Score</th><th scope=col>Insurance.Duration</th><th scope=col>Policy.Start.Date</th><th scope=col>Customer.Feedback</th><th scope=col>Smoking.Status</th><th scope=col>Exercise.Frequency</th><th scope=col>Property.Type</th><th scope=col>Premium.Amount</th></tr>\n",
       "\t<tr><th></th><th scope=col>&lt;int&gt;</th><th scope=col>&lt;dbl&gt;</th><th scope=col>&lt;chr&gt;</th><th scope=col>&lt;dbl&gt;</th><th scope=col>&lt;chr&gt;</th><th scope=col>&lt;dbl&gt;</th><th scope=col>&lt;chr&gt;</th><th scope=col>&lt;chr&gt;</th><th scope=col>&lt;dbl&gt;</th><th scope=col>&lt;chr&gt;</th><th scope=col>⋯</th><th scope=col>&lt;dbl&gt;</th><th scope=col>&lt;dbl&gt;</th><th scope=col>&lt;dbl&gt;</th><th scope=col>&lt;dbl&gt;</th><th scope=col>&lt;chr&gt;</th><th scope=col>&lt;chr&gt;</th><th scope=col>&lt;chr&gt;</th><th scope=col>&lt;chr&gt;</th><th scope=col>&lt;chr&gt;</th><th scope=col>&lt;dbl&gt;</th></tr>\n",
       "</thead>\n",
       "<tbody>\n",
       "\t<tr><th scope=row>1</th><td>0</td><td>19</td><td>Female</td><td>10049</td><td>Married </td><td>1</td><td>Bachelor's</td><td>Self-Employed</td><td>22.59876</td><td>Urban</td><td>⋯</td><td>2</td><td>17</td><td>372</td><td>5</td><td>2023-12-23 15:21:39.134960</td><td>Poor   </td><td>No </td><td>Weekly </td><td>House</td><td>2869</td></tr>\n",
       "\t<tr><th scope=row>2</th><td>1</td><td>39</td><td>Female</td><td>31678</td><td>Divorced</td><td>3</td><td>Master's  </td><td>             </td><td>15.56973</td><td>Rural</td><td>⋯</td><td>1</td><td>12</td><td>694</td><td>2</td><td>2023-06-12 15:21:39.111551</td><td>Average</td><td>Yes</td><td>Monthly</td><td>House</td><td>1483</td></tr>\n",
       "</tbody>\n",
       "</table>\n"
      ],
      "text/latex": [
       "A data.frame: 2 × 21\n",
       "\\begin{tabular}{r|lllllllllllllllllllll}\n",
       "  & id & Age & Gender & Annual.Income & Marital.Status & Number.of.Dependents & Education.Level & Occupation & Health.Score & Location & ⋯ & Previous.Claims & Vehicle.Age & Credit.Score & Insurance.Duration & Policy.Start.Date & Customer.Feedback & Smoking.Status & Exercise.Frequency & Property.Type & Premium.Amount\\\\\n",
       "  & <int> & <dbl> & <chr> & <dbl> & <chr> & <dbl> & <chr> & <chr> & <dbl> & <chr> & ⋯ & <dbl> & <dbl> & <dbl> & <dbl> & <chr> & <chr> & <chr> & <chr> & <chr> & <dbl>\\\\\n",
       "\\hline\n",
       "\t1 & 0 & 19 & Female & 10049 & Married  & 1 & Bachelor's & Self-Employed & 22.59876 & Urban & ⋯ & 2 & 17 & 372 & 5 & 2023-12-23 15:21:39.134960 & Poor    & No  & Weekly  & House & 2869\\\\\n",
       "\t2 & 1 & 39 & Female & 31678 & Divorced & 3 & Master's   &               & 15.56973 & Rural & ⋯ & 1 & 12 & 694 & 2 & 2023-06-12 15:21:39.111551 & Average & Yes & Monthly & House & 1483\\\\\n",
       "\\end{tabular}\n"
      ],
      "text/markdown": [
       "\n",
       "A data.frame: 2 × 21\n",
       "\n",
       "| <!--/--> | id &lt;int&gt; | Age &lt;dbl&gt; | Gender &lt;chr&gt; | Annual.Income &lt;dbl&gt; | Marital.Status &lt;chr&gt; | Number.of.Dependents &lt;dbl&gt; | Education.Level &lt;chr&gt; | Occupation &lt;chr&gt; | Health.Score &lt;dbl&gt; | Location &lt;chr&gt; | ⋯ ⋯ | Previous.Claims &lt;dbl&gt; | Vehicle.Age &lt;dbl&gt; | Credit.Score &lt;dbl&gt; | Insurance.Duration &lt;dbl&gt; | Policy.Start.Date &lt;chr&gt; | Customer.Feedback &lt;chr&gt; | Smoking.Status &lt;chr&gt; | Exercise.Frequency &lt;chr&gt; | Property.Type &lt;chr&gt; | Premium.Amount &lt;dbl&gt; |\n",
       "|---|---|---|---|---|---|---|---|---|---|---|---|---|---|---|---|---|---|---|---|---|---|\n",
       "| 1 | 0 | 19 | Female | 10049 | Married  | 1 | Bachelor's | Self-Employed | 22.59876 | Urban | ⋯ | 2 | 17 | 372 | 5 | 2023-12-23 15:21:39.134960 | Poor    | No  | Weekly  | House | 2869 |\n",
       "| 2 | 1 | 39 | Female | 31678 | Divorced | 3 | Master's   | <!----> | 15.56973 | Rural | ⋯ | 1 | 12 | 694 | 2 | 2023-06-12 15:21:39.111551 | Average | Yes | Monthly | House | 1483 |\n",
       "\n"
      ],
      "text/plain": [
       "  id Age Gender Annual.Income Marital.Status Number.of.Dependents\n",
       "1 0  19  Female 10049         Married        1                   \n",
       "2 1  39  Female 31678         Divorced       3                   \n",
       "  Education.Level Occupation    Health.Score Location ⋯ Previous.Claims\n",
       "1 Bachelor's      Self-Employed 22.59876     Urban    ⋯ 2              \n",
       "2 Master's                      15.56973     Rural    ⋯ 1              \n",
       "  Vehicle.Age Credit.Score Insurance.Duration Policy.Start.Date         \n",
       "1 17          372          5                  2023-12-23 15:21:39.134960\n",
       "2 12          694          2                  2023-06-12 15:21:39.111551\n",
       "  Customer.Feedback Smoking.Status Exercise.Frequency Property.Type\n",
       "1 Poor              No             Weekly             House        \n",
       "2 Average           Yes            Monthly            House        \n",
       "  Premium.Amount\n",
       "1 2869          \n",
       "2 1483          "
      ]
     },
     "metadata": {},
     "output_type": "display_data"
    }
   ],
   "source": [
    "head(train, 2)"
   ]
  },
  {
   "cell_type": "code",
   "execution_count": null,
   "id": "c6dd8f09-12ff-4e5a-ad93-bc50c32ec683",
   "metadata": {},
   "outputs": [],
   "source": []
  },
  {
   "cell_type": "code",
   "execution_count": 7,
   "id": "3cb42f47-bcf3-41e8-be2e-34d8790c107d",
   "metadata": {},
   "outputs": [
    {
     "data": {
      "text/html": [
       "749320"
      ],
      "text/latex": [
       "749320"
      ],
      "text/markdown": [
       "749320"
      ],
      "text/plain": [
       "[1] 749320"
      ]
     },
     "metadata": {},
     "output_type": "display_data"
    },
    {
     "data": {
      "text/html": [
       "499186"
      ],
      "text/latex": [
       "499186"
      ],
      "text/markdown": [
       "499186"
      ],
      "text/plain": [
       "[1] 499186"
      ]
     },
     "metadata": {},
     "output_type": "display_data"
    },
    {
     "data": {
      "text/html": [
       "0"
      ],
      "text/latex": [
       "0"
      ],
      "text/markdown": [
       "0"
      ],
      "text/plain": [
       "[1] 0"
      ]
     },
     "metadata": {},
     "output_type": "display_data"
    },
    {
     "data": {
      "text/html": [
       "0"
      ],
      "text/latex": [
       "0"
      ],
      "text/markdown": [
       "0"
      ],
      "text/plain": [
       "[1] 0"
      ]
     },
     "metadata": {},
     "output_type": "display_data"
    }
   ],
   "source": [
    "sum(is.na(train))\n",
    "sum(is.na(test))\n",
    "sum(is.null(train))\n",
    "sum(is.null(test))"
   ]
  },
  {
   "cell_type": "code",
   "execution_count": 8,
   "id": "a6d899c0-5d94-40f1-bda1-6aa6eb0b2ed7",
   "metadata": {},
   "outputs": [
    {
     "data": {
      "text/html": [
       "<dl>\n",
       "\t<dt>$id</dt>\n",
       "\t\t<dd>0</dd>\n",
       "\t<dt>$Age</dt>\n",
       "\t\t<dd>18705</dd>\n",
       "\t<dt>$Gender</dt>\n",
       "\t\t<dd>0</dd>\n",
       "\t<dt>$Annual.Income</dt>\n",
       "\t\t<dd>44949</dd>\n",
       "\t<dt>$Marital.Status</dt>\n",
       "\t\t<dd>0</dd>\n",
       "\t<dt>$Number.of.Dependents</dt>\n",
       "\t\t<dd>109672</dd>\n",
       "\t<dt>$Education.Level</dt>\n",
       "\t\t<dd>0</dd>\n",
       "\t<dt>$Occupation</dt>\n",
       "\t\t<dd>0</dd>\n",
       "\t<dt>$Health.Score</dt>\n",
       "\t\t<dd>74076</dd>\n",
       "\t<dt>$Location</dt>\n",
       "\t\t<dd>0</dd>\n",
       "\t<dt>$Policy.Type</dt>\n",
       "\t\t<dd>0</dd>\n",
       "\t<dt>$Previous.Claims</dt>\n",
       "\t\t<dd>364029</dd>\n",
       "\t<dt>$Vehicle.Age</dt>\n",
       "\t\t<dd>6</dd>\n",
       "\t<dt>$Credit.Score</dt>\n",
       "\t\t<dd>137882</dd>\n",
       "\t<dt>$Insurance.Duration</dt>\n",
       "\t\t<dd>1</dd>\n",
       "\t<dt>$Policy.Start.Date</dt>\n",
       "\t\t<dd>0</dd>\n",
       "\t<dt>$Customer.Feedback</dt>\n",
       "\t\t<dd>0</dd>\n",
       "\t<dt>$Smoking.Status</dt>\n",
       "\t\t<dd>0</dd>\n",
       "\t<dt>$Exercise.Frequency</dt>\n",
       "\t\t<dd>0</dd>\n",
       "\t<dt>$Property.Type</dt>\n",
       "\t\t<dd>0</dd>\n",
       "\t<dt>$Premium.Amount</dt>\n",
       "\t\t<dd>0</dd>\n",
       "</dl>\n"
      ],
      "text/latex": [
       "\\begin{description}\n",
       "\\item[\\$id] 0\n",
       "\\item[\\$Age] 18705\n",
       "\\item[\\$Gender] 0\n",
       "\\item[\\$Annual.Income] 44949\n",
       "\\item[\\$Marital.Status] 0\n",
       "\\item[\\$Number.of.Dependents] 109672\n",
       "\\item[\\$Education.Level] 0\n",
       "\\item[\\$Occupation] 0\n",
       "\\item[\\$Health.Score] 74076\n",
       "\\item[\\$Location] 0\n",
       "\\item[\\$Policy.Type] 0\n",
       "\\item[\\$Previous.Claims] 364029\n",
       "\\item[\\$Vehicle.Age] 6\n",
       "\\item[\\$Credit.Score] 137882\n",
       "\\item[\\$Insurance.Duration] 1\n",
       "\\item[\\$Policy.Start.Date] 0\n",
       "\\item[\\$Customer.Feedback] 0\n",
       "\\item[\\$Smoking.Status] 0\n",
       "\\item[\\$Exercise.Frequency] 0\n",
       "\\item[\\$Property.Type] 0\n",
       "\\item[\\$Premium.Amount] 0\n",
       "\\end{description}\n"
      ],
      "text/markdown": [
       "$id\n",
       ":   0\n",
       "$Age\n",
       ":   18705\n",
       "$Gender\n",
       ":   0\n",
       "$Annual.Income\n",
       ":   44949\n",
       "$Marital.Status\n",
       ":   0\n",
       "$Number.of.Dependents\n",
       ":   109672\n",
       "$Education.Level\n",
       ":   0\n",
       "$Occupation\n",
       ":   0\n",
       "$Health.Score\n",
       ":   74076\n",
       "$Location\n",
       ":   0\n",
       "$Policy.Type\n",
       ":   0\n",
       "$Previous.Claims\n",
       ":   364029\n",
       "$Vehicle.Age\n",
       ":   6\n",
       "$Credit.Score\n",
       ":   137882\n",
       "$Insurance.Duration\n",
       ":   1\n",
       "$Policy.Start.Date\n",
       ":   0\n",
       "$Customer.Feedback\n",
       ":   0\n",
       "$Smoking.Status\n",
       ":   0\n",
       "$Exercise.Frequency\n",
       ":   0\n",
       "$Property.Type\n",
       ":   0\n",
       "$Premium.Amount\n",
       ":   0\n",
       "\n",
       "\n"
      ],
      "text/plain": [
       "$id\n",
       "[1] 0\n",
       "\n",
       "$Age\n",
       "[1] 18705\n",
       "\n",
       "$Gender\n",
       "[1] 0\n",
       "\n",
       "$Annual.Income\n",
       "[1] 44949\n",
       "\n",
       "$Marital.Status\n",
       "[1] 0\n",
       "\n",
       "$Number.of.Dependents\n",
       "[1] 109672\n",
       "\n",
       "$Education.Level\n",
       "[1] 0\n",
       "\n",
       "$Occupation\n",
       "[1] 0\n",
       "\n",
       "$Health.Score\n",
       "[1] 74076\n",
       "\n",
       "$Location\n",
       "[1] 0\n",
       "\n",
       "$Policy.Type\n",
       "[1] 0\n",
       "\n",
       "$Previous.Claims\n",
       "[1] 364029\n",
       "\n",
       "$Vehicle.Age\n",
       "[1] 6\n",
       "\n",
       "$Credit.Score\n",
       "[1] 137882\n",
       "\n",
       "$Insurance.Duration\n",
       "[1] 1\n",
       "\n",
       "$Policy.Start.Date\n",
       "[1] 0\n",
       "\n",
       "$Customer.Feedback\n",
       "[1] 0\n",
       "\n",
       "$Smoking.Status\n",
       "[1] 0\n",
       "\n",
       "$Exercise.Frequency\n",
       "[1] 0\n",
       "\n",
       "$Property.Type\n",
       "[1] 0\n",
       "\n",
       "$Premium.Amount\n",
       "[1] 0\n"
      ]
     },
     "metadata": {},
     "output_type": "display_data"
    }
   ],
   "source": [
    "ct_na <- function(x) { sum(is.na(x)) }\n",
    "all_nas <- lapply(train, ct_na)\n",
    "all_nas"
   ]
  },
  {
   "cell_type": "code",
   "execution_count": 9,
   "id": "74a2ccad-319c-4927-b0b2-058c3e4da8d1",
   "metadata": {},
   "outputs": [
    {
     "data": {
      "text/html": [
       "TRUE"
      ],
      "text/latex": [
       "TRUE"
      ],
      "text/markdown": [
       "TRUE"
      ],
      "text/plain": [
       "[1] TRUE"
      ]
     },
     "metadata": {},
     "output_type": "display_data"
    },
    {
     "data": {
      "text/html": [
       "<style>\n",
       ".list-inline {list-style: none; margin:0; padding: 0}\n",
       ".list-inline>li {display: inline-block}\n",
       ".list-inline>li:not(:last-child)::after {content: \"\\00b7\"; padding: 0 .5ex}\n",
       "</style>\n",
       "<ol class=list-inline><li>1200000</li><li>11</li></ol>\n"
      ],
      "text/latex": [
       "\\begin{enumerate*}\n",
       "\\item 1200000\n",
       "\\item 11\n",
       "\\end{enumerate*}\n"
      ],
      "text/markdown": [
       "1. 1200000\n",
       "2. 11\n",
       "\n",
       "\n"
      ],
      "text/plain": [
       "[1] 1200000      11"
      ]
     },
     "metadata": {},
     "output_type": "display_data"
    },
    {
     "data": {
      "text/html": [
       "<table class=\"dataframe\">\n",
       "<caption>A data.frame: 3 × 11</caption>\n",
       "<thead>\n",
       "\t<tr><th></th><th scope=col>Gender</th><th scope=col>Marital.Status</th><th scope=col>Education.Level</th><th scope=col>Occupation</th><th scope=col>Location</th><th scope=col>Policy.Type</th><th scope=col>Policy.Start.Date</th><th scope=col>Customer.Feedback</th><th scope=col>Smoking.Status</th><th scope=col>Exercise.Frequency</th><th scope=col>Property.Type</th></tr>\n",
       "\t<tr><th></th><th scope=col>&lt;chr&gt;</th><th scope=col>&lt;chr&gt;</th><th scope=col>&lt;chr&gt;</th><th scope=col>&lt;chr&gt;</th><th scope=col>&lt;chr&gt;</th><th scope=col>&lt;chr&gt;</th><th scope=col>&lt;chr&gt;</th><th scope=col>&lt;chr&gt;</th><th scope=col>&lt;chr&gt;</th><th scope=col>&lt;chr&gt;</th><th scope=col>&lt;chr&gt;</th></tr>\n",
       "</thead>\n",
       "<tbody>\n",
       "\t<tr><th scope=row>1</th><td>Female</td><td>Married </td><td>Bachelor's </td><td>Self-Employed</td><td>Urban   </td><td>Premium      </td><td>2023-12-23 15:21:39.134960</td><td>Poor   </td><td>No </td><td>Weekly </td><td>House</td></tr>\n",
       "\t<tr><th scope=row>2</th><td>Female</td><td>Divorced</td><td>Master's   </td><td>             </td><td>Rural   </td><td>Comprehensive</td><td>2023-06-12 15:21:39.111551</td><td>Average</td><td>Yes</td><td>Monthly</td><td>House</td></tr>\n",
       "\t<tr><th scope=row>3</th><td>Male  </td><td>Divorced</td><td>High School</td><td>Self-Employed</td><td>Suburban</td><td>Premium      </td><td>2023-09-30 15:21:39.221386</td><td>Good   </td><td>Yes</td><td>Weekly </td><td>House</td></tr>\n",
       "</tbody>\n",
       "</table>\n"
      ],
      "text/latex": [
       "A data.frame: 3 × 11\n",
       "\\begin{tabular}{r|lllllllllll}\n",
       "  & Gender & Marital.Status & Education.Level & Occupation & Location & Policy.Type & Policy.Start.Date & Customer.Feedback & Smoking.Status & Exercise.Frequency & Property.Type\\\\\n",
       "  & <chr> & <chr> & <chr> & <chr> & <chr> & <chr> & <chr> & <chr> & <chr> & <chr> & <chr>\\\\\n",
       "\\hline\n",
       "\t1 & Female & Married  & Bachelor's  & Self-Employed & Urban    & Premium       & 2023-12-23 15:21:39.134960 & Poor    & No  & Weekly  & House\\\\\n",
       "\t2 & Female & Divorced & Master's    &               & Rural    & Comprehensive & 2023-06-12 15:21:39.111551 & Average & Yes & Monthly & House\\\\\n",
       "\t3 & Male   & Divorced & High School & Self-Employed & Suburban & Premium       & 2023-09-30 15:21:39.221386 & Good    & Yes & Weekly  & House\\\\\n",
       "\\end{tabular}\n"
      ],
      "text/markdown": [
       "\n",
       "A data.frame: 3 × 11\n",
       "\n",
       "| <!--/--> | Gender &lt;chr&gt; | Marital.Status &lt;chr&gt; | Education.Level &lt;chr&gt; | Occupation &lt;chr&gt; | Location &lt;chr&gt; | Policy.Type &lt;chr&gt; | Policy.Start.Date &lt;chr&gt; | Customer.Feedback &lt;chr&gt; | Smoking.Status &lt;chr&gt; | Exercise.Frequency &lt;chr&gt; | Property.Type &lt;chr&gt; |\n",
       "|---|---|---|---|---|---|---|---|---|---|---|---|\n",
       "| 1 | Female | Married  | Bachelor's  | Self-Employed | Urban    | Premium       | 2023-12-23 15:21:39.134960 | Poor    | No  | Weekly  | House |\n",
       "| 2 | Female | Divorced | Master's    | <!----> | Rural    | Comprehensive | 2023-06-12 15:21:39.111551 | Average | Yes | Monthly | House |\n",
       "| 3 | Male   | Divorced | High School | Self-Employed | Suburban | Premium       | 2023-09-30 15:21:39.221386 | Good    | Yes | Weekly  | House |\n",
       "\n"
      ],
      "text/plain": [
       "  Gender Marital.Status Education.Level Occupation    Location Policy.Type  \n",
       "1 Female Married        Bachelor's      Self-Employed Urban    Premium      \n",
       "2 Female Divorced       Master's                      Rural    Comprehensive\n",
       "3 Male   Divorced       High School     Self-Employed Suburban Premium      \n",
       "  Policy.Start.Date          Customer.Feedback Smoking.Status\n",
       "1 2023-12-23 15:21:39.134960 Poor              No            \n",
       "2 2023-06-12 15:21:39.111551 Average           Yes           \n",
       "3 2023-09-30 15:21:39.221386 Good              Yes           \n",
       "  Exercise.Frequency Property.Type\n",
       "1 Weekly             House        \n",
       "2 Monthly            House        \n",
       "3 Weekly             House        "
      ]
     },
     "metadata": {},
     "output_type": "display_data"
    }
   ],
   "source": [
    "is.character(train$Gender)\n",
    "getChar <- function (x) { is.character(x) }\n",
    "logis_char <- sapply(train, getChar)\n",
    "df_char <- train[, logis_char]\n",
    "dim(df_char)\n",
    "head(df_char, 3)"
   ]
  },
  {
   "cell_type": "code",
   "execution_count": null,
   "id": "c2219304-bc2a-486d-87a2-ac4ad2369793",
   "metadata": {},
   "outputs": [],
   "source": []
  },
  {
   "cell_type": "code",
   "execution_count": null,
   "id": "1a98b9e0-5f6e-4887-8a6f-5b82dc96fc3a",
   "metadata": {},
   "outputs": [],
   "source": []
  },
  {
   "cell_type": "code",
   "execution_count": 10,
   "id": "866001b1-2627-4e44-a851-0c6cf36aaf3e",
   "metadata": {},
   "outputs": [],
   "source": [
    "# Fill missing values in numeric columns\n",
    "numeric_columns <- names(select_if(train, is.numeric))\n",
    "\n",
    "for (col in numeric_columns) {\n",
    "  if (col %in% names(test)) {\n",
    "    median_value <- median(train[[col]], na.rm = TRUE)\n",
    "    train[[col]][is.na(train[[col]])] <- median_value\n",
    "    test[[col]][is.na(test[[col]])] <- median_value\n",
    "  }\n",
    "}\n"
   ]
  },
  {
   "cell_type": "code",
   "execution_count": 11,
   "id": "f7d3fdba-efd9-443c-a051-132ad3514738",
   "metadata": {},
   "outputs": [],
   "source": [
    "# Fill missing values in categorical columns\n",
    "categorical_columns <- names(select_if(train, is.character))\n",
    "\n",
    "for (col in categorical_columns) {\n",
    "  if (col %in% names(test)) {\n",
    "    train[[col]][is.na(train[[col]]) | train[[col]] == \"\"] <- \"Unknown\" \n",
    "    test[[col]][is.na(test[[col]]) | test[[col]] == \"\"] <- \"Unknown\" \n",
    "  }\n",
    "}\n"
   ]
  },
  {
   "cell_type": "code",
   "execution_count": 12,
   "id": "f487669b-941e-4003-aa68-459bdee09b32",
   "metadata": {},
   "outputs": [
    {
     "data": {
      "text/html": [
       "<table class=\"dataframe\">\n",
       "<caption>A data.frame: 3 × 21</caption>\n",
       "<thead>\n",
       "\t<tr><th></th><th scope=col>id</th><th scope=col>Age</th><th scope=col>Gender</th><th scope=col>Annual.Income</th><th scope=col>Marital.Status</th><th scope=col>Number.of.Dependents</th><th scope=col>Education.Level</th><th scope=col>Occupation</th><th scope=col>Health.Score</th><th scope=col>Location</th><th scope=col>⋯</th><th scope=col>Previous.Claims</th><th scope=col>Vehicle.Age</th><th scope=col>Credit.Score</th><th scope=col>Insurance.Duration</th><th scope=col>Policy.Start.Date</th><th scope=col>Customer.Feedback</th><th scope=col>Smoking.Status</th><th scope=col>Exercise.Frequency</th><th scope=col>Property.Type</th><th scope=col>Premium.Amount</th></tr>\n",
       "\t<tr><th></th><th scope=col>&lt;dbl&gt;</th><th scope=col>&lt;dbl&gt;</th><th scope=col>&lt;chr&gt;</th><th scope=col>&lt;dbl&gt;</th><th scope=col>&lt;chr&gt;</th><th scope=col>&lt;dbl&gt;</th><th scope=col>&lt;chr&gt;</th><th scope=col>&lt;chr&gt;</th><th scope=col>&lt;dbl&gt;</th><th scope=col>&lt;chr&gt;</th><th scope=col>⋯</th><th scope=col>&lt;dbl&gt;</th><th scope=col>&lt;dbl&gt;</th><th scope=col>&lt;dbl&gt;</th><th scope=col>&lt;dbl&gt;</th><th scope=col>&lt;chr&gt;</th><th scope=col>&lt;chr&gt;</th><th scope=col>&lt;chr&gt;</th><th scope=col>&lt;chr&gt;</th><th scope=col>&lt;chr&gt;</th><th scope=col>&lt;dbl&gt;</th></tr>\n",
       "</thead>\n",
       "<tbody>\n",
       "\t<tr><th scope=row>1</th><td>0</td><td>19</td><td>Female</td><td>10049</td><td>Married </td><td>1</td><td>Bachelor's </td><td>Self-Employed</td><td>22.59876</td><td>Urban   </td><td>⋯</td><td>2</td><td>17</td><td>372</td><td>5</td><td>2023-12-23 15:21:39.134960</td><td>Poor   </td><td>No </td><td>Weekly </td><td>House</td><td>2869</td></tr>\n",
       "\t<tr><th scope=row>2</th><td>1</td><td>39</td><td>Female</td><td>31678</td><td>Divorced</td><td>3</td><td>Master's   </td><td>Unknown      </td><td>15.56973</td><td>Rural   </td><td>⋯</td><td>1</td><td>12</td><td>694</td><td>2</td><td>2023-06-12 15:21:39.111551</td><td>Average</td><td>Yes</td><td>Monthly</td><td>House</td><td>1483</td></tr>\n",
       "\t<tr><th scope=row>3</th><td>2</td><td>23</td><td>Male  </td><td>25602</td><td>Divorced</td><td>3</td><td>High School</td><td>Self-Employed</td><td>47.17755</td><td>Suburban</td><td>⋯</td><td>1</td><td>14</td><td>595</td><td>3</td><td>2023-09-30 15:21:39.221386</td><td>Good   </td><td>Yes</td><td>Weekly </td><td>House</td><td> 567</td></tr>\n",
       "</tbody>\n",
       "</table>\n"
      ],
      "text/latex": [
       "A data.frame: 3 × 21\n",
       "\\begin{tabular}{r|lllllllllllllllllllll}\n",
       "  & id & Age & Gender & Annual.Income & Marital.Status & Number.of.Dependents & Education.Level & Occupation & Health.Score & Location & ⋯ & Previous.Claims & Vehicle.Age & Credit.Score & Insurance.Duration & Policy.Start.Date & Customer.Feedback & Smoking.Status & Exercise.Frequency & Property.Type & Premium.Amount\\\\\n",
       "  & <dbl> & <dbl> & <chr> & <dbl> & <chr> & <dbl> & <chr> & <chr> & <dbl> & <chr> & ⋯ & <dbl> & <dbl> & <dbl> & <dbl> & <chr> & <chr> & <chr> & <chr> & <chr> & <dbl>\\\\\n",
       "\\hline\n",
       "\t1 & 0 & 19 & Female & 10049 & Married  & 1 & Bachelor's  & Self-Employed & 22.59876 & Urban    & ⋯ & 2 & 17 & 372 & 5 & 2023-12-23 15:21:39.134960 & Poor    & No  & Weekly  & House & 2869\\\\\n",
       "\t2 & 1 & 39 & Female & 31678 & Divorced & 3 & Master's    & Unknown       & 15.56973 & Rural    & ⋯ & 1 & 12 & 694 & 2 & 2023-06-12 15:21:39.111551 & Average & Yes & Monthly & House & 1483\\\\\n",
       "\t3 & 2 & 23 & Male   & 25602 & Divorced & 3 & High School & Self-Employed & 47.17755 & Suburban & ⋯ & 1 & 14 & 595 & 3 & 2023-09-30 15:21:39.221386 & Good    & Yes & Weekly  & House &  567\\\\\n",
       "\\end{tabular}\n"
      ],
      "text/markdown": [
       "\n",
       "A data.frame: 3 × 21\n",
       "\n",
       "| <!--/--> | id &lt;dbl&gt; | Age &lt;dbl&gt; | Gender &lt;chr&gt; | Annual.Income &lt;dbl&gt; | Marital.Status &lt;chr&gt; | Number.of.Dependents &lt;dbl&gt; | Education.Level &lt;chr&gt; | Occupation &lt;chr&gt; | Health.Score &lt;dbl&gt; | Location &lt;chr&gt; | ⋯ ⋯ | Previous.Claims &lt;dbl&gt; | Vehicle.Age &lt;dbl&gt; | Credit.Score &lt;dbl&gt; | Insurance.Duration &lt;dbl&gt; | Policy.Start.Date &lt;chr&gt; | Customer.Feedback &lt;chr&gt; | Smoking.Status &lt;chr&gt; | Exercise.Frequency &lt;chr&gt; | Property.Type &lt;chr&gt; | Premium.Amount &lt;dbl&gt; |\n",
       "|---|---|---|---|---|---|---|---|---|---|---|---|---|---|---|---|---|---|---|---|---|---|\n",
       "| 1 | 0 | 19 | Female | 10049 | Married  | 1 | Bachelor's  | Self-Employed | 22.59876 | Urban    | ⋯ | 2 | 17 | 372 | 5 | 2023-12-23 15:21:39.134960 | Poor    | No  | Weekly  | House | 2869 |\n",
       "| 2 | 1 | 39 | Female | 31678 | Divorced | 3 | Master's    | Unknown       | 15.56973 | Rural    | ⋯ | 1 | 12 | 694 | 2 | 2023-06-12 15:21:39.111551 | Average | Yes | Monthly | House | 1483 |\n",
       "| 3 | 2 | 23 | Male   | 25602 | Divorced | 3 | High School | Self-Employed | 47.17755 | Suburban | ⋯ | 1 | 14 | 595 | 3 | 2023-09-30 15:21:39.221386 | Good    | Yes | Weekly  | House |  567 |\n",
       "\n"
      ],
      "text/plain": [
       "  id Age Gender Annual.Income Marital.Status Number.of.Dependents\n",
       "1 0  19  Female 10049         Married        1                   \n",
       "2 1  39  Female 31678         Divorced       3                   \n",
       "3 2  23  Male   25602         Divorced       3                   \n",
       "  Education.Level Occupation    Health.Score Location ⋯ Previous.Claims\n",
       "1 Bachelor's      Self-Employed 22.59876     Urban    ⋯ 2              \n",
       "2 Master's        Unknown       15.56973     Rural    ⋯ 1              \n",
       "3 High School     Self-Employed 47.17755     Suburban ⋯ 1              \n",
       "  Vehicle.Age Credit.Score Insurance.Duration Policy.Start.Date         \n",
       "1 17          372          5                  2023-12-23 15:21:39.134960\n",
       "2 12          694          2                  2023-06-12 15:21:39.111551\n",
       "3 14          595          3                  2023-09-30 15:21:39.221386\n",
       "  Customer.Feedback Smoking.Status Exercise.Frequency Property.Type\n",
       "1 Poor              No             Weekly             House        \n",
       "2 Average           Yes            Monthly            House        \n",
       "3 Good              Yes            Weekly             House        \n",
       "  Premium.Amount\n",
       "1 2869          \n",
       "2 1483          \n",
       "3  567          "
      ]
     },
     "metadata": {},
     "output_type": "display_data"
    }
   ],
   "source": [
    "head(train, 3)"
   ]
  },
  {
   "cell_type": "code",
   "execution_count": null,
   "id": "6c7193cd-8343-4798-859a-970d3ebd47d8",
   "metadata": {},
   "outputs": [],
   "source": []
  },
  {
   "cell_type": "code",
   "execution_count": 13,
   "id": "5ffe6a96-0b3a-4268-a7f5-552de1d5e4cd",
   "metadata": {},
   "outputs": [
    {
     "data": {
      "text/html": [
       "0"
      ],
      "text/latex": [
       "0"
      ],
      "text/markdown": [
       "0"
      ],
      "text/plain": [
       "[1] 0"
      ]
     },
     "metadata": {},
     "output_type": "display_data"
    },
    {
     "data": {
      "text/html": [
       "0"
      ],
      "text/latex": [
       "0"
      ],
      "text/markdown": [
       "0"
      ],
      "text/plain": [
       "[1] 0"
      ]
     },
     "metadata": {},
     "output_type": "display_data"
    }
   ],
   "source": [
    "sum(is.na(train))\n",
    "sum(is.na(test))"
   ]
  },
  {
   "cell_type": "code",
   "execution_count": 14,
   "id": "3b1c8ff6-4c41-4e3e-afc0-7679114aed07",
   "metadata": {},
   "outputs": [
    {
     "data": {
      "text/html": [
       "<table class=\"dataframe\">\n",
       "<caption>A data.frame: 6 × 21</caption>\n",
       "<thead>\n",
       "\t<tr><th></th><th scope=col>id</th><th scope=col>Age</th><th scope=col>Gender</th><th scope=col>Annual.Income</th><th scope=col>Marital.Status</th><th scope=col>Number.of.Dependents</th><th scope=col>Education.Level</th><th scope=col>Occupation</th><th scope=col>Health.Score</th><th scope=col>Location</th><th scope=col>⋯</th><th scope=col>Previous.Claims</th><th scope=col>Vehicle.Age</th><th scope=col>Credit.Score</th><th scope=col>Insurance.Duration</th><th scope=col>Policy.Start.Date</th><th scope=col>Customer.Feedback</th><th scope=col>Smoking.Status</th><th scope=col>Exercise.Frequency</th><th scope=col>Property.Type</th><th scope=col>Premium.Amount</th></tr>\n",
       "\t<tr><th></th><th scope=col>&lt;dbl&gt;</th><th scope=col>&lt;dbl&gt;</th><th scope=col>&lt;int&gt;</th><th scope=col>&lt;dbl&gt;</th><th scope=col>&lt;int&gt;</th><th scope=col>&lt;dbl&gt;</th><th scope=col>&lt;int&gt;</th><th scope=col>&lt;int&gt;</th><th scope=col>&lt;dbl&gt;</th><th scope=col>&lt;int&gt;</th><th scope=col>⋯</th><th scope=col>&lt;dbl&gt;</th><th scope=col>&lt;dbl&gt;</th><th scope=col>&lt;dbl&gt;</th><th scope=col>&lt;dbl&gt;</th><th scope=col>&lt;int&gt;</th><th scope=col>&lt;int&gt;</th><th scope=col>&lt;int&gt;</th><th scope=col>&lt;int&gt;</th><th scope=col>&lt;int&gt;</th><th scope=col>&lt;dbl&gt;</th></tr>\n",
       "</thead>\n",
       "<tbody>\n",
       "\t<tr><th scope=row>1</th><td>0</td><td>19</td><td>1</td><td> 10049</td><td>1</td><td>1</td><td>1</td><td>1</td><td>22.59876</td><td>1</td><td>⋯</td><td>2</td><td>17</td><td>372</td><td>5</td><td>1</td><td>1</td><td>1</td><td>1</td><td>1</td><td>2869</td></tr>\n",
       "\t<tr><th scope=row>2</th><td>1</td><td>39</td><td>1</td><td> 31678</td><td>2</td><td>3</td><td>2</td><td>2</td><td>15.56973</td><td>2</td><td>⋯</td><td>1</td><td>12</td><td>694</td><td>2</td><td>2</td><td>2</td><td>2</td><td>2</td><td>1</td><td>1483</td></tr>\n",
       "\t<tr><th scope=row>3</th><td>2</td><td>23</td><td>2</td><td> 25602</td><td>2</td><td>3</td><td>3</td><td>1</td><td>47.17755</td><td>3</td><td>⋯</td><td>1</td><td>14</td><td>595</td><td>3</td><td>3</td><td>3</td><td>2</td><td>1</td><td>1</td><td> 567</td></tr>\n",
       "\t<tr><th scope=row>4</th><td>3</td><td>21</td><td>2</td><td>141855</td><td>1</td><td>2</td><td>1</td><td>2</td><td>10.93814</td><td>2</td><td>⋯</td><td>1</td><td> 0</td><td>367</td><td>1</td><td>4</td><td>1</td><td>2</td><td>3</td><td>2</td><td> 765</td></tr>\n",
       "\t<tr><th scope=row>5</th><td>4</td><td>21</td><td>2</td><td> 39651</td><td>3</td><td>1</td><td>1</td><td>1</td><td>20.37609</td><td>2</td><td>⋯</td><td>0</td><td> 8</td><td>598</td><td>4</td><td>5</td><td>1</td><td>2</td><td>1</td><td>1</td><td>2022</td></tr>\n",
       "\t<tr><th scope=row>6</th><td>5</td><td>29</td><td>2</td><td> 45963</td><td>1</td><td>1</td><td>1</td><td>2</td><td>33.05320</td><td>1</td><td>⋯</td><td>2</td><td> 4</td><td>614</td><td>5</td><td>6</td><td>2</td><td>1</td><td>1</td><td>1</td><td>3202</td></tr>\n",
       "</tbody>\n",
       "</table>\n"
      ],
      "text/latex": [
       "A data.frame: 6 × 21\n",
       "\\begin{tabular}{r|lllllllllllllllllllll}\n",
       "  & id & Age & Gender & Annual.Income & Marital.Status & Number.of.Dependents & Education.Level & Occupation & Health.Score & Location & ⋯ & Previous.Claims & Vehicle.Age & Credit.Score & Insurance.Duration & Policy.Start.Date & Customer.Feedback & Smoking.Status & Exercise.Frequency & Property.Type & Premium.Amount\\\\\n",
       "  & <dbl> & <dbl> & <int> & <dbl> & <int> & <dbl> & <int> & <int> & <dbl> & <int> & ⋯ & <dbl> & <dbl> & <dbl> & <dbl> & <int> & <int> & <int> & <int> & <int> & <dbl>\\\\\n",
       "\\hline\n",
       "\t1 & 0 & 19 & 1 &  10049 & 1 & 1 & 1 & 1 & 22.59876 & 1 & ⋯ & 2 & 17 & 372 & 5 & 1 & 1 & 1 & 1 & 1 & 2869\\\\\n",
       "\t2 & 1 & 39 & 1 &  31678 & 2 & 3 & 2 & 2 & 15.56973 & 2 & ⋯ & 1 & 12 & 694 & 2 & 2 & 2 & 2 & 2 & 1 & 1483\\\\\n",
       "\t3 & 2 & 23 & 2 &  25602 & 2 & 3 & 3 & 1 & 47.17755 & 3 & ⋯ & 1 & 14 & 595 & 3 & 3 & 3 & 2 & 1 & 1 &  567\\\\\n",
       "\t4 & 3 & 21 & 2 & 141855 & 1 & 2 & 1 & 2 & 10.93814 & 2 & ⋯ & 1 &  0 & 367 & 1 & 4 & 1 & 2 & 3 & 2 &  765\\\\\n",
       "\t5 & 4 & 21 & 2 &  39651 & 3 & 1 & 1 & 1 & 20.37609 & 2 & ⋯ & 0 &  8 & 598 & 4 & 5 & 1 & 2 & 1 & 1 & 2022\\\\\n",
       "\t6 & 5 & 29 & 2 &  45963 & 1 & 1 & 1 & 2 & 33.05320 & 1 & ⋯ & 2 &  4 & 614 & 5 & 6 & 2 & 1 & 1 & 1 & 3202\\\\\n",
       "\\end{tabular}\n"
      ],
      "text/markdown": [
       "\n",
       "A data.frame: 6 × 21\n",
       "\n",
       "| <!--/--> | id &lt;dbl&gt; | Age &lt;dbl&gt; | Gender &lt;int&gt; | Annual.Income &lt;dbl&gt; | Marital.Status &lt;int&gt; | Number.of.Dependents &lt;dbl&gt; | Education.Level &lt;int&gt; | Occupation &lt;int&gt; | Health.Score &lt;dbl&gt; | Location &lt;int&gt; | ⋯ ⋯ | Previous.Claims &lt;dbl&gt; | Vehicle.Age &lt;dbl&gt; | Credit.Score &lt;dbl&gt; | Insurance.Duration &lt;dbl&gt; | Policy.Start.Date &lt;int&gt; | Customer.Feedback &lt;int&gt; | Smoking.Status &lt;int&gt; | Exercise.Frequency &lt;int&gt; | Property.Type &lt;int&gt; | Premium.Amount &lt;dbl&gt; |\n",
       "|---|---|---|---|---|---|---|---|---|---|---|---|---|---|---|---|---|---|---|---|---|---|\n",
       "| 1 | 0 | 19 | 1 |  10049 | 1 | 1 | 1 | 1 | 22.59876 | 1 | ⋯ | 2 | 17 | 372 | 5 | 1 | 1 | 1 | 1 | 1 | 2869 |\n",
       "| 2 | 1 | 39 | 1 |  31678 | 2 | 3 | 2 | 2 | 15.56973 | 2 | ⋯ | 1 | 12 | 694 | 2 | 2 | 2 | 2 | 2 | 1 | 1483 |\n",
       "| 3 | 2 | 23 | 2 |  25602 | 2 | 3 | 3 | 1 | 47.17755 | 3 | ⋯ | 1 | 14 | 595 | 3 | 3 | 3 | 2 | 1 | 1 |  567 |\n",
       "| 4 | 3 | 21 | 2 | 141855 | 1 | 2 | 1 | 2 | 10.93814 | 2 | ⋯ | 1 |  0 | 367 | 1 | 4 | 1 | 2 | 3 | 2 |  765 |\n",
       "| 5 | 4 | 21 | 2 |  39651 | 3 | 1 | 1 | 1 | 20.37609 | 2 | ⋯ | 0 |  8 | 598 | 4 | 5 | 1 | 2 | 1 | 1 | 2022 |\n",
       "| 6 | 5 | 29 | 2 |  45963 | 1 | 1 | 1 | 2 | 33.05320 | 1 | ⋯ | 2 |  4 | 614 | 5 | 6 | 2 | 1 | 1 | 1 | 3202 |\n",
       "\n"
      ],
      "text/plain": [
       "  id Age Gender Annual.Income Marital.Status Number.of.Dependents\n",
       "1 0  19  1       10049        1              1                   \n",
       "2 1  39  1       31678        2              3                   \n",
       "3 2  23  2       25602        2              3                   \n",
       "4 3  21  2      141855        1              2                   \n",
       "5 4  21  2       39651        3              1                   \n",
       "6 5  29  2       45963        1              1                   \n",
       "  Education.Level Occupation Health.Score Location ⋯ Previous.Claims\n",
       "1 1               1          22.59876     1        ⋯ 2              \n",
       "2 2               2          15.56973     2        ⋯ 1              \n",
       "3 3               1          47.17755     3        ⋯ 1              \n",
       "4 1               2          10.93814     2        ⋯ 1              \n",
       "5 1               1          20.37609     2        ⋯ 0              \n",
       "6 1               2          33.05320     1        ⋯ 2              \n",
       "  Vehicle.Age Credit.Score Insurance.Duration Policy.Start.Date\n",
       "1 17          372          5                  1                \n",
       "2 12          694          2                  2                \n",
       "3 14          595          3                  3                \n",
       "4  0          367          1                  4                \n",
       "5  8          598          4                  5                \n",
       "6  4          614          5                  6                \n",
       "  Customer.Feedback Smoking.Status Exercise.Frequency Property.Type\n",
       "1 1                 1              1                  1            \n",
       "2 2                 2              2                  1            \n",
       "3 3                 2              1                  1            \n",
       "4 1                 2              3                  2            \n",
       "5 1                 2              1                  1            \n",
       "6 2                 1              1                  1            \n",
       "  Premium.Amount\n",
       "1 2869          \n",
       "2 1483          \n",
       "3  567          \n",
       "4  765          \n",
       "5 2022          \n",
       "6 3202          "
      ]
     },
     "metadata": {},
     "output_type": "display_data"
    },
    {
     "data": {
      "text/html": [
       "<table class=\"dataframe\">\n",
       "<caption>A data.frame: 6 × 20</caption>\n",
       "<thead>\n",
       "\t<tr><th></th><th scope=col>id</th><th scope=col>Age</th><th scope=col>Gender</th><th scope=col>Annual.Income</th><th scope=col>Marital.Status</th><th scope=col>Number.of.Dependents</th><th scope=col>Education.Level</th><th scope=col>Occupation</th><th scope=col>Health.Score</th><th scope=col>Location</th><th scope=col>Policy.Type</th><th scope=col>Previous.Claims</th><th scope=col>Vehicle.Age</th><th scope=col>Credit.Score</th><th scope=col>Insurance.Duration</th><th scope=col>Policy.Start.Date</th><th scope=col>Customer.Feedback</th><th scope=col>Smoking.Status</th><th scope=col>Exercise.Frequency</th><th scope=col>Property.Type</th></tr>\n",
       "\t<tr><th></th><th scope=col>&lt;dbl&gt;</th><th scope=col>&lt;dbl&gt;</th><th scope=col>&lt;int&gt;</th><th scope=col>&lt;dbl&gt;</th><th scope=col>&lt;int&gt;</th><th scope=col>&lt;dbl&gt;</th><th scope=col>&lt;int&gt;</th><th scope=col>&lt;int&gt;</th><th scope=col>&lt;dbl&gt;</th><th scope=col>&lt;int&gt;</th><th scope=col>&lt;int&gt;</th><th scope=col>&lt;dbl&gt;</th><th scope=col>&lt;dbl&gt;</th><th scope=col>&lt;dbl&gt;</th><th scope=col>&lt;dbl&gt;</th><th scope=col>&lt;int&gt;</th><th scope=col>&lt;int&gt;</th><th scope=col>&lt;int&gt;</th><th scope=col>&lt;int&gt;</th><th scope=col>&lt;int&gt;</th></tr>\n",
       "</thead>\n",
       "<tbody>\n",
       "\t<tr><th scope=row>1</th><td>1200000</td><td>28</td><td>1</td><td>  2310</td><td>4</td><td>4</td><td>1</td><td>1</td><td> 7.657981</td><td>2</td><td>3</td><td>1</td><td>19</td><td>595</td><td>1</td><td> 91114</td><td>1</td><td>2</td><td>1</td><td>1</td></tr>\n",
       "\t<tr><th scope=row>2</th><td>1200001</td><td>31</td><td>1</td><td>126031</td><td>1</td><td>2</td><td>2</td><td>1</td><td>13.381379</td><td>3</td><td>1</td><td>1</td><td>14</td><td>372</td><td>8</td><td>138963</td><td>3</td><td>2</td><td>4</td><td>2</td></tr>\n",
       "\t<tr><th scope=row>3</th><td>1200002</td><td>47</td><td>1</td><td> 17092</td><td>2</td><td>0</td><td>4</td><td>4</td><td>24.354527</td><td>1</td><td>2</td><td>1</td><td>16</td><td>819</td><td>9</td><td> 19985</td><td>2</td><td>2</td><td>2</td><td>3</td></tr>\n",
       "\t<tr><th scope=row>4</th><td>1200003</td><td>28</td><td>1</td><td> 30424</td><td>2</td><td>3</td><td>4</td><td>1</td><td> 5.136225</td><td>3</td><td>2</td><td>1</td><td> 3</td><td>770</td><td>5</td><td>  6016</td><td>1</td><td>2</td><td>3</td><td>1</td></tr>\n",
       "\t<tr><th scope=row>5</th><td>1200004</td><td>24</td><td>2</td><td> 10863</td><td>2</td><td>2</td><td>3</td><td>4</td><td>11.844155</td><td>3</td><td>1</td><td>1</td><td>14</td><td>755</td><td>7</td><td> 68087</td><td>2</td><td>1</td><td>1</td><td>1</td></tr>\n",
       "\t<tr><th scope=row>6</th><td>1200005</td><td>43</td><td>2</td><td> 52370</td><td>1</td><td>2</td><td>1</td><td>2</td><td> 5.386224</td><td>3</td><td>3</td><td>1</td><td>15</td><td>432</td><td>2</td><td> 25226</td><td>4</td><td>1</td><td>4</td><td>3</td></tr>\n",
       "</tbody>\n",
       "</table>\n"
      ],
      "text/latex": [
       "A data.frame: 6 × 20\n",
       "\\begin{tabular}{r|llllllllllllllllllll}\n",
       "  & id & Age & Gender & Annual.Income & Marital.Status & Number.of.Dependents & Education.Level & Occupation & Health.Score & Location & Policy.Type & Previous.Claims & Vehicle.Age & Credit.Score & Insurance.Duration & Policy.Start.Date & Customer.Feedback & Smoking.Status & Exercise.Frequency & Property.Type\\\\\n",
       "  & <dbl> & <dbl> & <int> & <dbl> & <int> & <dbl> & <int> & <int> & <dbl> & <int> & <int> & <dbl> & <dbl> & <dbl> & <dbl> & <int> & <int> & <int> & <int> & <int>\\\\\n",
       "\\hline\n",
       "\t1 & 1200000 & 28 & 1 &   2310 & 4 & 4 & 1 & 1 &  7.657981 & 2 & 3 & 1 & 19 & 595 & 1 &  91114 & 1 & 2 & 1 & 1\\\\\n",
       "\t2 & 1200001 & 31 & 1 & 126031 & 1 & 2 & 2 & 1 & 13.381379 & 3 & 1 & 1 & 14 & 372 & 8 & 138963 & 3 & 2 & 4 & 2\\\\\n",
       "\t3 & 1200002 & 47 & 1 &  17092 & 2 & 0 & 4 & 4 & 24.354527 & 1 & 2 & 1 & 16 & 819 & 9 &  19985 & 2 & 2 & 2 & 3\\\\\n",
       "\t4 & 1200003 & 28 & 1 &  30424 & 2 & 3 & 4 & 1 &  5.136225 & 3 & 2 & 1 &  3 & 770 & 5 &   6016 & 1 & 2 & 3 & 1\\\\\n",
       "\t5 & 1200004 & 24 & 2 &  10863 & 2 & 2 & 3 & 4 & 11.844155 & 3 & 1 & 1 & 14 & 755 & 7 &  68087 & 2 & 1 & 1 & 1\\\\\n",
       "\t6 & 1200005 & 43 & 2 &  52370 & 1 & 2 & 1 & 2 &  5.386224 & 3 & 3 & 1 & 15 & 432 & 2 &  25226 & 4 & 1 & 4 & 3\\\\\n",
       "\\end{tabular}\n"
      ],
      "text/markdown": [
       "\n",
       "A data.frame: 6 × 20\n",
       "\n",
       "| <!--/--> | id &lt;dbl&gt; | Age &lt;dbl&gt; | Gender &lt;int&gt; | Annual.Income &lt;dbl&gt; | Marital.Status &lt;int&gt; | Number.of.Dependents &lt;dbl&gt; | Education.Level &lt;int&gt; | Occupation &lt;int&gt; | Health.Score &lt;dbl&gt; | Location &lt;int&gt; | Policy.Type &lt;int&gt; | Previous.Claims &lt;dbl&gt; | Vehicle.Age &lt;dbl&gt; | Credit.Score &lt;dbl&gt; | Insurance.Duration &lt;dbl&gt; | Policy.Start.Date &lt;int&gt; | Customer.Feedback &lt;int&gt; | Smoking.Status &lt;int&gt; | Exercise.Frequency &lt;int&gt; | Property.Type &lt;int&gt; |\n",
       "|---|---|---|---|---|---|---|---|---|---|---|---|---|---|---|---|---|---|---|---|---|\n",
       "| 1 | 1200000 | 28 | 1 |   2310 | 4 | 4 | 1 | 1 |  7.657981 | 2 | 3 | 1 | 19 | 595 | 1 |  91114 | 1 | 2 | 1 | 1 |\n",
       "| 2 | 1200001 | 31 | 1 | 126031 | 1 | 2 | 2 | 1 | 13.381379 | 3 | 1 | 1 | 14 | 372 | 8 | 138963 | 3 | 2 | 4 | 2 |\n",
       "| 3 | 1200002 | 47 | 1 |  17092 | 2 | 0 | 4 | 4 | 24.354527 | 1 | 2 | 1 | 16 | 819 | 9 |  19985 | 2 | 2 | 2 | 3 |\n",
       "| 4 | 1200003 | 28 | 1 |  30424 | 2 | 3 | 4 | 1 |  5.136225 | 3 | 2 | 1 |  3 | 770 | 5 |   6016 | 1 | 2 | 3 | 1 |\n",
       "| 5 | 1200004 | 24 | 2 |  10863 | 2 | 2 | 3 | 4 | 11.844155 | 3 | 1 | 1 | 14 | 755 | 7 |  68087 | 2 | 1 | 1 | 1 |\n",
       "| 6 | 1200005 | 43 | 2 |  52370 | 1 | 2 | 1 | 2 |  5.386224 | 3 | 3 | 1 | 15 | 432 | 2 |  25226 | 4 | 1 | 4 | 3 |\n",
       "\n"
      ],
      "text/plain": [
       "  id      Age Gender Annual.Income Marital.Status Number.of.Dependents\n",
       "1 1200000 28  1        2310        4              4                   \n",
       "2 1200001 31  1      126031        1              2                   \n",
       "3 1200002 47  1       17092        2              0                   \n",
       "4 1200003 28  1       30424        2              3                   \n",
       "5 1200004 24  2       10863        2              2                   \n",
       "6 1200005 43  2       52370        1              2                   \n",
       "  Education.Level Occupation Health.Score Location Policy.Type Previous.Claims\n",
       "1 1               1           7.657981    2        3           1              \n",
       "2 2               1          13.381379    3        1           1              \n",
       "3 4               4          24.354527    1        2           1              \n",
       "4 4               1           5.136225    3        2           1              \n",
       "5 3               4          11.844155    3        1           1              \n",
       "6 1               2           5.386224    3        3           1              \n",
       "  Vehicle.Age Credit.Score Insurance.Duration Policy.Start.Date\n",
       "1 19          595          1                   91114           \n",
       "2 14          372          8                  138963           \n",
       "3 16          819          9                   19985           \n",
       "4  3          770          5                    6016           \n",
       "5 14          755          7                   68087           \n",
       "6 15          432          2                   25226           \n",
       "  Customer.Feedback Smoking.Status Exercise.Frequency Property.Type\n",
       "1 1                 2              1                  1            \n",
       "2 3                 2              4                  2            \n",
       "3 2                 2              2                  3            \n",
       "4 1                 2              3                  1            \n",
       "5 2                 1              1                  1            \n",
       "6 4                 1              4                  3            "
      ]
     },
     "metadata": {},
     "output_type": "display_data"
    }
   ],
   "source": [
    "# Fill missing values in numeric columns\n",
    "numeric_columns <- names(select_if(train, is.numeric))\n",
    "\n",
    "for (col in numeric_columns) {\n",
    "  if (col %in% names(test)) {\n",
    "    median_value <- median(train[[col]], na.rm = TRUE)\n",
    "    train[[col]][is.na(train[[col]])] <- median_value\n",
    "    test[[col]][is.na(test[[col]])] <- median_value\n",
    "  }\n",
    "}\n",
    "\n",
    "# Fill missing values and empty strings in categorical columns\n",
    "categorical_columns <- names(select_if(train, is.character))\n",
    "\n",
    "for (col in categorical_columns) {\n",
    "  if (col %in% names(test)) {\n",
    "    # Handle missing and empty values\n",
    "    train[[col]][is.na(train[[col]]) | train[[col]] == \"\"] <- \"Unknown\"\n",
    "    test[[col]][is.na(test[[col]]) | test[[col]] == \"\"] <- \"Unknown\"\n",
    "    \n",
    "    # Encode as factors to numerical\n",
    "    levels_train <- unique(train[[col]])\n",
    "    train[[col]] <- as.integer(factor(train[[col]], levels = levels_train))\n",
    "    test[[col]] <- as.integer(factor(test[[col]], levels = levels_train))\n",
    "  }\n",
    "}\n",
    "\n",
    "# View the updated data\n",
    "head(train)\n",
    "head(test)\n"
   ]
  },
  {
   "cell_type": "code",
   "execution_count": null,
   "id": "e26ab911-c0e9-4170-80c0-088de9f57167",
   "metadata": {},
   "outputs": [],
   "source": []
  },
  {
   "cell_type": "code",
   "execution_count": 15,
   "id": "b189ca0b-0f53-426c-a75d-0d166121c05e",
   "metadata": {},
   "outputs": [],
   "source": [
    "# Exclude target column\n",
    "target_column <- \"Premium.Amount\"\n",
    "numerical_columns <- setdiff(names(select_if(train, is.numeric)), target_column)\n"
   ]
  },
  {
   "cell_type": "code",
   "execution_count": 16,
   "id": "5671e306-1be7-4e01-91c2-d7b024712009",
   "metadata": {},
   "outputs": [
    {
     "data": {
      "text/html": [
       "<table class=\"dataframe\">\n",
       "<caption>A data.frame: 6 × 21</caption>\n",
       "<thead>\n",
       "\t<tr><th></th><th scope=col>id</th><th scope=col>Age</th><th scope=col>Gender</th><th scope=col>Annual.Income</th><th scope=col>Marital.Status</th><th scope=col>Number.of.Dependents</th><th scope=col>Education.Level</th><th scope=col>Occupation</th><th scope=col>Health.Score</th><th scope=col>Location</th><th scope=col>⋯</th><th scope=col>Previous.Claims</th><th scope=col>Vehicle.Age</th><th scope=col>Credit.Score</th><th scope=col>Insurance.Duration</th><th scope=col>Policy.Start.Date</th><th scope=col>Customer.Feedback</th><th scope=col>Smoking.Status</th><th scope=col>Exercise.Frequency</th><th scope=col>Property.Type</th><th scope=col>Premium.Amount</th></tr>\n",
       "\t<tr><th></th><th scope=col>&lt;dbl&gt;</th><th scope=col>&lt;dbl&gt;</th><th scope=col>&lt;dbl&gt;</th><th scope=col>&lt;dbl&gt;</th><th scope=col>&lt;dbl&gt;</th><th scope=col>&lt;dbl&gt;</th><th scope=col>&lt;dbl&gt;</th><th scope=col>&lt;dbl&gt;</th><th scope=col>&lt;dbl&gt;</th><th scope=col>&lt;dbl&gt;</th><th scope=col>⋯</th><th scope=col>&lt;dbl&gt;</th><th scope=col>&lt;dbl&gt;</th><th scope=col>&lt;dbl&gt;</th><th scope=col>&lt;dbl&gt;</th><th scope=col>&lt;dbl&gt;</th><th scope=col>&lt;dbl&gt;</th><th scope=col>&lt;dbl&gt;</th><th scope=col>&lt;dbl&gt;</th><th scope=col>&lt;dbl&gt;</th><th scope=col>&lt;dbl&gt;</th></tr>\n",
       "</thead>\n",
       "<tbody>\n",
       "\t<tr><th scope=row>1</th><td>-1.732049</td><td>-1.6482999</td><td>-1.0042938</td><td>-0.70741367</td><td>-1.21693937</td><td>-0.746861392</td><td>-1.3306379</td><td>-1.3446842</td><td>-0.2496095</td><td>-1.229596877</td><td>⋯</td><td> 1.216738815</td><td> 1.2863374</td><td>-1.56737412</td><td>-0.007022686</td><td>-1.290008</td><td>-1.2091332</td><td>-1.0031261</td><td>-1.3272385</td><td>-1.22403788</td><td>2869</td></tr>\n",
       "\t<tr><th scope=row>2</th><td>-1.732046</td><td>-0.1595423</td><td>-1.0042938</td><td>-0.02328945</td><td>-0.03748026</td><td> 0.733499897</td><td>-0.4401924</td><td>-0.4242797</td><td>-0.8441097</td><td>-0.004116593</td><td>⋯</td><td>-0.002283635</td><td> 0.4207126</td><td> 0.71462973</td><td>-1.163390495</td><td>-1.289985</td><td>-0.1334581</td><td> 0.9968828</td><td>-0.4360916</td><td>-1.22403788</td><td>1483</td></tr>\n",
       "\t<tr><th scope=row>3</th><td>-1.732043</td><td>-1.3505484</td><td> 0.9957237</td><td>-0.21547304</td><td>-0.03748026</td><td> 0.733499897</td><td> 0.4502530</td><td>-1.3446842</td><td> 1.8292114</td><td> 1.221363692</td><td>⋯</td><td>-0.002283635</td><td> 0.7669625</td><td> 0.01301985</td><td>-0.777934559</td><td>-1.289963</td><td> 0.9422170</td><td> 0.9968828</td><td>-1.3272385</td><td>-1.22403788</td><td> 567</td></tr>\n",
       "\t<tr><th scope=row>4</th><td>-1.732040</td><td>-1.4994241</td><td> 0.9957237</td><td> 3.46160370</td><td>-1.21693937</td><td>-0.006680747</td><td>-1.3306379</td><td>-0.4242797</td><td>-1.2358393</td><td>-0.004116593</td><td>⋯</td><td>-0.002283635</td><td>-1.6567871</td><td>-1.60280896</td><td>-1.548846431</td><td>-1.289941</td><td>-1.2091332</td><td> 0.9968828</td><td> 0.4550552</td><td> 0.00068993</td><td> 765</td></tr>\n",
       "\t<tr><th scope=row>5</th><td>-1.732037</td><td>-1.4994241</td><td> 0.9957237</td><td> 0.22889615</td><td> 1.14197885</td><td>-0.746861392</td><td>-1.3306379</td><td>-1.3446842</td><td>-0.4375979</td><td>-0.004116593</td><td>⋯</td><td>-1.221306086</td><td>-0.2717873</td><td> 0.03428076</td><td>-0.392478622</td><td>-1.289919</td><td>-1.2091332</td><td> 0.9968828</td><td>-1.3272385</td><td>-1.22403788</td><td>2022</td></tr>\n",
       "\t<tr><th scope=row>6</th><td>-1.732034</td><td>-0.9039211</td><td> 0.9957237</td><td> 0.42854440</td><td>-1.21693937</td><td>-0.746861392</td><td>-1.3306379</td><td>-0.4242797</td><td> 0.6346042</td><td>-1.229596877</td><td>⋯</td><td> 1.216738815</td><td>-0.9642872</td><td> 0.14767225</td><td>-0.007022686</td><td>-1.289896</td><td>-0.1334581</td><td>-1.0031261</td><td>-1.3272385</td><td>-1.22403788</td><td>3202</td></tr>\n",
       "</tbody>\n",
       "</table>\n"
      ],
      "text/latex": [
       "A data.frame: 6 × 21\n",
       "\\begin{tabular}{r|lllllllllllllllllllll}\n",
       "  & id & Age & Gender & Annual.Income & Marital.Status & Number.of.Dependents & Education.Level & Occupation & Health.Score & Location & ⋯ & Previous.Claims & Vehicle.Age & Credit.Score & Insurance.Duration & Policy.Start.Date & Customer.Feedback & Smoking.Status & Exercise.Frequency & Property.Type & Premium.Amount\\\\\n",
       "  & <dbl> & <dbl> & <dbl> & <dbl> & <dbl> & <dbl> & <dbl> & <dbl> & <dbl> & <dbl> & ⋯ & <dbl> & <dbl> & <dbl> & <dbl> & <dbl> & <dbl> & <dbl> & <dbl> & <dbl> & <dbl>\\\\\n",
       "\\hline\n",
       "\t1 & -1.732049 & -1.6482999 & -1.0042938 & -0.70741367 & -1.21693937 & -0.746861392 & -1.3306379 & -1.3446842 & -0.2496095 & -1.229596877 & ⋯ &  1.216738815 &  1.2863374 & -1.56737412 & -0.007022686 & -1.290008 & -1.2091332 & -1.0031261 & -1.3272385 & -1.22403788 & 2869\\\\\n",
       "\t2 & -1.732046 & -0.1595423 & -1.0042938 & -0.02328945 & -0.03748026 &  0.733499897 & -0.4401924 & -0.4242797 & -0.8441097 & -0.004116593 & ⋯ & -0.002283635 &  0.4207126 &  0.71462973 & -1.163390495 & -1.289985 & -0.1334581 &  0.9968828 & -0.4360916 & -1.22403788 & 1483\\\\\n",
       "\t3 & -1.732043 & -1.3505484 &  0.9957237 & -0.21547304 & -0.03748026 &  0.733499897 &  0.4502530 & -1.3446842 &  1.8292114 &  1.221363692 & ⋯ & -0.002283635 &  0.7669625 &  0.01301985 & -0.777934559 & -1.289963 &  0.9422170 &  0.9968828 & -1.3272385 & -1.22403788 &  567\\\\\n",
       "\t4 & -1.732040 & -1.4994241 &  0.9957237 &  3.46160370 & -1.21693937 & -0.006680747 & -1.3306379 & -0.4242797 & -1.2358393 & -0.004116593 & ⋯ & -0.002283635 & -1.6567871 & -1.60280896 & -1.548846431 & -1.289941 & -1.2091332 &  0.9968828 &  0.4550552 &  0.00068993 &  765\\\\\n",
       "\t5 & -1.732037 & -1.4994241 &  0.9957237 &  0.22889615 &  1.14197885 & -0.746861392 & -1.3306379 & -1.3446842 & -0.4375979 & -0.004116593 & ⋯ & -1.221306086 & -0.2717873 &  0.03428076 & -0.392478622 & -1.289919 & -1.2091332 &  0.9968828 & -1.3272385 & -1.22403788 & 2022\\\\\n",
       "\t6 & -1.732034 & -0.9039211 &  0.9957237 &  0.42854440 & -1.21693937 & -0.746861392 & -1.3306379 & -0.4242797 &  0.6346042 & -1.229596877 & ⋯ &  1.216738815 & -0.9642872 &  0.14767225 & -0.007022686 & -1.289896 & -0.1334581 & -1.0031261 & -1.3272385 & -1.22403788 & 3202\\\\\n",
       "\\end{tabular}\n"
      ],
      "text/markdown": [
       "\n",
       "A data.frame: 6 × 21\n",
       "\n",
       "| <!--/--> | id &lt;dbl&gt; | Age &lt;dbl&gt; | Gender &lt;dbl&gt; | Annual.Income &lt;dbl&gt; | Marital.Status &lt;dbl&gt; | Number.of.Dependents &lt;dbl&gt; | Education.Level &lt;dbl&gt; | Occupation &lt;dbl&gt; | Health.Score &lt;dbl&gt; | Location &lt;dbl&gt; | ⋯ ⋯ | Previous.Claims &lt;dbl&gt; | Vehicle.Age &lt;dbl&gt; | Credit.Score &lt;dbl&gt; | Insurance.Duration &lt;dbl&gt; | Policy.Start.Date &lt;dbl&gt; | Customer.Feedback &lt;dbl&gt; | Smoking.Status &lt;dbl&gt; | Exercise.Frequency &lt;dbl&gt; | Property.Type &lt;dbl&gt; | Premium.Amount &lt;dbl&gt; |\n",
       "|---|---|---|---|---|---|---|---|---|---|---|---|---|---|---|---|---|---|---|---|---|---|\n",
       "| 1 | -1.732049 | -1.6482999 | -1.0042938 | -0.70741367 | -1.21693937 | -0.746861392 | -1.3306379 | -1.3446842 | -0.2496095 | -1.229596877 | ⋯ |  1.216738815 |  1.2863374 | -1.56737412 | -0.007022686 | -1.290008 | -1.2091332 | -1.0031261 | -1.3272385 | -1.22403788 | 2869 |\n",
       "| 2 | -1.732046 | -0.1595423 | -1.0042938 | -0.02328945 | -0.03748026 |  0.733499897 | -0.4401924 | -0.4242797 | -0.8441097 | -0.004116593 | ⋯ | -0.002283635 |  0.4207126 |  0.71462973 | -1.163390495 | -1.289985 | -0.1334581 |  0.9968828 | -0.4360916 | -1.22403788 | 1483 |\n",
       "| 3 | -1.732043 | -1.3505484 |  0.9957237 | -0.21547304 | -0.03748026 |  0.733499897 |  0.4502530 | -1.3446842 |  1.8292114 |  1.221363692 | ⋯ | -0.002283635 |  0.7669625 |  0.01301985 | -0.777934559 | -1.289963 |  0.9422170 |  0.9968828 | -1.3272385 | -1.22403788 |  567 |\n",
       "| 4 | -1.732040 | -1.4994241 |  0.9957237 |  3.46160370 | -1.21693937 | -0.006680747 | -1.3306379 | -0.4242797 | -1.2358393 | -0.004116593 | ⋯ | -0.002283635 | -1.6567871 | -1.60280896 | -1.548846431 | -1.289941 | -1.2091332 |  0.9968828 |  0.4550552 |  0.00068993 |  765 |\n",
       "| 5 | -1.732037 | -1.4994241 |  0.9957237 |  0.22889615 |  1.14197885 | -0.746861392 | -1.3306379 | -1.3446842 | -0.4375979 | -0.004116593 | ⋯ | -1.221306086 | -0.2717873 |  0.03428076 | -0.392478622 | -1.289919 | -1.2091332 |  0.9968828 | -1.3272385 | -1.22403788 | 2022 |\n",
       "| 6 | -1.732034 | -0.9039211 |  0.9957237 |  0.42854440 | -1.21693937 | -0.746861392 | -1.3306379 | -0.4242797 |  0.6346042 | -1.229596877 | ⋯ |  1.216738815 | -0.9642872 |  0.14767225 | -0.007022686 | -1.289896 | -0.1334581 | -1.0031261 | -1.3272385 | -1.22403788 | 3202 |\n",
       "\n"
      ],
      "text/plain": [
       "  id        Age        Gender     Annual.Income Marital.Status\n",
       "1 -1.732049 -1.6482999 -1.0042938 -0.70741367   -1.21693937   \n",
       "2 -1.732046 -0.1595423 -1.0042938 -0.02328945   -0.03748026   \n",
       "3 -1.732043 -1.3505484  0.9957237 -0.21547304   -0.03748026   \n",
       "4 -1.732040 -1.4994241  0.9957237  3.46160370   -1.21693937   \n",
       "5 -1.732037 -1.4994241  0.9957237  0.22889615    1.14197885   \n",
       "6 -1.732034 -0.9039211  0.9957237  0.42854440   -1.21693937   \n",
       "  Number.of.Dependents Education.Level Occupation Health.Score Location     ⋯\n",
       "1 -0.746861392         -1.3306379      -1.3446842 -0.2496095   -1.229596877 ⋯\n",
       "2  0.733499897         -0.4401924      -0.4242797 -0.8441097   -0.004116593 ⋯\n",
       "3  0.733499897          0.4502530      -1.3446842  1.8292114    1.221363692 ⋯\n",
       "4 -0.006680747         -1.3306379      -0.4242797 -1.2358393   -0.004116593 ⋯\n",
       "5 -0.746861392         -1.3306379      -1.3446842 -0.4375979   -0.004116593 ⋯\n",
       "6 -0.746861392         -1.3306379      -0.4242797  0.6346042   -1.229596877 ⋯\n",
       "  Previous.Claims Vehicle.Age Credit.Score Insurance.Duration Policy.Start.Date\n",
       "1  1.216738815     1.2863374  -1.56737412  -0.007022686       -1.290008        \n",
       "2 -0.002283635     0.4207126   0.71462973  -1.163390495       -1.289985        \n",
       "3 -0.002283635     0.7669625   0.01301985  -0.777934559       -1.289963        \n",
       "4 -0.002283635    -1.6567871  -1.60280896  -1.548846431       -1.289941        \n",
       "5 -1.221306086    -0.2717873   0.03428076  -0.392478622       -1.289919        \n",
       "6  1.216738815    -0.9642872   0.14767225  -0.007022686       -1.289896        \n",
       "  Customer.Feedback Smoking.Status Exercise.Frequency Property.Type\n",
       "1 -1.2091332        -1.0031261     -1.3272385         -1.22403788  \n",
       "2 -0.1334581         0.9968828     -0.4360916         -1.22403788  \n",
       "3  0.9422170         0.9968828     -1.3272385         -1.22403788  \n",
       "4 -1.2091332         0.9968828      0.4550552          0.00068993  \n",
       "5 -1.2091332         0.9968828     -1.3272385         -1.22403788  \n",
       "6 -0.1334581        -1.0031261     -1.3272385         -1.22403788  \n",
       "  Premium.Amount\n",
       "1 2869          \n",
       "2 1483          \n",
       "3  567          \n",
       "4  765          \n",
       "5 2022          \n",
       "6 3202          "
      ]
     },
     "metadata": {},
     "output_type": "display_data"
    },
    {
     "data": {
      "text/html": [
       "<table class=\"dataframe\">\n",
       "<caption>A data.frame: 6 × 20</caption>\n",
       "<thead>\n",
       "\t<tr><th></th><th scope=col>id</th><th scope=col>Age</th><th scope=col>Gender</th><th scope=col>Annual.Income</th><th scope=col>Marital.Status</th><th scope=col>Number.of.Dependents</th><th scope=col>Education.Level</th><th scope=col>Occupation</th><th scope=col>Health.Score</th><th scope=col>Location</th><th scope=col>Policy.Type</th><th scope=col>Previous.Claims</th><th scope=col>Vehicle.Age</th><th scope=col>Credit.Score</th><th scope=col>Insurance.Duration</th><th scope=col>Policy.Start.Date</th><th scope=col>Customer.Feedback</th><th scope=col>Smoking.Status</th><th scope=col>Exercise.Frequency</th><th scope=col>Property.Type</th></tr>\n",
       "\t<tr><th></th><th scope=col>&lt;dbl&gt;</th><th scope=col>&lt;dbl&gt;</th><th scope=col>&lt;dbl&gt;</th><th scope=col>&lt;dbl&gt;</th><th scope=col>&lt;dbl&gt;</th><th scope=col>&lt;dbl&gt;</th><th scope=col>&lt;dbl&gt;</th><th scope=col>&lt;dbl&gt;</th><th scope=col>&lt;dbl&gt;</th><th scope=col>&lt;dbl&gt;</th><th scope=col>&lt;dbl&gt;</th><th scope=col>&lt;dbl&gt;</th><th scope=col>&lt;dbl&gt;</th><th scope=col>&lt;dbl&gt;</th><th scope=col>&lt;dbl&gt;</th><th scope=col>&lt;dbl&gt;</th><th scope=col>&lt;dbl&gt;</th><th scope=col>&lt;dbl&gt;</th><th scope=col>&lt;dbl&gt;</th><th scope=col>&lt;dbl&gt;</th></tr>\n",
       "</thead>\n",
       "<tbody>\n",
       "\t<tr><th scope=row>1</th><td>1.732052</td><td>-0.9783590</td><td>-1.0042938</td><td>-0.95219786</td><td> 2.32143795</td><td> 1.473680542</td><td>-1.3306379</td><td>-1.3446842</td><td>-1.5132685</td><td>-0.004116593</td><td> 1.227804259</td><td>-0.002283635</td><td> 1.6325874</td><td> 0.01301985</td><td>-1.548846431</td><td> 0.7359770</td><td>-1.2091332</td><td> 0.9968828</td><td>-1.3272385</td><td>-1.22403788</td></tr>\n",
       "\t<tr><th scope=row>2</th><td>1.732054</td><td>-0.7550453</td><td>-1.0042938</td><td> 2.96109135</td><td>-1.21693937</td><td>-0.006680747</td><td>-0.4401924</td><td>-1.3446842</td><td>-1.0291958</td><td> 1.221363692</td><td>-1.221086136</td><td>-0.002283635</td><td> 0.7669625</td><td>-1.56737412</td><td> 1.149345123</td><td> 1.7999452</td><td> 0.9422170</td><td> 0.9968828</td><td> 1.3462021</td><td> 0.00068993</td></tr>\n",
       "\t<tr><th scope=row>3</th><td>1.732057</td><td> 0.4359608</td><td>-1.0042938</td><td>-0.48464392</td><td>-0.03748026</td><td>-1.487042036</td><td> 1.3406984</td><td> 1.4165295</td><td>-0.1011106</td><td>-1.229596877</td><td> 0.003359061</td><td>-0.002283635</td><td> 1.1132125</td><td> 1.60050079</td><td> 1.534801059</td><td>-0.8456443</td><td>-0.1334581</td><td> 0.9968828</td><td>-0.4360916</td><td> 1.22541774</td></tr>\n",
       "\t<tr><th scope=row>4</th><td>1.732060</td><td>-0.9783590</td><td>-1.0042938</td><td>-0.06295341</td><td>-0.03748026</td><td> 0.733499897</td><td> 1.3406984</td><td>-1.3446842</td><td>-1.7265531</td><td> 1.221363692</td><td> 0.003359061</td><td>-0.002283635</td><td>-1.1374121</td><td> 1.25323934</td><td>-0.007022686</td><td>-1.1562583</td><td>-1.2091332</td><td> 0.9968828</td><td> 0.4550552</td><td>-1.22403788</td></tr>\n",
       "\t<tr><th scope=row>5</th><td>1.732063</td><td>-1.2761105</td><td> 0.9957237</td><td>-0.68166689</td><td>-0.03748026</td><td>-0.006680747</td><td> 0.4502530</td><td> 1.4165295</td><td>-1.1592109</td><td> 1.221363692</td><td>-1.221086136</td><td>-0.002283635</td><td> 0.7669625</td><td> 1.14693481</td><td> 0.763889187</td><td> 0.2239496</td><td>-0.1334581</td><td>-1.0031261</td><td>-1.3272385</td><td>-1.22403788</td></tr>\n",
       "\t<tr><th scope=row>6</th><td>1.732066</td><td> 0.1382092</td><td> 0.9957237</td><td> 0.63119750</td><td>-1.21693937</td><td>-0.006680747</td><td>-1.3306379</td><td>-0.4242797</td><td>-1.7054088</td><td> 1.221363692</td><td> 1.227804259</td><td>-0.002283635</td><td> 0.9400875</td><td>-1.14215601</td><td>-1.163390495</td><td>-0.7291056</td><td> 2.0178921</td><td>-1.0031261</td><td> 1.3462021</td><td> 1.22541774</td></tr>\n",
       "</tbody>\n",
       "</table>\n"
      ],
      "text/latex": [
       "A data.frame: 6 × 20\n",
       "\\begin{tabular}{r|llllllllllllllllllll}\n",
       "  & id & Age & Gender & Annual.Income & Marital.Status & Number.of.Dependents & Education.Level & Occupation & Health.Score & Location & Policy.Type & Previous.Claims & Vehicle.Age & Credit.Score & Insurance.Duration & Policy.Start.Date & Customer.Feedback & Smoking.Status & Exercise.Frequency & Property.Type\\\\\n",
       "  & <dbl> & <dbl> & <dbl> & <dbl> & <dbl> & <dbl> & <dbl> & <dbl> & <dbl> & <dbl> & <dbl> & <dbl> & <dbl> & <dbl> & <dbl> & <dbl> & <dbl> & <dbl> & <dbl> & <dbl>\\\\\n",
       "\\hline\n",
       "\t1 & 1.732052 & -0.9783590 & -1.0042938 & -0.95219786 &  2.32143795 &  1.473680542 & -1.3306379 & -1.3446842 & -1.5132685 & -0.004116593 &  1.227804259 & -0.002283635 &  1.6325874 &  0.01301985 & -1.548846431 &  0.7359770 & -1.2091332 &  0.9968828 & -1.3272385 & -1.22403788\\\\\n",
       "\t2 & 1.732054 & -0.7550453 & -1.0042938 &  2.96109135 & -1.21693937 & -0.006680747 & -0.4401924 & -1.3446842 & -1.0291958 &  1.221363692 & -1.221086136 & -0.002283635 &  0.7669625 & -1.56737412 &  1.149345123 &  1.7999452 &  0.9422170 &  0.9968828 &  1.3462021 &  0.00068993\\\\\n",
       "\t3 & 1.732057 &  0.4359608 & -1.0042938 & -0.48464392 & -0.03748026 & -1.487042036 &  1.3406984 &  1.4165295 & -0.1011106 & -1.229596877 &  0.003359061 & -0.002283635 &  1.1132125 &  1.60050079 &  1.534801059 & -0.8456443 & -0.1334581 &  0.9968828 & -0.4360916 &  1.22541774\\\\\n",
       "\t4 & 1.732060 & -0.9783590 & -1.0042938 & -0.06295341 & -0.03748026 &  0.733499897 &  1.3406984 & -1.3446842 & -1.7265531 &  1.221363692 &  0.003359061 & -0.002283635 & -1.1374121 &  1.25323934 & -0.007022686 & -1.1562583 & -1.2091332 &  0.9968828 &  0.4550552 & -1.22403788\\\\\n",
       "\t5 & 1.732063 & -1.2761105 &  0.9957237 & -0.68166689 & -0.03748026 & -0.006680747 &  0.4502530 &  1.4165295 & -1.1592109 &  1.221363692 & -1.221086136 & -0.002283635 &  0.7669625 &  1.14693481 &  0.763889187 &  0.2239496 & -0.1334581 & -1.0031261 & -1.3272385 & -1.22403788\\\\\n",
       "\t6 & 1.732066 &  0.1382092 &  0.9957237 &  0.63119750 & -1.21693937 & -0.006680747 & -1.3306379 & -0.4242797 & -1.7054088 &  1.221363692 &  1.227804259 & -0.002283635 &  0.9400875 & -1.14215601 & -1.163390495 & -0.7291056 &  2.0178921 & -1.0031261 &  1.3462021 &  1.22541774\\\\\n",
       "\\end{tabular}\n"
      ],
      "text/markdown": [
       "\n",
       "A data.frame: 6 × 20\n",
       "\n",
       "| <!--/--> | id &lt;dbl&gt; | Age &lt;dbl&gt; | Gender &lt;dbl&gt; | Annual.Income &lt;dbl&gt; | Marital.Status &lt;dbl&gt; | Number.of.Dependents &lt;dbl&gt; | Education.Level &lt;dbl&gt; | Occupation &lt;dbl&gt; | Health.Score &lt;dbl&gt; | Location &lt;dbl&gt; | Policy.Type &lt;dbl&gt; | Previous.Claims &lt;dbl&gt; | Vehicle.Age &lt;dbl&gt; | Credit.Score &lt;dbl&gt; | Insurance.Duration &lt;dbl&gt; | Policy.Start.Date &lt;dbl&gt; | Customer.Feedback &lt;dbl&gt; | Smoking.Status &lt;dbl&gt; | Exercise.Frequency &lt;dbl&gt; | Property.Type &lt;dbl&gt; |\n",
       "|---|---|---|---|---|---|---|---|---|---|---|---|---|---|---|---|---|---|---|---|---|\n",
       "| 1 | 1.732052 | -0.9783590 | -1.0042938 | -0.95219786 |  2.32143795 |  1.473680542 | -1.3306379 | -1.3446842 | -1.5132685 | -0.004116593 |  1.227804259 | -0.002283635 |  1.6325874 |  0.01301985 | -1.548846431 |  0.7359770 | -1.2091332 |  0.9968828 | -1.3272385 | -1.22403788 |\n",
       "| 2 | 1.732054 | -0.7550453 | -1.0042938 |  2.96109135 | -1.21693937 | -0.006680747 | -0.4401924 | -1.3446842 | -1.0291958 |  1.221363692 | -1.221086136 | -0.002283635 |  0.7669625 | -1.56737412 |  1.149345123 |  1.7999452 |  0.9422170 |  0.9968828 |  1.3462021 |  0.00068993 |\n",
       "| 3 | 1.732057 |  0.4359608 | -1.0042938 | -0.48464392 | -0.03748026 | -1.487042036 |  1.3406984 |  1.4165295 | -0.1011106 | -1.229596877 |  0.003359061 | -0.002283635 |  1.1132125 |  1.60050079 |  1.534801059 | -0.8456443 | -0.1334581 |  0.9968828 | -0.4360916 |  1.22541774 |\n",
       "| 4 | 1.732060 | -0.9783590 | -1.0042938 | -0.06295341 | -0.03748026 |  0.733499897 |  1.3406984 | -1.3446842 | -1.7265531 |  1.221363692 |  0.003359061 | -0.002283635 | -1.1374121 |  1.25323934 | -0.007022686 | -1.1562583 | -1.2091332 |  0.9968828 |  0.4550552 | -1.22403788 |\n",
       "| 5 | 1.732063 | -1.2761105 |  0.9957237 | -0.68166689 | -0.03748026 | -0.006680747 |  0.4502530 |  1.4165295 | -1.1592109 |  1.221363692 | -1.221086136 | -0.002283635 |  0.7669625 |  1.14693481 |  0.763889187 |  0.2239496 | -0.1334581 | -1.0031261 | -1.3272385 | -1.22403788 |\n",
       "| 6 | 1.732066 |  0.1382092 |  0.9957237 |  0.63119750 | -1.21693937 | -0.006680747 | -1.3306379 | -0.4242797 | -1.7054088 |  1.221363692 |  1.227804259 | -0.002283635 |  0.9400875 | -1.14215601 | -1.163390495 | -0.7291056 |  2.0178921 | -1.0031261 |  1.3462021 |  1.22541774 |\n",
       "\n"
      ],
      "text/plain": [
       "  id       Age        Gender     Annual.Income Marital.Status\n",
       "1 1.732052 -0.9783590 -1.0042938 -0.95219786    2.32143795   \n",
       "2 1.732054 -0.7550453 -1.0042938  2.96109135   -1.21693937   \n",
       "3 1.732057  0.4359608 -1.0042938 -0.48464392   -0.03748026   \n",
       "4 1.732060 -0.9783590 -1.0042938 -0.06295341   -0.03748026   \n",
       "5 1.732063 -1.2761105  0.9957237 -0.68166689   -0.03748026   \n",
       "6 1.732066  0.1382092  0.9957237  0.63119750   -1.21693937   \n",
       "  Number.of.Dependents Education.Level Occupation Health.Score Location    \n",
       "1  1.473680542         -1.3306379      -1.3446842 -1.5132685   -0.004116593\n",
       "2 -0.006680747         -0.4401924      -1.3446842 -1.0291958    1.221363692\n",
       "3 -1.487042036          1.3406984       1.4165295 -0.1011106   -1.229596877\n",
       "4  0.733499897          1.3406984      -1.3446842 -1.7265531    1.221363692\n",
       "5 -0.006680747          0.4502530       1.4165295 -1.1592109    1.221363692\n",
       "6 -0.006680747         -1.3306379      -0.4242797 -1.7054088    1.221363692\n",
       "  Policy.Type  Previous.Claims Vehicle.Age Credit.Score Insurance.Duration\n",
       "1  1.227804259 -0.002283635     1.6325874   0.01301985  -1.548846431      \n",
       "2 -1.221086136 -0.002283635     0.7669625  -1.56737412   1.149345123      \n",
       "3  0.003359061 -0.002283635     1.1132125   1.60050079   1.534801059      \n",
       "4  0.003359061 -0.002283635    -1.1374121   1.25323934  -0.007022686      \n",
       "5 -1.221086136 -0.002283635     0.7669625   1.14693481   0.763889187      \n",
       "6  1.227804259 -0.002283635     0.9400875  -1.14215601  -1.163390495      \n",
       "  Policy.Start.Date Customer.Feedback Smoking.Status Exercise.Frequency\n",
       "1  0.7359770        -1.2091332         0.9968828     -1.3272385        \n",
       "2  1.7999452         0.9422170         0.9968828      1.3462021        \n",
       "3 -0.8456443        -0.1334581         0.9968828     -0.4360916        \n",
       "4 -1.1562583        -1.2091332         0.9968828      0.4550552        \n",
       "5  0.2239496        -0.1334581        -1.0031261     -1.3272385        \n",
       "6 -0.7291056         2.0178921        -1.0031261      1.3462021        \n",
       "  Property.Type\n",
       "1 -1.22403788  \n",
       "2  0.00068993  \n",
       "3  1.22541774  \n",
       "4 -1.22403788  \n",
       "5 -1.22403788  \n",
       "6  1.22541774  "
      ]
     },
     "metadata": {},
     "output_type": "display_data"
    }
   ],
   "source": [
    "# Apply normalization using scale()\n",
    "train_scaled <- scale(train[numerical_columns])\n",
    "test_scaled <- scale(test[numerical_columns], center = attr(train_scaled, \"scaled:center\"), scale = attr(train_scaled, \"scaled:scale\"))\n",
    "\n",
    "# Convert scaled matrices back to dataframes\n",
    "train[numerical_columns] <- as.data.frame(train_scaled)\n",
    "test[numerical_columns] <- as.data.frame(test_scaled)\n",
    "\n",
    "# View the updated data\n",
    "head(train)\n",
    "head(test)\n"
   ]
  },
  {
   "cell_type": "code",
   "execution_count": null,
   "id": "d2f5ceda-63ba-4d41-b5d0-eb11d818b921",
   "metadata": {},
   "outputs": [],
   "source": []
  },
  {
   "cell_type": "code",
   "execution_count": 17,
   "id": "702f0e1e-cc92-4c0c-add7-cb8c46df3045",
   "metadata": {},
   "outputs": [
    {
     "name": "stderr",
     "output_type": "stream",
     "text": [
      "Warning message:\n",
      "\"\u001b[1m\u001b[22m`aes_string()` was deprecated in ggplot2 3.0.0.\n",
      "\u001b[36mℹ\u001b[39m Please use tidy evaluation idioms with `aes()`.\n",
      "\u001b[36mℹ\u001b[39m See also `vignette(\"ggplot2-in-packages\")` for more\n",
      "  information.\"\n"
     ]
    }
   ],
   "source": [
    "# Function to create individual histograms\n",
    "create_histogram <- function(data, column_name) {\n",
    "  ggplot(data, aes_string(x = column_name)) +\n",
    "    geom_histogram(bins = 20, fill = 'skyblue', color = 'black', lwd = 0.5) +\n",
    "    ggtitle(column_name) +\n",
    "    theme_minimal() +\n",
    "    theme(plot.title = element_text(size = 9),\n",
    "          axis.title = element_blank(),\n",
    "          axis.text = element_text(size = 6))\n",
    "}\n",
    "\n",
    "# Create a list of plots\n",
    "plots <- lapply(names(train), function(column) create_histogram(train, column))\n"
   ]
  },
  {
   "cell_type": "code",
   "execution_count": null,
   "id": "322fd0b1-e0db-4a5b-855a-68d47d21c3aa",
   "metadata": {},
   "outputs": [],
   "source": []
  },
  {
   "cell_type": "code",
   "execution_count": 18,
   "id": "0ef4e100-f269-4bff-b162-488c2bd261fc",
   "metadata": {},
   "outputs": [
    {
     "data": {
      "image/png": "[encoded data removed]",
      "text/plain": [
       "plot without title"
      ]
     },
     "metadata": {
      "image/png": {
       "height": 420,
       "width": 420
      }
     },
     "output_type": "display_data"
    }
   ],
   "source": [
    "# Arrange plots in a grid layout\n",
    "grid.arrange(grobs = plots, ncol = 4, top = \"Dataset Feature Distributions (train)\")\n"
   ]
  },
  {
   "cell_type": "code",
   "execution_count": 19,
   "id": "b7ba572d-ad43-4f53-978b-1bd976fd4447",
   "metadata": {},
   "outputs": [
    {
     "ename": "ERROR",
     "evalue": "Error: object 'stopper' not found\n",
     "output_type": "error",
     "traceback": [
      "Error: object 'stopper' not found\nTraceback:\n"
     ]
    }
   ],
   "source": [
    "stopper"
   ]
  },
  {
   "cell_type": "code",
   "execution_count": null,
   "id": "bfa30583-c9e1-49a0-9b66-9e80992c8548",
   "metadata": {},
   "outputs": [],
   "source": [
    "# Prepare training data\n",
    "X_train <- train %>% select(-one_of(target_column))\n",
    "y_train <- train[[target_column]]\n",
    "y_train_log <- log1p(y_train)  # Apply log transformation\n"
   ]
  },
  {
   "cell_type": "code",
   "execution_count": null,
   "id": "8beabfb7-f7c0-4b64-9742-aaa1030bdeea",
   "metadata": {},
   "outputs": [],
   "source": [
    "# Display data types\n",
    "print(sapply(X_train, class))\n",
    "print(class(y_train))\n",
    "print(class(y_train_log))\n"
   ]
  },
  {
   "cell_type": "code",
   "execution_count": null,
   "id": "005ac310-2f96-454d-b743-b540ae433506",
   "metadata": {},
   "outputs": [],
   "source": []
  },
  {
   "cell_type": "code",
   "execution_count": null,
   "id": "386050ad-8612-48e3-83a0-860ab71ac035",
   "metadata": {},
   "outputs": [],
   "source": [
    "# Register parallel backend\n",
    "cl <- makeCluster(detectCores() - 1)\n",
    "registerDoParallel(cl)\n"
   ]
  },
  {
   "cell_type": "code",
   "execution_count": null,
   "id": "92eae850-671a-487b-80fc-085a874b3cd7",
   "metadata": {},
   "outputs": [],
   "source": []
  },
  {
   "cell_type": "code",
   "execution_count": null,
   "id": "45970e6e-46e8-449f-88bb-e8c6c496acc4",
   "metadata": {},
   "outputs": [],
   "source": [
    "# Check each parameter individually\n",
    "test_params <- list(\n",
    "  nrounds = 50,\n",
    "  max_depth = 5,\n",
    "  eta = 0.1,\n",
    "  gamma = 0.1,\n",
    "  colsample_bytree = 0.5,\n",
    "  min_child_weight = 1\n",
    ")\n",
    "\n",
    "params <- list(\n",
    "  booster = \"gbtree\",\n",
    "  objective = \"reg:squarederror\",\n",
    "  max_depth = test_params$max_depth,\n",
    "  eta = test_params$eta,\n",
    "  gamma = test_params$gamma,\n",
    "  colsample_bytree = test_params$colsample_bytree,\n",
    "  min_child_weight = test_params$min_child_weight\n",
    ")\n",
    "\n",
    "cv <- xgb.cv(\n",
    "  params = params,\n",
    "  data = X_train,\n",
    "  label = y_train_log,\n",
    "  nrounds = test_params$nrounds,\n",
    "  nfold = 5,\n",
    "  verbose = 1,\n",
    "  early_stopping_rounds = 10,\n",
    "  metrics = \"rmse\"\n",
    ")\n",
    "\n",
    "print(cv)\n"
   ]
  },
  {
   "cell_type": "markdown",
   "id": "e0a65703-9183-49cb-a8e0-93978df0e0fd",
   "metadata": {},
   "source": [
    "### Change the date char var to date type "
   ]
  },
  {
   "cell_type": "code",
   "execution_count": null,
   "id": "5942ea65-54e2-421b-bd43-84f5a27c3111",
   "metadata": {},
   "outputs": [],
   "source": [
    "# Convert Date variable to date-time format\n",
    "train$Policy.Start.Date <- as.Date(train$Policy.Start.Date, format=\"%Y-%m-%d\")\n",
    "\n",
    "# Check the structure of the dataframe to confirm the conversion\n",
    "str(train$Policy.Start.Date)\n"
   ]
  },
  {
   "cell_type": "markdown",
   "id": "a126abd4-7221-4a42-8881-d90a1e31efbf",
   "metadata": {},
   "source": [
    "### The structure of ALL numeric looks good here."
   ]
  },
  {
   "cell_type": "code",
   "execution_count": null,
   "id": "11d80355-1009-4cc7-924d-d5e515ee67d5",
   "metadata": {},
   "outputs": [],
   "source": [
    "# Assuming `train` has been converted to date format\n",
    "str(train)  # Confirm the date conversion\n",
    "\n",
    "# # Prepare training data\n",
    "# X_train <- train %>% select(-one_of(target_column))\n",
    "# y_train <- train[[target_column]]\n",
    "# y_train_log <- log1p(y_train)\n",
    "\n",
    "# X_train <- as.matrix(X_train)  # Convert to matrix\n",
    "\n",
    "# # Ensure no missing values\n",
    "# sum(is.na(X_train))\n",
    "# sum(is.na(y_train_log))\n"
   ]
  },
  {
   "cell_type": "code",
   "execution_count": null,
   "id": "bdfa7360-23c6-4c6d-98bf-be5046104b1c",
   "metadata": {},
   "outputs": [],
   "source": []
  },
  {
   "cell_type": "code",
   "execution_count": null,
   "id": "5b34a1e3-b75f-4507-ad5e-d9998deeffb0",
   "metadata": {},
   "outputs": [],
   "source": [
    "# Check the structure and summary of the data\n",
    "str(X_train)\n",
    "summary(X_train)\n",
    "sum(is.na(X_train))\n",
    "sum(is.na(y_train_log))\n"
   ]
  },
  {
   "cell_type": "code",
   "execution_count": null,
   "id": "6d5fef10-964c-4234-a8fa-2793fb1fcd0a",
   "metadata": {},
   "outputs": [],
   "source": [
    "\n"
   ]
  },
  {
   "cell_type": "markdown",
   "id": "427d81da-2305-4036-852e-a47140ee7858",
   "metadata": {},
   "source": [
    "\n",
    "### Do NOT want catagorical vars ... aka factors"
   ]
  },
  {
   "cell_type": "code",
   "execution_count": null,
   "id": "9dbda7d6-9b28-4cb0-b27e-167418741eb3",
   "metadata": {},
   "outputs": [],
   "source": [
    "# Sample code to convert character columns to factors (categorical)\n",
    "# categorical_columns <- c(\"Gender\", \"Marital.Status\", \"Education.Level\", \"Occupation\", \n",
    "#                          \"Location\", \"Policy.Type\", \"Previous.Claims\", \"Customer.Feedback\", \n",
    "#                          \"Smoking.Status\", \"Exercise.Frequency\", \"Property.Type\")\n",
    "# for (col in categorical_columns) {\n",
    "#   train[[col]] <- as.factor(train[[col]])\n",
    "# }\n",
    "\n",
    "# # Verify the conversion\n",
    "# str(train)\n"
   ]
  },
  {
   "cell_type": "code",
   "execution_count": null,
   "id": "fef168cd-a5f4-4a4e-ba40-e3162d335843",
   "metadata": {},
   "outputs": [],
   "source": [
    "# Assuming Policy.Start.Date is already in date format, but let's ensure it\n",
    "train$Policy.Start.Date <- as.Date(train$Policy.Start.Date, format=\"%Y-%m-%d\")\n",
    "\n",
    "# Verify the conversion\n",
    "str(train)\n"
   ]
  },
  {
   "cell_type": "code",
   "execution_count": null,
   "id": "031bd9e4-eee3-48ad-8f2f-8589d2a8e43c",
   "metadata": {},
   "outputs": [],
   "source": []
  },
  {
   "cell_type": "code",
   "execution_count": null,
   "id": "a1670980-59a7-4306-8531-16f8bf1b9371",
   "metadata": {},
   "outputs": [],
   "source": [
    "# Ensure data is in numeric and factor format as required\n",
    "str(train)\n",
    "\n",
    "# Prepare training data\n",
    "X_train <- train %>% select(-one_of(\"Premium.Amount\"))\n",
    "y_train <- train$Premium.Amount\n",
    "y_train_log <- log1p(y_train)\n",
    "\n",
    "# Convert X_train to matrix for xgboost\n",
    "X_train <- as.matrix(X_train)\n"
   ]
  },
  {
   "cell_type": "code",
   "execution_count": null,
   "id": "4fe9000d-a601-45a0-9bea-f64b4ad2634f",
   "metadata": {},
   "outputs": [],
   "source": []
  },
  {
   "cell_type": "markdown",
   "id": "32037644-be08-4d2d-a5fa-c3a8be2bfce1",
   "metadata": {},
   "source": [
    "    It seems the issue is that the data being passed to xgb.cv is of class 'character', but it needs to be either a numeric matrix or a single filename. This indicates that the data conversion wasn't successful for some columns. Let's address this by ensuring that all the numeric columns in your data are properly converted to numeric types before passing them to xgb.cv."
   ]
  },
  {
   "cell_type": "code",
   "execution_count": null,
   "id": "4c43716c-09d6-4366-9ae3-6a74c2882f0e",
   "metadata": {},
   "outputs": [],
   "source": []
  },
  {
   "cell_type": "code",
   "execution_count": null,
   "id": "86af91db-7925-4411-981c-bdccc5c60bd4",
   "metadata": {},
   "outputs": [],
   "source": [
    "# Convert factor columns to numeric\n",
    "factor_columns <- c(\"Gender\", \"Marital.Status\", \"Education.Level\", \"Occupation\", \n",
    "                    \"Location\", \"Policy.Type\", \"Previous.Claims\", \"Customer.Feedback\", \n",
    "                    \"Smoking.Status\", \"Exercise.Frequency\", \"Property.Type\")\n",
    "\n",
    "for (col in factor_columns) {\n",
    "  train[[col]] <- as.numeric(as.factor(train[[col]]))\n",
    "}\n",
    "\n",
    "# Check the structure again to confirm conversion\n",
    "str(train)\n"
   ]
  },
  {
   "cell_type": "code",
   "execution_count": null,
   "id": "cf1b9a01-13ee-47a2-b69e-a9cb34951259",
   "metadata": {},
   "outputs": [],
   "source": [
    "# Prepare training data\n",
    "X_train <- train %>% select(-one_of(\"Premium.Amount\"))\n",
    "y_train <- train$Premium.Amount\n",
    "y_train_log <- log1p(y_train)\n",
    "\n",
    "# Convert X_train to matrix\n",
    "X_train <- as.matrix(X_train)\n",
    "\n",
    "# Ensure no missing values\n",
    "sum(is.na(X_train))\n",
    "sum(is.na(y_train_log))\n",
    "\n",
    "# Check data types\n",
    "str(X_train)\n",
    "str(y_train_log)\n"
   ]
  },
  {
   "cell_type": "code",
   "execution_count": null,
   "id": "1d8d0e55-21f4-4eeb-9260-4d257deee205",
   "metadata": {},
   "outputs": [],
   "source": [
    "# Direct test of the simplified objective function\n",
    "test_result <- objective_function_test(nrounds = 50, max_depth = 5, eta = 0.1)\n",
    "print(test_result)\n"
   ]
  },
  {
   "cell_type": "markdown",
   "id": "dfd97b57-c5e4-452e-a061-40ae50fbe071",
   "metadata": {},
   "source": [
    "## Jump Start"
   ]
  },
  {
   "cell_type": "code",
   "execution_count": null,
   "id": "5f723751-0931-48ab-9b54-eb073a127539",
   "metadata": {},
   "outputs": [],
   "source": [
    "dim(train)\n",
    "names(train[16])\n",
    "train <- train[,-16]\n",
    "dim(train)"
   ]
  },
  {
   "cell_type": "code",
   "execution_count": null,
   "id": "cebe917d-c124-4903-89cb-34b636168a72",
   "metadata": {},
   "outputs": [],
   "source": [
    "colnames(train)\n"
   ]
  },
  {
   "cell_type": "code",
   "execution_count": null,
   "id": "4a0aec9a-bd6b-41aa-9bb4-d3cf27c96afa",
   "metadata": {},
   "outputs": [],
   "source": [
    "str(train)"
   ]
  },
  {
   "cell_type": "code",
   "execution_count": null,
   "id": "229f74f5-e8fc-4918-9880-4ee914a3de3d",
   "metadata": {},
   "outputs": [],
   "source": []
  },
  {
   "cell_type": "code",
   "execution_count": null,
   "id": "c6d9b120-4ad0-4b20-bf96-9290e7e677b1",
   "metadata": {},
   "outputs": [],
   "source": [
    "# Function to convert relevant columns to numeric\n",
    "convert_to_numeric <- function(df) {\n",
    "  df[] <- lapply(df, function(x) {\n",
    "    if(is.factor(x) || is.character(x)) {\n",
    "      as.numeric(as.character(x))\n",
    "    } else {\n",
    "      x\n",
    "    }\n",
    "  })\n",
    "  return(df)\n",
    "}"
   ]
  },
  {
   "cell_type": "code",
   "execution_count": null,
   "id": "ab452974-43e3-420e-afdd-1c28d8d9b2e4",
   "metadata": {},
   "outputs": [],
   "source": []
  },
  {
   "cell_type": "code",
   "execution_count": null,
   "id": "7ceed12f-80de-47e3-a813-dded9e6e5bdf",
   "metadata": {},
   "outputs": [],
   "source": [
    "# Apply the conversion function to your training data\n",
    "X_train <- convert_to_numeric(train %>% select(-one_of(\"Premium.Amount\")))\n",
    "\n",
    "# Check the structure to confirm conversion\n",
    "str(X_train)"
   ]
  },
  {
   "cell_type": "code",
   "execution_count": null,
   "id": "0d223ae4-df07-4d5e-bb92-3bef51addad2",
   "metadata": {},
   "outputs": [],
   "source": [
    "# Prepare training data\n",
    "y_train <- train$Premium.Amount\n",
    "y_train_log <- log1p(y_train)\n",
    "\n",
    "# Convert X_train to numeric matrix\n",
    "X_train <- as.matrix(X_train)\n",
    "\n",
    "# Ensure no missing values\n",
    "sum(is.na(X_train))\n",
    "sum(is.na(y_train_log))\n",
    "\n",
    "# Check data types\n",
    "str(X_train)\n",
    "str(y_train_log)\n"
   ]
  },
  {
   "cell_type": "code",
   "execution_count": null,
   "id": "03f06a69-9116-4f2c-b745-1c753f484d8a",
   "metadata": {},
   "outputs": [],
   "source": [
    "# Simplified objective function test\n",
    "test_result <- objective_function_test(nrounds = 50, max_depth = 5, eta = 0.1)\n",
    "print(test_result)\n"
   ]
  },
  {
   "cell_type": "code",
   "execution_count": null,
   "id": "e75e38c1-7dd1-418a-99a2-4f64f238d914",
   "metadata": {},
   "outputs": [],
   "source": [
    "stopper"
   ]
  },
  {
   "cell_type": "code",
   "execution_count": null,
   "id": "dc1b2b99-3e31-4701-961e-da282e8a5be0",
   "metadata": {},
   "outputs": [],
   "source": [
    "# Extract column names separately\n",
    "col_names <- colnames(X_train)\n",
    "\n",
    "# Convert data to numeric while ensuring column names remain character strings\n",
    "X_train <- apply(X_train, 2, function(x) as.numeric(as.character(x)))\n",
    "\n",
    "# Re-assign column names to the numeric matrix\n",
    "colnames(X_train) <- col_names\n",
    "\n",
    "# Verify the structure to confirm conversion\n",
    "str(X_train)\n"
   ]
  },
  {
   "cell_type": "code",
   "execution_count": null,
   "id": "72450fe4-d3da-4918-9137-24429181909c",
   "metadata": {},
   "outputs": [],
   "source": [
    "# Prepare training data\n",
    "y_train <- train$Premium.Amount\n",
    "y_train_log <- log1p(y_train)\n",
    "\n",
    "# Ensure X_train is a numeric matrix\n",
    "X_train <- as.matrix(X_train)\n",
    "\n",
    "# Ensure no missing values\n",
    "sum(is.na(X_train))\n",
    "sum(is.na(y_train_log))\n",
    "\n",
    "# Check data types\n",
    "str(X_train)\n",
    "str(y_train_log)\n"
   ]
  },
  {
   "cell_type": "code",
   "execution_count": null,
   "id": "1221fb63-1268-41af-83b3-f5b1f9b35c00",
   "metadata": {},
   "outputs": [],
   "source": [
    "# Simplified objective function test\n",
    "test_result <- objective_function_test(nrounds = 50, max_depth = 5, eta = 0.1)\n",
    "print(test_result)\n"
   ]
  },
  {
   "cell_type": "code",
   "execution_count": null,
   "id": "18f0f78f-8fb8-4348-a3a6-2b254a1bd03e",
   "metadata": {},
   "outputs": [],
   "source": []
  },
  {
   "cell_type": "code",
   "execution_count": null,
   "id": "be6eba41-fafd-429b-9b64-cea15ed4806e",
   "metadata": {},
   "outputs": [],
   "source": [
    "# Simplified objective function for testing\n",
    "objective_function_test <- function(nrounds, max_depth, eta) {\n",
    "  cat(\"Testing Parameters:\\n\")\n",
    "  cat(\"nrounds:\", nrounds, \"max_depth:\", max_depth, \"eta:\", eta, \"\\n\")\n",
    "  \n",
    "  params <- list(\n",
    "    booster = \"gbtree\",\n",
    "    objective = \"reg:squarederror\",\n",
    "    max_depth = max_depth,\n",
    "    eta = eta\n",
    "  )\n",
    "  \n",
    "  tryCatch({\n",
    "    cv <- xgb.cv(\n",
    "      params = params,\n",
    "      data = X_train,\n",
    "      label = y_train_log,\n",
    "      nrounds = nrounds,\n",
    "      nfold = 5,\n",
    "      verbose = 0,\n",
    "      early_stopping_rounds = 10,\n",
    "      metrics = \"rmse\"\n",
    "    )\n",
    "    score <- -min(cv$evaluation_log$test_rmse_mean)\n",
    "    cat(\"Score:\", score, \"\\n\")\n",
    "    list(Score = score, nrounds = nrounds, max_depth = max_depth, eta = eta)\n",
    "  }, error = function(e) {\n",
    "    cat(\"Error in xgb.cv: \", e$message, \"\\n\")\n",
    "    traceback()\n",
    "    list(Score = NA, nrounds = nrounds, max_depth = max_depth, eta = eta)\n",
    "  })\n",
    "}\n",
    "\n",
    "# Simplified bounds for testing\n",
    "bounds_test <- list(\n",
    "  nrounds = c(10L, 50L),\n",
    "  max_depth = c(3L, 6L),\n",
    "  eta = c(0.01, 0.1)\n",
    ")\n",
    "\n",
    "# Run Bayesian Optimization with the simplified function\n",
    "opt_results_test <- bayesOpt(\n",
    "  FUN = objective_function_test,\n",
    "  bounds = bounds_test,\n",
    "  initPoints = 5,\n",
    "  iters.n = 10,\n",
    "  verbose = 1,\n",
    "  parallel = FALSE  # Disable parallel processing for debugging\n",
    ")\n",
    "\n",
    "# Display the best parameters and score\n",
    "head(opt_results_test$Best_Par)\n",
    "head(opt_results_test$Best_Value)\n"
   ]
  },
  {
   "cell_type": "code",
   "execution_count": null,
   "id": "1c0c592b-a783-4ef6-b3f6-f081259830e9",
   "metadata": {},
   "outputs": [],
   "source": [
    "# Identify duplicated column names in scoreSummary\n",
    "duplicated_columns <- names(scoreSummary)[duplicated(names(scoreSummary))]\n",
    "print(duplicated_columns)\n"
   ]
  },
  {
   "cell_type": "code",
   "execution_count": null,
   "id": "0928bfd9-a53d-4ee5-a1ed-64c47301e85b",
   "metadata": {},
   "outputs": [],
   "source": []
  },
  {
   "cell_type": "code",
   "execution_count": null,
   "id": "74e0f4c1-d11f-4be6-91dc-5d0247796744",
   "metadata": {},
   "outputs": [],
   "source": [
    "# Simplified objective function for testing\n",
    "objective_function_test <- function(nrounds, max_depth, eta) {\n",
    "  cat(\"Testing Parameters:\\n\")\n",
    "  cat(\"nrounds:\", nrounds, \"max_depth:\", max_depth, \"eta:\", eta, \"\\n\")\n",
    "  \n",
    "  params <- list(\n",
    "    booster = \"gbtree\",\n",
    "    objective = \"reg:squarederror\",\n",
    "    max_depth = max_depth,\n",
    "    eta = eta\n",
    "  )\n",
    "  \n",
    "  tryCatch({\n",
    "    cv <- xgb.cv(\n",
    "      params = params,\n",
    "      data = X_train,\n",
    "      label = y_train_log,\n",
    "      nrounds = nrounds,\n",
    "      nfold = 5,\n",
    "      verbose = 0,\n",
    "      early_stopping_rounds = 10,\n",
    "      metrics = \"rmse\"\n",
    "    )\n",
    "    score <- -min(cv$evaluation_log$test_rmse_mean)\n",
    "    cat(\"Score:\", score, \"\\n\")\n",
    "    list(Score = score, nrounds = nrounds, max_depth = max_depth, eta = eta)\n",
    "  }, error = function(e) {\n",
    "    cat(\"Error in xgb.cv: \", e$message, \"\\n\")\n",
    "    traceback()\n",
    "    list(Score = NA, nrounds = nrounds, max_depth = max_depth, eta = eta)\n",
    "  })\n",
    "}\n",
    "\n",
    "# Define the bounds for the simplified search space\n",
    "bounds_test <- list(\n",
    "  nrounds = c(10L, 50L),\n",
    "  max_depth = c(3L, 6L),\n",
    "  eta = c(0.01, 0.1)\n",
    ")\n"
   ]
  },
  {
   "cell_type": "code",
   "execution_count": null,
   "id": "d0c7327c-484b-4ea8-a3e3-8c351150a6c2",
   "metadata": {},
   "outputs": [],
   "source": [
    "# Run Bayesian Optimization with the simplified function\n",
    "opt_results_test <- bayesOpt(\n",
    "  FUN = objective_function_test,\n",
    "  bounds = bounds_test,\n",
    "  initPoints = 5,\n",
    "  iters.n = 10,\n",
    "  verbose = 1,\n",
    "  parallel = FALSE  # Disable parallel processing for debugging\n",
    ")\n",
    "\n",
    "# Display the best parameters and score\n",
    "print(opt_results_test$Best_Par)\n",
    "print(opt_results_test$Best_Value)\n"
   ]
  },
  {
   "cell_type": "code",
   "execution_count": null,
   "id": "6c969fb8-ed6e-4d98-89cb-ec0979389891",
   "metadata": {},
   "outputs": [],
   "source": []
  },
  {
   "cell_type": "code",
   "execution_count": null,
   "id": "5bd70fa9-6956-464e-875c-30360fac5384",
   "metadata": {},
   "outputs": [],
   "source": [
    "# Simplified objective function for testing\n",
    "objective_function_test <- function(nrounds, max_depth, eta) {\n",
    "  cat(\"Testing Parameters:\\n\")\n",
    "  cat(\"nrounds:\", nrounds, \"max_depth:\", max_depth, \"eta:\", eta, \"\\n\")\n",
    "  \n",
    "  params <- list(\n",
    "    booster = \"gbtree\",\n",
    "    objective = \"reg:squarederror\",\n",
    "    max_depth = max_depth,\n",
    "    eta = eta\n",
    "  )\n",
    "  \n",
    "  tryCatch({\n",
    "    cv <- xgb.cv(\n",
    "      params = params,\n",
    "      data = X_train,\n",
    "      label = y_train_log,\n",
    "      nrounds = nrounds,\n",
    "      nfold = 5,\n",
    "      verbose = 0,\n",
    "      early_stopping_rounds = 10,\n",
    "      metrics = \"rmse\"\n",
    "    )\n",
    "    score <- -min(cv$evaluation_log$test_rmse_mean)\n",
    "    cat(\"Score:\", score, \"\\n\")\n",
    "    list(Score = score, nrounds = nrounds, max_depth = max_depth, eta = eta)\n",
    "  }, error = function(e) {\n",
    "    cat(\"Error in xgb.cv: \", e$message, \"\\n\")\n",
    "    traceback()\n",
    "    list(Score = NA, nrounds = nrounds, max_depth = max_depth, eta = eta)\n",
    "  })\n",
    "}\n",
    "\n",
    "# Function to ensure unique column names in scoreSummary\n",
    "ensure_unique_colnames <- function(df) {\n",
    "  colnames(df) <- make.unique(names(df))\n",
    "  return(df)\n",
    "}\n",
    "\n",
    "# Apply the function within bayesOpt\n",
    "opt_results_test <- bayesOpt(\n",
    "  FUN = objective_function_test,\n",
    "  bounds = bounds_test,\n",
    "  initPoints = 5,\n",
    "  iters.n = 10,\n",
    "  verbose = 1,\n",
    "  parallel = FALSE,  # Disable parallel processing for debugging\n",
    "  acqFunc = \"ucb\",\n",
    "  final_output = ensure_unique_colnames  # Ensure unique column names in final output\n",
    ")\n",
    "\n",
    "# Display the best parameters and score\n",
    "print(opt_results_test$Best_Par)\n",
    "print(opt_results_test$Best_Value)\n"
   ]
  },
  {
   "cell_type": "code",
   "execution_count": null,
   "id": "6dedd2cb-6447-46a8-b4e5-b9ce8ae5815d",
   "metadata": {},
   "outputs": [],
   "source": []
  },
  {
   "cell_type": "code",
   "execution_count": null,
   "id": "2218e5c9-3698-4430-804a-4b1ab6a9139b",
   "metadata": {},
   "outputs": [],
   "source": []
  },
  {
   "cell_type": "code",
   "execution_count": null,
   "id": "0e675daa-8ca7-4900-a9bd-225489053a67",
   "metadata": {},
   "outputs": [],
   "source": [
    "# Check for duplicated column names in scoreSummary\n",
    "duplicated_columns <- names(scoreSummary)[duplicated(names(scoreSummary))]\n",
    "print(duplicated_columns)\n"
   ]
  }
 ],
 "metadata": {
  "kernelspec": {
   "display_name": "R",
   "language": "R",
   "name": "ir"
  },
  "language_info": {
   "codemirror_mode": "r",
   "file_extension": ".r",
   "mimetype": "text/x-r-source",
   "name": "R",
   "pygments_lexer": "r",
   "version": "4.3.0"
  }
 },
 "nbformat": 4,
 "nbformat_minor": 5
}
