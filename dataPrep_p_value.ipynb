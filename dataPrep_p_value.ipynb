{
 "cells": [
  {
   "cell_type": "markdown",
   "id": "f1f5b4a9-c549-4243-a4e1-68d5956b6482",
   "metadata": {},
   "source": [
    "# <font color = yellow> Data prep to Skewness\n",
    "\n",
    "### Using the Kaggle Insurance dataset"
   ]
  },
  {
   "cell_type": "code",
   "execution_count": null,
   "id": "6454b72e-488a-457d-91ab-4d92ea6f9e3f",
   "metadata": {},
   "outputs": [],
   "source": []
  },
  {
   "cell_type": "code",
   "execution_count": null,
   "id": "0b697bed-cf42-4ee7-9f58-2230af5b6400",
   "metadata": {},
   "outputs": [],
   "source": [
    "library(dplyr)\n",
    "library(lubridate)\n",
    "library(missForest)\n",
    "library(e1071)  # for determinning skewness\n",
    "library(ggplot2)\n",
    "\n",
    "options(scipen = 999)"
   ]
  },
  {
   "cell_type": "code",
   "execution_count": null,
   "id": "1f98f408-1096-4d75-adb2-864b981dd123",
   "metadata": {},
   "outputs": [],
   "source": [
    "\n",
    "library(ppcor)\n",
    "library(tibble)\n",
    "library(corrplot)\n"
   ]
  },
  {
   "cell_type": "code",
   "execution_count": null,
   "id": "c52e62e5-0bda-4a8f-a2f8-c254579e7103",
   "metadata": {},
   "outputs": [],
   "source": [
    "library(reshape2)  # meld\n",
    "library(Hmisc)    # cor \n",
    "library(e1071)  # skewness\n",
    "library(VIM)    # k-NN nearest neighbors"
   ]
  },
  {
   "cell_type": "code",
   "execution_count": null,
   "id": "509e8632-0d02-4d9a-b8c7-b6d6c4643215",
   "metadata": {},
   "outputs": [],
   "source": [
    "# Load the test dataset\n",
    "test_path <- \"C:\\\\all_programming\\\\Kaggle\\\\datasets\\\\test\\\\test.csv\"\n",
    "df_test <- read.csv(test_path, stringsAsFactors = FALSE)\n",
    "dim(df_test)   # has empty fields\n",
    "\n",
    "train_path <- \"C:\\\\all_programming\\\\Kaggle\\\\datasets\\\\train\\\\train.csv\"\n",
    "df_train <- read.csv(train_path, stringsAsFactors = FALSE)\n",
    "dim(df_train)"
   ]
  },
  {
   "cell_type": "code",
   "execution_count": null,
   "id": "5b8bbf6f-853b-4a74-838c-6af20cea89a4",
   "metadata": {},
   "outputs": [],
   "source": []
  },
  {
   "cell_type": "markdown",
   "id": "19c0ce2e-bfbb-409b-8155-9acf10a76b39",
   "metadata": {},
   "source": [
    "### <font color = yellow> Get smaller samples from each dataset ... 1000 rows"
   ]
  },
  {
   "cell_type": "code",
   "execution_count": null,
   "id": "83967a85-f622-4c0f-9d65-da0868681f30",
   "metadata": {},
   "outputs": [],
   "source": [
    "n <- nrow(df_test)\n",
    "log_vertices <- sample(1:n, 1000, replace = FALSE)\n",
    "str(log_vertices)\n",
    "\n",
    "df_1k <- df_test[log_vertices, ]\n",
    "cat(\"\\n Size of the testing sample is: \", dim(df_1k), \"\\n\")"
   ]
  },
  {
   "cell_type": "code",
   "execution_count": null,
   "id": "4a6a40a5-ede8-43d0-9c4c-fca8fbba5096",
   "metadata": {},
   "outputs": [],
   "source": []
  },
  {
   "cell_type": "code",
   "execution_count": null,
   "id": "33bf6a31-6db4-4668-b9d8-7021dcec5787",
   "metadata": {},
   "outputs": [],
   "source": [
    "head(df_1k)"
   ]
  },
  {
   "cell_type": "code",
   "execution_count": null,
   "id": "83e24743-8f8c-45f5-bbd6-b330b4286af8",
   "metadata": {},
   "outputs": [],
   "source": []
  },
  {
   "cell_type": "markdown",
   "id": "11b8e4c9-6d74-4257-bbca-2c5ab05b5681",
   "metadata": {},
   "source": [
    "### <font color = yellow> Rename the long var names"
   ]
  },
  {
   "cell_type": "code",
   "execution_count": null,
   "id": "118ecf7c-a508-4d3c-97ae-e88528b9ebcc",
   "metadata": {},
   "outputs": [],
   "source": [
    "test <- df_1k\n",
    "dim(test)"
   ]
  },
  {
   "cell_type": "code",
   "execution_count": null,
   "id": "07a452ef-42b2-49ec-9c24-d0774e21ac96",
   "metadata": {},
   "outputs": [],
   "source": [
    "colnames(df_1k)"
   ]
  },
  {
   "cell_type": "code",
   "execution_count": null,
   "id": "09ce604d-b518-460c-8552-e073889904dd",
   "metadata": {},
   "outputs": [],
   "source": [
    "# Rename columns to shorter names\n",
    "names(df_1k) <- c(\"ID\", \"Age\", \"Sex\", \"Income\", \"Marital\", \"Kids\", \"Edu\", \"Job\", \"Health\", \"Loc\", \"InsType\", \"Claims\", \"VehAge\", \"Credit\", \"InsDur\", \"InsDate\", \"CusFeed\", \"Skoker\", \"Active\", \"Type\")\n",
    "\n",
    "# View the dataframe with renamed columns\n",
    "dim(df_1k)\n",
    "head(df_1k)\n"
   ]
  },
  {
   "cell_type": "code",
   "execution_count": null,
   "id": "855a940a-16f0-4e3a-9b26-7abf1c4d3ad1",
   "metadata": {},
   "outputs": [],
   "source": []
  },
  {
   "cell_type": "code",
   "execution_count": null,
   "id": "a0de8cf2-004a-4de3-a861-c93577a53cc3",
   "metadata": {},
   "outputs": [],
   "source": [
    "sum(is.na(df_1k$Sex))"
   ]
  },
  {
   "cell_type": "code",
   "execution_count": null,
   "id": "d6ffc66f-a053-452e-b4b5-9d4e519e5829",
   "metadata": {},
   "outputs": [],
   "source": [
    "# stopper"
   ]
  },
  {
   "cell_type": "markdown",
   "id": "a8e76745-5f6b-414f-80cd-abfec39c69d5",
   "metadata": {},
   "source": [
    "### <font color = yellow> Select the numeric variables from df"
   ]
  },
  {
   "cell_type": "code",
   "execution_count": null,
   "id": "14f179af-50c2-4644-b641-9b909c64b60b",
   "metadata": {},
   "outputs": [],
   "source": []
  },
  {
   "cell_type": "code",
   "execution_count": null,
   "id": "487c069b-9a34-4785-9bd0-6b7248f66a74",
   "metadata": {},
   "outputs": [],
   "source": [
    "is.numeric(df_1k$Age)\n",
    "is.character(df_1k$Sex)"
   ]
  },
  {
   "cell_type": "code",
   "execution_count": null,
   "id": "aad16446-63a3-4932-b071-c6f2dc56b38e",
   "metadata": {},
   "outputs": [],
   "source": [
    "#get_numeric <- function(x) { is.numeric(x) }\n",
    "\n",
    "log_result <- sapply(df_1k, is.numeric)\n",
    "df_vars <- df_1k[, log_result]\n",
    "dim(df_vars)\n",
    "head(df_vars, 3)"
   ]
  },
  {
   "cell_type": "code",
   "execution_count": null,
   "id": "c9ad1b20-2e4d-4340-93a9-a0771ec03b85",
   "metadata": {},
   "outputs": [],
   "source": []
  },
  {
   "cell_type": "markdown",
   "id": "770fb461-ac87-4a1b-896b-40a092311c06",
   "metadata": {},
   "source": [
    "### <font color = yellow> Remove the ID var before imputing data"
   ]
  },
  {
   "cell_type": "code",
   "execution_count": null,
   "id": "997d4634-6907-44d4-927a-b3014b3dcf5f",
   "metadata": {},
   "outputs": [],
   "source": []
  },
  {
   "cell_type": "code",
   "execution_count": null,
   "id": "0d3c792c-778f-432d-85fe-8aaaedcacfaf",
   "metadata": {},
   "outputs": [],
   "source": [
    "df_vars <- df_vars[, -1]\n",
    "dim(df_vars)"
   ]
  },
  {
   "cell_type": "code",
   "execution_count": null,
   "id": "de98784c-c7a7-4d63-a0b5-52e5bd4981a5",
   "metadata": {},
   "outputs": [],
   "source": [
    "# stopper"
   ]
  },
  {
   "cell_type": "markdown",
   "id": "67a36139-0508-40eb-a99c-dd10f03898a4",
   "metadata": {},
   "source": [
    "### <font color = yellow> Plot the existing distribution of df before imputing missing values \n",
    "\n",
    "#### ggplot will remove the NA (624 rows) from the 1000 rows"
   ]
  },
  {
   "cell_type": "code",
   "execution_count": null,
   "id": "8cd256a0-0198-4643-977c-2dc4afd76120",
   "metadata": {},
   "outputs": [],
   "source": []
  },
  {
   "cell_type": "code",
   "execution_count": null,
   "id": "03864700-00c6-4c38-8272-4116a100d55a",
   "metadata": {},
   "outputs": [],
   "source": [
    "\n",
    "# Melt the dataframe\n",
    "df_melted_pre <- melt(df_vars)\n",
    "# View the melted dataframe\n",
    "dim(df_melted_pre)\n",
    "\n",
    "# Faceted plot for pre-imputed data\n",
    "ggplot(df_melted_pre, aes(x = value)) + \n",
    "  geom_histogram(bins = 10, fill = \"blue\", alpha = 0.7, na.rm = FALSE) +   #  This does NOT change anything\n",
    "  facet_wrap(~ variable, scales = \"free\") +\n",
    "  labs(title = \"Distribution of Variables (Pre-Imputation)\", x = \"Value\", y = \"Count\") +\n",
    "  theme_minimal()\n",
    "\n"
   ]
  },
  {
   "cell_type": "code",
   "execution_count": null,
   "id": "705fdb72-db7f-4caa-b19f-d906b55a2b01",
   "metadata": {},
   "outputs": [],
   "source": []
  },
  {
   "cell_type": "code",
   "execution_count": null,
   "id": "4c27dba0-b867-43a9-ad4f-f981a8a6d638",
   "metadata": {},
   "outputs": [],
   "source": [
    "# Replace NAs with a placeholder value\n",
    "df_melted_pre$value[is.na(df_melted_pre$value)] <- -1\n",
    "\n",
    "# Faceted plot for pre-imputed data\n",
    "ggplot(df_melted_pre, aes(x = value)) + \n",
    "  geom_histogram(bins = 10, fill = \"blue\", alpha = 0.7) +\n",
    "  facet_wrap(~ variable, scales = \"free\") +\n",
    "  labs(title = \"Distribution of Variables (Pre-Imputation)\", x = \"Value\", y = \"Count\") +\n",
    "  theme_minimal()\n"
   ]
  },
  {
   "cell_type": "code",
   "execution_count": null,
   "id": "2dbeec69-8f00-4e0c-ba19-1ebc3db5f7dc",
   "metadata": {},
   "outputs": [],
   "source": []
  },
  {
   "cell_type": "markdown",
   "id": "cca08b94-6c29-4565-acef-7fd18d347fa7",
   "metadata": {},
   "source": [
    "### <font color = yellow> Plot the df with placeholders for NAs ( using -1 )\n",
    "\n",
    "#### Note: This replacement method eliminates putting the df 20 x 1000 back together again  "
   ]
  },
  {
   "cell_type": "code",
   "execution_count": null,
   "id": "ec661f63-2d91-4874-bd26-b8a8f9ad818a",
   "metadata": {},
   "outputs": [],
   "source": [
    "# Remove NA values before melting\n",
    "#     df_no_na <- na.omit(df_vars)   # duplicates above\n",
    "\n",
    "\n",
    "# Melt the dataframe with removed NA values\n",
    "df_melted_replaced_nas <- melt(df_vars)\n",
    "\n",
    "# Replace NAs with a placeholder value \n",
    "df_melted_replaced_nas$value[is.na(df_melted_replaced_nas$value)] <- -1\n",
    "\n",
    "\n",
    "# View the melted dataframe without NA values\n",
    "dim(df_melted_replaced_nas)\n",
    "\n",
    "# Faceted plot for pre-imputed data without NA values\n",
    "plot_prior <- ggplot(df_melted_replaced_nas, aes(x = value)) + \n",
    "  geom_histogram(bins = 10, fill = \"blue\", alpha = 0.7, na.rm = TRUE) +\n",
    "  facet_wrap(~ variable, scales = \"free\") +\n",
    "  labs(title = \"Distribution of Variables (Pre-Imputation, No NA)\", x = \"Value\", y = \"Count\") +\n",
    "  theme_minimal()\n",
    "plot_prior"
   ]
  },
  {
   "cell_type": "markdown",
   "id": "6fcfa675-e842-40c4-b5f4-fd457ce7333b",
   "metadata": {},
   "source": [
    "### <font color = yellow> Analysis of Comparison:  \n",
    "\n",
    "    - In many cases, missing values replaced by a placeholder (-1) will significantly alter the overall \n",
    "        shape of the plots, especially if they are signif (642 /1000) compared to the total number of observations.\n",
    "\n",
    "    - Plotting data w/many NAs or placeholders is not great.  \n",
    "  \n"
   ]
  },
  {
   "cell_type": "code",
   "execution_count": null,
   "id": "d7e28c7d-8483-4a21-945b-89c07f0ef01c",
   "metadata": {},
   "outputs": [],
   "source": []
  },
  {
   "cell_type": "markdown",
   "id": "471eb7b5-d8c6-4333-8e17-bf6b7a564b6b",
   "metadata": {},
   "source": [
    "### <font color = yellow> Remove the ID column from the data before AnY processing of data - done above"
   ]
  },
  {
   "cell_type": "code",
   "execution_count": null,
   "id": "9e4b173b-a822-45aa-a3ca-1b01201c58ec",
   "metadata": {},
   "outputs": [],
   "source": [
    "# dim(df_vars)\n",
    "# df_vars <- df_vars[, -1] \n",
    "# dim(df_vars)\n",
    "# head(df_vars, 2)"
   ]
  },
  {
   "cell_type": "code",
   "execution_count": null,
   "id": "9e04ffbd-c4cd-427b-bfbf-f21b096cd0b0",
   "metadata": {},
   "outputs": [],
   "source": []
  },
  {
   "cell_type": "code",
   "execution_count": null,
   "id": "f6f9e851-62e8-40ca-9605-9f518b92f28e",
   "metadata": {},
   "outputs": [],
   "source": [
    "dim(df_vars)\n",
    "head(df_vars, 3)"
   ]
  },
  {
   "cell_type": "code",
   "execution_count": null,
   "id": "3c5cf693-4d93-457f-a40d-b53efdddfd40",
   "metadata": {},
   "outputs": [],
   "source": []
  },
  {
   "cell_type": "markdown",
   "id": "97e7bddb-eb38-48dc-a658-13622f0fd9f4",
   "metadata": {},
   "source": [
    "### <font color = yellow> Preserve the locations where the NAs exist / to be replaced (imputed)"
   ]
  },
  {
   "cell_type": "code",
   "execution_count": null,
   "id": "98d9542d-263d-4618-954a-708b78be264b",
   "metadata": {},
   "outputs": [],
   "source": [
    "# Get the indices of the NAs .... req'd to put this df back together again\n",
    "\n",
    "fct.na <-  function(x) {is.na(x) }\n",
    "\n",
    "na_indices <- sapply(df_vars, fct.na)\n",
    "dim(na_indices)\n"
   ]
  },
  {
   "cell_type": "code",
   "execution_count": null,
   "id": "23f78b64-e097-44b5-a76c-f2478814d39f",
   "metadata": {},
   "outputs": [],
   "source": []
  },
  {
   "cell_type": "markdown",
   "id": "db23b7d6-3c99-49c7-b94f-efe08d272788",
   "metadata": {},
   "source": [
    "### <font color = yellow> Impute the existing / unmodified NA missing values w/ missForest \n",
    "\n",
    "#####  The Age var, a counting variable, it included here.  The imputed value w/not be integer\n",
    "\n",
    "#### The new df is named: df_fixed"
   ]
  },
  {
   "cell_type": "code",
   "execution_count": null,
   "id": "34262dd9-1438-42c0-98b2-5e563a0a4075",
   "metadata": {
    "scrolled": true
   },
   "outputs": [],
   "source": [
    "# Impute missing values\n",
    "imputed_data <- missForest(df_vars) \n",
    "\n",
    "dim(imputed_data$ximp)\n",
    "\n",
    "# Extract the complete dataframe ... new df w/ imputed values replacing the NAs \n",
    "df_fixed <- imputed_data$ximp\n",
    "dim(df_fixed)\n",
    "head(df_fixed, 3)"
   ]
  },
  {
   "cell_type": "code",
   "execution_count": null,
   "id": "4b9acb90-3c0f-4701-b9ae-bcc0ab6a7ddf",
   "metadata": {},
   "outputs": [],
   "source": []
  },
  {
   "cell_type": "markdown",
   "id": "a2986702-e194-4e0d-a0b2-0660db7a80c4",
   "metadata": {},
   "source": [
    "## <font color = yellow> Write the df_fixed to folder"
   ]
  },
  {
   "cell_type": "code",
   "execution_count": null,
   "id": "6e25bc6f-0d2f-4511-9541-fe4320fe90ae",
   "metadata": {},
   "outputs": [],
   "source": [
    "write.csv(df_fixed, file = \"df_fixed.csv\", row.names = FALSE)"
   ]
  },
  {
   "cell_type": "code",
   "execution_count": null,
   "id": "3ab0f6df-5a08-4f35-a8a7-18d0c8bd99c6",
   "metadata": {},
   "outputs": [],
   "source": []
  },
  {
   "cell_type": "code",
   "execution_count": null,
   "id": "1b7b87bf-8d3c-48ea-b797-11dfdc86d2b6",
   "metadata": {},
   "outputs": [],
   "source": [
    "dim(df_vars)\n",
    "head(df_vars, 3)"
   ]
  },
  {
   "cell_type": "markdown",
   "id": "9f452dd4-a9c3-4aee-9c60-85a798855892",
   "metadata": {},
   "source": [
    "### <font color = yellow> Explore estimated impute error rate"
   ]
  },
  {
   "cell_type": "code",
   "execution_count": null,
   "id": "59290daa-7a69-446c-8e63-43962723187c",
   "metadata": {},
   "outputs": [],
   "source": [
    "# Retrieve the estimated error from missForest\n",
    "oob_error <- imputed_data$OOBerror\n",
    "print(paste(\"Out-of-bag (OOB) Error:\", oob_error))\n"
   ]
  },
  {
   "cell_type": "code",
   "execution_count": null,
   "id": "e81fcf08-c1d2-49dd-bead-e2190626335d",
   "metadata": {},
   "outputs": [],
   "source": []
  },
  {
   "cell_type": "markdown",
   "id": "cd2fcdf9-3d95-42fd-b05c-99e33672566c",
   "metadata": {},
   "source": [
    "#### <font color = yellow>  The OOB Error: .0186 is a low error rate ... and better than the OOB perviously determined after removing zeros\n",
    "\n",
    "        - T/F, Will use the \"fixed df\", df named df_fixed,  for skewness analysis"
   ]
  },
  {
   "cell_type": "code",
   "execution_count": null,
   "id": "b553f769-2b6f-4331-930d-5debd40c6e11",
   "metadata": {},
   "outputs": [],
   "source": []
  },
  {
   "cell_type": "markdown",
   "id": "c6b509a0-b1d9-405c-8f8d-f5831887efdb",
   "metadata": {},
   "source": [
    "## <font color = yellow> Plot all the pre-skewness variables (matix format)"
   ]
  },
  {
   "cell_type": "code",
   "execution_count": null,
   "id": "1d5bbce2-86e2-4467-9d3e-8ab6b2a9b37a",
   "metadata": {},
   "outputs": [],
   "source": []
  },
  {
   "cell_type": "code",
   "execution_count": null,
   "id": "16662797-6bb1-483b-8153-a596af163229",
   "metadata": {},
   "outputs": [],
   "source": [
    "# Install and load necessary packages\n",
    "\n",
    "# Melt the dataframe \n",
    "df_melted <- melt(df_fixed)\n",
    "\n",
    "# View the melted dataframe\n",
    "dim(df_melted)\n",
    "head(df_melted)\n",
    "# review the vars for completeness\n",
    "unique(df_melted$variable)\n",
    "# summary(df_melted)"
   ]
  },
  {
   "cell_type": "code",
   "execution_count": null,
   "id": "0c3812e3-7fdd-4723-9f49-7c255dc30b43",
   "metadata": {},
   "outputs": [],
   "source": []
  },
  {
   "cell_type": "code",
   "execution_count": null,
   "id": "ce5c7e5d-caf5-46f6-a5ff-77b51ed46136",
   "metadata": {},
   "outputs": [],
   "source": [
    "# Faceted plot\n",
    "ggplot(df_melted, aes(x = value)) + \n",
    "  geom_histogram(bins = 10, fill = \"blue\", alpha = 0.7) +\n",
    "  facet_wrap(~ variable, scales = \"free\") +\n",
    "  labs(title = \"Distribution of Variables\", x = \"Value\", y = \"Count\") +\n",
    "  theme_minimal()"
   ]
  },
  {
   "cell_type": "code",
   "execution_count": null,
   "id": "57668741-d652-45f0-98be-4b1a152fdd8d",
   "metadata": {},
   "outputs": [],
   "source": [
    "# Compare with plot_prior\n",
    "plot_prior"
   ]
  },
  {
   "cell_type": "code",
   "execution_count": null,
   "id": "e6662348-039d-4bac-b461-e76a71e68644",
   "metadata": {},
   "outputs": [],
   "source": []
  },
  {
   "cell_type": "markdown",
   "id": "ee3b8937-bb98-40e9-8b6f-f17e7c00155b",
   "metadata": {},
   "source": [
    "### <font color = yellow> But ...Kids is not a continuous value.  Kids represent a count ... an integer variable\n",
    "\n",
    "#### Imput the Kids variable seperately using nearest neighbors (k-NN) ... returns an integer value\n",
    "\n",
    "#### Need to use the clean, pre-imputed data ... df_vars\n"
   ]
  },
  {
   "cell_type": "code",
   "execution_count": null,
   "id": "fe123b96-76f7-420e-8aea-b0fa02863631",
   "metadata": {},
   "outputs": [],
   "source": [
    "dim(df_vars)"
   ]
  },
  {
   "cell_type": "code",
   "execution_count": null,
   "id": "32d06633-f74f-4b63-841c-342073576a19",
   "metadata": {},
   "outputs": [],
   "source": []
  },
  {
   "cell_type": "code",
   "execution_count": null,
   "id": "ec7b1a0f-b205-4a7f-a02e-d62d3d68c5b0",
   "metadata": {},
   "outputs": [],
   "source": [
    "colnames(df_vars)"
   ]
  },
  {
   "cell_type": "code",
   "execution_count": null,
   "id": "80057030-f587-4cfe-8858-c2c4c7337172",
   "metadata": {},
   "outputs": [],
   "source": [
    "\n",
    "# Ensure df_fixed is a dataframe and contains the 'Kids' column\n",
    "if (!\"Kids\" %in% names(df_vars)) {\n",
    "  stop(\"The dataframe must contain the 'Kids' column\")\n",
    "}\n",
    "\n",
    "# Impute integer features using k-NN imputation\n",
    "# `kNN()` returns the complete dataframe with an additional 'Kids_imp' column for imputed values\n",
    "imputed_integer <- kNN(df_vars, variable = \"Kids\", k = 3)\n",
    "\n",
    "# Extract the imputed 'Kids' column\n",
    "vector_integer_imputed <- imputed_integer$Kids\n",
    "\n",
    "# View the imputed integer dataframe\n",
    "str(vector_integer_imputed)\n",
    "head(vector_integer_imputed,10)\n"
   ]
  },
  {
   "cell_type": "code",
   "execution_count": null,
   "id": "78e0b222-e645-494e-b5b6-f7cd775359b8",
   "metadata": {},
   "outputs": [],
   "source": [
    "# compare before / after imput\n",
    "head(df_vars$Kids, 10)"
   ]
  },
  {
   "cell_type": "code",
   "execution_count": null,
   "id": "7bd602c6-8b17-472a-9c01-e35f6ab45c46",
   "metadata": {},
   "outputs": [],
   "source": []
  },
  {
   "cell_type": "markdown",
   "id": "e3955723-b35b-42ea-87e2-e45707d36605",
   "metadata": {},
   "source": [
    "#### <font color = yellow> Insert the imputed Kids vector into a df_vars_x, and then impute the other missing vars w/missforrest()"
   ]
  },
  {
   "cell_type": "code",
   "execution_count": null,
   "id": "273f761c-06d4-424c-a83d-0af0e27d9fcc",
   "metadata": {},
   "outputs": [],
   "source": [
    "df_vars_x <- df_vars\n",
    "df_vars_x$Kids <- vector_integer_imputed\n",
    "sum(is.na(df_vars_x$Kids))\n",
    "dim(df_vars_x)\n",
    "head(df_vars_x, 6)"
   ]
  },
  {
   "cell_type": "code",
   "execution_count": null,
   "id": "80f02062-46d3-4c84-aad9-cc6b5708c6bf",
   "metadata": {},
   "outputs": [],
   "source": []
  },
  {
   "cell_type": "markdown",
   "id": "a50565a2-0cb3-499b-a5b4-7d67b5d72e1c",
   "metadata": {},
   "source": [
    "### <font color = yellow> Impute (anew) the remaining NAs in df_vars_x using missForrest"
   ]
  },
  {
   "cell_type": "code",
   "execution_count": null,
   "id": "bc6ae4c4-b5df-4510-b28b-c665fab3070d",
   "metadata": {},
   "outputs": [],
   "source": [
    "# Impute the other missing values\n",
    "imputed_data <- missForest(df_vars_x) \n",
    "\n",
    "dim(imputed_data$ximp)\n",
    "\n",
    "# Extract the complete dataframe ... new df w/ imputed values replacing the NAs \n",
    "df_fixed2 <- imputed_data$ximp\n",
    "dim(df_fixed2)\n",
    "head(df_fixed2, 3)"
   ]
  },
  {
   "cell_type": "code",
   "execution_count": null,
   "id": "35254f55-6166-4270-88bd-675fd12390d3",
   "metadata": {},
   "outputs": [],
   "source": []
  },
  {
   "cell_type": "markdown",
   "id": "dd5a02f3-b12e-41ca-978c-c826992e1aa6",
   "metadata": {},
   "source": [
    "### <font color = yellow> Explore estimated impute error rate in the better imputed data"
   ]
  },
  {
   "cell_type": "code",
   "execution_count": null,
   "id": "6f549d84-c337-4bce-af08-79c4c22c310c",
   "metadata": {},
   "outputs": [],
   "source": []
  },
  {
   "cell_type": "code",
   "execution_count": null,
   "id": "c0375ff8-8a27-4100-bc30-be310ef1826e",
   "metadata": {},
   "outputs": [],
   "source": [
    "# Retrieve the estimated error from missForest\n",
    "oob_error <- imputed_data$OOBerror\n",
    "print(paste(\"Out-of-bag (OOB) Error:\", oob_error))\n"
   ]
  },
  {
   "cell_type": "markdown",
   "id": "2d5c9d19-1be6-46db-9b0f-cde54157d2fc",
   "metadata": {},
   "source": [
    "### <font color = yellow> Not Good!\n",
    "\n",
    "#### This data was not cleared of those multi-var NA observations ... this used all 1000 rows\n",
    "\n",
    "    - [1] \"Out-of-bag (OOB) Error: 0.714625431146593\"\n"
   ]
  },
  {
   "cell_type": "code",
   "execution_count": null,
   "id": "b2745f7a-580f-46d4-a9bb-055625a336ee",
   "metadata": {},
   "outputs": [],
   "source": []
  },
  {
   "cell_type": "code",
   "execution_count": null,
   "id": "8282fe83-ee66-42ae-8038-79dd02ac4b80",
   "metadata": {},
   "outputs": [],
   "source": []
  },
  {
   "cell_type": "markdown",
   "id": "f78b9055-ce9c-42c7-8122-20b1b03d5aac",
   "metadata": {},
   "source": [
    "### <font color = yellow> cor(df)  - before normalization of data / after normalization\n",
    "\n",
    "    This method will return a correlation matrix that contains the Pearson correlation coefficient between each pairwise combination of numeric variables in a data frame.  A matrix represents the pairwise combonations. "
   ]
  },
  {
   "cell_type": "code",
   "execution_count": null,
   "id": "ea7aa830-968b-4cb3-b16a-661c2d79b219",
   "metadata": {},
   "outputs": [],
   "source": []
  },
  {
   "cell_type": "code",
   "execution_count": null,
   "id": "edfe3289-a486-4831-868a-bc8398e2273a",
   "metadata": {},
   "outputs": [],
   "source": [
    "# Calculate correlation matrix for original data (excluding ID column)\n",
    "cor_matrix <- cor(df_vars, use = \"complete.obs\")    # complete observations (rows w/out NAs)\n",
    "head(cor_matrix)\n"
   ]
  },
  {
   "cell_type": "code",
   "execution_count": null,
   "id": "83a8625f-0f98-4b08-855c-e7fef7239fac",
   "metadata": {},
   "outputs": [],
   "source": []
  },
  {
   "cell_type": "code",
   "execution_count": null,
   "id": "bae2d3c0-59e9-4ad0-8a6a-a8646c0f7575",
   "metadata": {},
   "outputs": [],
   "source": [
    "# Flatten the correlation matrix and remove self-correlations\n",
    "flatten_correlation_matrix <- function(cor_matrix) {\n",
    "  cor_matrix[lower.tri(cor_matrix, diag = TRUE)] <- NA  # Remove lower triangle and diagonal\n",
    "  cor_df <- as.data.frame(as.table(cor_matrix))\n",
    "  cor_df <- cor_df[complete.cases(cor_df), ]  # Remove NA values\n",
    "  colnames(cor_df) <- c(\"Variable1\", \"Variable2\", \"Correlation\")\n",
    "  return(cor_df)\n",
    "}\n",
    "\n",
    "cor_df <- flatten_correlation_matrix(cor_matrix)\n",
    "print(cor_df)\n"
   ]
  },
  {
   "cell_type": "code",
   "execution_count": null,
   "id": "602cc36e-811e-403e-800b-b09c2f5c5858",
   "metadata": {},
   "outputs": [],
   "source": []
  },
  {
   "cell_type": "markdown",
   "id": "9341e9b4-925d-4f56-8d86-ad7ccbfe843f",
   "metadata": {},
   "source": [
    "### <font color = yellow> Top Correlations"
   ]
  },
  {
   "cell_type": "code",
   "execution_count": null,
   "id": "f9e47155-24fc-4cc0-adb9-7a48da5e4f2c",
   "metadata": {},
   "outputs": [],
   "source": [
    "top_coefficients <- cor_df %>% arrange(desc(Correlation))\n",
    "head(top_coefficients)"
   ]
  },
  {
   "cell_type": "code",
   "execution_count": null,
   "id": "ba71f348-3f17-4db9-934c-8e70e8c4d0a8",
   "metadata": {},
   "outputs": [],
   "source": []
  },
  {
   "cell_type": "code",
   "execution_count": null,
   "id": "7b54fc32-4e26-4b0a-8df8-ea18f9910be1",
   "metadata": {},
   "outputs": [],
   "source": [
    "\n",
    "colnames(cor_matrix) <- rownames(cor_matrix) <- c(\"Age\", \"Annual.Income\", \"Number.of.Dependents\", \"Health.Score\", \"Previous.Claims\", \"Vehicle.Age\", \"Credit.Score\", \"Insurance.Duration\")\n",
    "\n",
    "# Melt the correlation matrix\n",
    "melted_corr <- melt(cor_matrix)\n",
    "\n",
    "# Plot heatmap\n",
    "# Plot heatmap with more intense colors for high correlations \n",
    "ggplot(data = melted_corr, aes(x = Var1, y = Var2, fill = value)) + \n",
    "    geom_tile(color = \"white\") + \n",
    "    scale_fill_gradient2(low = \"blue\", mid = \"white\", high = \"red\", \n",
    "                     midpoint = 0, limit = c(-1, 1), space = \"Lab\", name = \"Correlation\") + \n",
    "    theme_minimal() + \n",
    "    theme(axis.text.x = element_text(angle = 45, vjust = 1, size = 12, hjust = 1)) + \n",
    "    coord_fixed()"
   ]
  },
  {
   "cell_type": "code",
   "execution_count": null,
   "id": "c5a3a505-63d3-4bd8-b5db-6d3ae1a6b525",
   "metadata": {},
   "outputs": [],
   "source": []
  },
  {
   "cell_type": "markdown",
   "id": "26f6e774-746f-4f5b-ac85-5a893507e77f",
   "metadata": {},
   "source": [
    "# <font color = yellow> Determine the probabilities ... the p-values\n",
    "\n",
    "#### Interpreting p-values:\n",
    "\n",
    "- Low p-value (< 0.05): Indicates strong evidence against the null hypothesis,\n",
    "   suggesting that the observed correlation is statistically significant."
   ]
  },
  {
   "cell_type": "code",
   "execution_count": null,
   "id": "c31fb1a4-e846-4bca-8b28-00fbeb5b62e0",
   "metadata": {},
   "outputs": [],
   "source": [
    "library(Hmisc)\n",
    "cor_matrix <- rcorr(as.matrix(df_vars))\n",
    "# \n",
    "#print(pval_list)"
   ]
  },
  {
   "cell_type": "code",
   "execution_count": null,
   "id": "c1475216-cabb-4776-b82b-3faf17e9bc21",
   "metadata": {},
   "outputs": [],
   "source": [
    "str(cor_matrix)\n",
    "is.matrix(cor_matrix)"
   ]
  },
  {
   "cell_type": "code",
   "execution_count": null,
   "id": "72a0ed5c-50bf-4a88-9139-c38c61cd6d90",
   "metadata": {},
   "outputs": [],
   "source": []
  },
  {
   "cell_type": "markdown",
   "id": "7a0b2e24-16c2-41b5-92f8-4f9f2bef8279",
   "metadata": {},
   "source": [
    "### <font color = yellow> p-value outcome: Income & Kids have low p-values - t/f... indicate statistical significance"
   ]
  },
  {
   "cell_type": "code",
   "execution_count": null,
   "id": "5071a0cb-69ec-40d4-8bb9-aa17d548c8b8",
   "metadata": {},
   "outputs": [],
   "source": [
    "# Extract p-values matrix\n",
    "pval_matrix <- cor_matrix$P\n",
    "\n",
    "# Flatten the p-values matrix to a long format dataframe\n",
    "flatten_pval_matrix <- function(pval_matrix) {\n",
    "  pval_matrix[lower.tri(pval_matrix, diag = TRUE)] <- NA  # Remove lower triangle and diagonal\n",
    "  pval_df <- as.data.frame(as.table(pval_matrix))\n",
    "  pval_df <- pval_df[complete.cases(pval_df), ]  # Remove NA values\n",
    "  colnames(pval_df) <- c(\"Variable1\", \"Variable2\", \"p_value\")\n",
    "  return(pval_df)\n",
    "}\n",
    "\n",
    "df_pval <- flatten_pval_matrix(pval_matrix)\n",
    "\n",
    "# View the resulting dataframe\n",
    "dim(df_pval)\n",
    "head(df_pval, 2)\n",
    "df_pval <- df_pval %>% arrange(p_value)\n",
    "head(df_pval)"
   ]
  },
  {
   "cell_type": "code",
   "execution_count": null,
   "id": "a9e2e5bc-2462-437d-b745-4cce85d0bf52",
   "metadata": {},
   "outputs": [],
   "source": []
  },
  {
   "cell_type": "code",
   "execution_count": null,
   "id": "1371024b-66bb-4da5-846c-985cbad43203",
   "metadata": {},
   "outputs": [],
   "source": []
  },
  {
   "cell_type": "markdown",
   "id": "1e7c8901-5cce-478f-8af5-9196527e2dd2",
   "metadata": {},
   "source": [
    "### <font color = yellow> Next Step: Calculate the Skewness, consider direction and size"
   ]
  },
  {
   "cell_type": "code",
   "execution_count": null,
   "id": "516b26de-5fd3-4654-8cea-2bd31129db21",
   "metadata": {},
   "outputs": [],
   "source": [
    "\n",
    "colnames(df_fixed)"
   ]
  },
  {
   "cell_type": "code",
   "execution_count": null,
   "id": "3be12960-7239-40d2-b098-62cdeb1b547f",
   "metadata": {},
   "outputs": [],
   "source": [
    "# Calculate skewness for each variable\n",
    "skewness_Age <- skewness(df_fixed$Age, na.rm = TRUE)\n",
    "skewness_Income <- skewness(df_fixed$Income, na.rm = TRUE)\n",
    "skewness_Dependents <- skewness(df_fixed$Kids, na.rm = TRUE)\n",
    "skewness_HC <- skewness(df_fixed$Health, na.rm = TRUE)\n",
    "skewness_PC <- skewness(df_fixed$Claims, na.rm = TRUE)\n",
    "skewness_CS <- skewness(df_fixed$Credit, na.rm = TRUE)\n",
    "skewness_ID <- skewness(df_fixed$InsDur, na.rm = TRUE)\n",
    "\n",
    "# Print skewness values\n",
    "print(paste(\"Skewness of Age:\", skewness_Age))\n",
    "print(paste(\"Skewness of Income:\", skewness_Income))\n",
    "print(paste(\"Skewness of Dependents:\", skewness_Dependents))\n",
    "print(paste(\"Skewness of Health Score:\", skewness_HC))\n",
    "print(paste(\"Skewness of Previous Claims:\", skewness_PC))\n",
    "print(paste(\"Skewness of Credit Score:\", skewness_CS))\n",
    "print(paste(\"Skewness of Credit Score:\", skewness_ID))"
   ]
  },
  {
   "cell_type": "code",
   "execution_count": null,
   "id": "edb46d4b-fce9-4144-a3c9-86d99fa0e2a4",
   "metadata": {},
   "outputs": [],
   "source": []
  },
  {
   "cell_type": "code",
   "execution_count": null,
   "id": "ed67dbab-3cfd-406d-9163-ab276247a001",
   "metadata": {},
   "outputs": [],
   "source": []
  },
  {
   "cell_type": "code",
   "execution_count": null,
   "id": "a115c2ae-8de9-46db-bae3-0db55654ca59",
   "metadata": {},
   "outputs": [],
   "source": []
  },
  {
   "cell_type": "code",
   "execution_count": null,
   "id": "9af46e13-141b-47e5-8098-4712562776be",
   "metadata": {},
   "outputs": [],
   "source": []
  },
  {
   "cell_type": "code",
   "execution_count": null,
   "id": "3a440a83-472e-4ea2-b794-4388bdd83f14",
   "metadata": {},
   "outputs": [],
   "source": []
  }
 ],
 "metadata": {
  "kernelspec": {
   "display_name": "R",
   "language": "R",
   "name": "ir"
  },
  "language_info": {
   "codemirror_mode": "r",
   "file_extension": ".r",
   "mimetype": "text/x-r-source",
   "name": "R",
   "pygments_lexer": "r",
   "version": "4.3.0"
  }
 },
 "nbformat": 4,
 "nbformat_minor": 5
}
