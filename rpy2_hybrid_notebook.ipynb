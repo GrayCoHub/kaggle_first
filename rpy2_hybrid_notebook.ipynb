{
 "cells": [
  {
   "cell_type": "markdown",
   "id": "860e9229-272c-4996-8d7b-14f7322b2591",
   "metadata": {},
   "source": [
    "# <font color = yellow> The \"hybrid\" notebook\" \n",
    "\n",
    "#### Requirements to use R code in the python notebook\n",
    "    \n",
    "    !pip install rpy2\n",
    "\n",
    "    import os\n",
    "    os.environ['R_HOME'] = 'C:/Program Files/R/R-4.3.0'  # Adjust this path to your R installation\n",
    "\n",
    "    %reload_ext rpy2.ipython\n",
    "\n",
    "\n",
    "    https://search.r-project.org/R/refmans/base/html/00Index.html"
   ]
  },
  {
   "cell_type": "code",
   "execution_count": null,
   "id": "4de208b9-66bb-472e-acf4-897aab9488f4",
   "metadata": {},
   "outputs": [],
   "source": []
  },
  {
   "cell_type": "code",
   "execution_count": 1,
   "id": "2bfc5b3e-0b32-406d-92da-7b5a37dbcdea",
   "metadata": {},
   "outputs": [
    {
     "name": "stdout",
     "output_type": "stream",
     "text": [
      "Requirement already satisfied: rpy2 in c:\\all_programming\\kaggle\\venv\\lib\\site-packages (3.4.5)\n",
      "Requirement already satisfied: cffi>=1.10.0 in c:\\all_programming\\kaggle\\venv\\lib\\site-packages (from rpy2) (1.17.1)\n",
      "Requirement already satisfied: jinja2 in c:\\all_programming\\kaggle\\venv\\lib\\site-packages (from rpy2) (3.1.4)\n",
      "Requirement already satisfied: pytz in c:\\all_programming\\kaggle\\venv\\lib\\site-packages (from rpy2) (2024.2)\n",
      "Requirement already satisfied: tzlocal in c:\\all_programming\\kaggle\\venv\\lib\\site-packages (from rpy2) (5.2)\n",
      "Requirement already satisfied: pycparser in c:\\all_programming\\kaggle\\venv\\lib\\site-packages (from cffi>=1.10.0->rpy2) (2.22)\n",
      "Requirement already satisfied: MarkupSafe>=2.0 in c:\\all_programming\\kaggle\\venv\\lib\\site-packages (from jinja2->rpy2) (3.0.2)\n",
      "Requirement already satisfied: tzdata in c:\\all_programming\\kaggle\\venv\\lib\\site-packages (from tzlocal->rpy2) (2024.2)\n"
     ]
    },
    {
     "name": "stderr",
     "output_type": "stream",
     "text": [
      "C:\\all_programming\\Kaggle\\venv\\lib\\site-packages\\rpy2\\robjects\\packages.py:366: UserWarning: The symbol 'quartz' is not in this R namespace/package.\n",
      "  warnings.warn(\n"
     ]
    }
   ],
   "source": [
    "\n",
    "!pip install rpy2\n",
    "\n",
    "import os\n",
    "os.environ['R_HOME'] = 'C:/Program Files/R/R-4.3.0'  # Adjust this path to your R installation\n",
    "\n",
    "%reload_ext rpy2.ipython\n"
   ]
  },
  {
   "cell_type": "code",
   "execution_count": null,
   "id": "0cf2c8ed-cb7f-47cb-a971-23b6aa8554f9",
   "metadata": {},
   "outputs": [],
   "source": []
  },
  {
   "cell_type": "code",
   "execution_count": 2,
   "id": "410fa1de-d2c0-4019-ab56-b2f76c7abfe2",
   "metadata": {},
   "outputs": [
    {
     "name": "stdout",
     "output_type": "stream",
     "text": [
      "'data.frame':\t3 obs. of  2 variables:\n",
      " $ Num : num  1 2 3\n",
      " $ Name: chr  \"Able\" \"Bravo\" \"Charlie\"\n",
      "  Num    Name\n",
      "1   1    Able\n",
      "2   2   Bravo\n",
      "3   3 Charlie\n"
     ]
    }
   ],
   "source": [
    "%%R\n",
    "df <- data.frame(\n",
    "    Num = c(1,2,3), \n",
    "    Name = c(\"Able\", \"Bravo\", \"Charlie\")\n",
    "    )\n",
    "\n",
    "str(df)\n",
    "print(df)"
   ]
  },
  {
   "cell_type": "code",
   "execution_count": null,
   "id": "cbd9e4f2-422e-4be5-a46e-ab8a16a892a2",
   "metadata": {},
   "outputs": [],
   "source": []
  },
  {
   "cell_type": "code",
   "execution_count": 3,
   "id": "9b2d6c45-d07f-434a-8ec4-b0b764e89e45",
   "metadata": {},
   "outputs": [
    {
     "name": "stderr",
     "output_type": "stream",
     "text": [
      "R[write to console]: \n",
      "Attaching package: 'dplyr'\n",
      "\n",
      "\n",
      "R[write to console]: The following objects are masked from 'package:stats':\n",
      "\n",
      "    filter, lag\n",
      "\n",
      "\n",
      "R[write to console]: The following objects are masked from 'package:base':\n",
      "\n",
      "    intersect, setdiff, setequal, union\n",
      "\n",
      "\n"
     ]
    }
   ],
   "source": [
    "%%R\n",
    "library(dplyr)"
   ]
  },
  {
   "cell_type": "code",
   "execution_count": 4,
   "id": "fba26215-25ad-4fe3-ac66-bc7e12ee6dd4",
   "metadata": {},
   "outputs": [
    {
     "name": "stdout",
     "output_type": "stream",
     "text": [
      "'data.frame':\t3 obs. of  3 variables:\n",
      " $ Name  : chr  \"John\" \"Alice\" \"Bob\"\n",
      " $ Age   : num  28 34 29\n",
      " $ Salary: num  50000 60000 55000\n",
      "\u001b[38;5;246m# A tibble: 3 x 3\u001b[39m\n",
      "    Age Avg_Salary Count\n",
      "  \u001b[3m\u001b[38;5;246m<dbl>\u001b[39m\u001b[23m      \u001b[3m\u001b[38;5;246m<dbl>\u001b[39m\u001b[23m \u001b[3m\u001b[38;5;246m<int>\u001b[39m\u001b[23m\n",
      "\u001b[38;5;250m1\u001b[39m    28      \u001b[4m5\u001b[24m\u001b[4m0\u001b[24m000     1\n",
      "\u001b[38;5;250m2\u001b[39m    29      \u001b[4m5\u001b[24m\u001b[4m5\u001b[24m000     1\n",
      "\u001b[38;5;250m3\u001b[39m    34      \u001b[4m6\u001b[24m\u001b[4m0\u001b[24m000     1\n"
     ]
    }
   ],
   "source": [
    "%%R\n",
    "# Load necessary libraries\n",
    "\n",
    "# Create a sample dataframe\n",
    "df <- data.frame(\n",
    "  Name = c(\"John\", \"Alice\", \"Bob\"),\n",
    "  Age = c(28, 34, 29),\n",
    "  Salary = c(50000, 60000, 55000)\n",
    ")\n",
    "\n",
    "str(df)\n",
    "\n",
    "# Use dplyr verbs to manipulate the dataframe\n",
    "df_summary <- df %>%\n",
    "  group_by(Age) %>%\n",
    "  summarise(\n",
    "    Avg_Salary = mean(Salary),\n",
    "    Count = n()\n",
    "  )\n",
    "\n",
    "# Print the summary dataframe\n",
    "print(df_summary)\n"
   ]
  },
  {
   "cell_type": "code",
   "execution_count": 5,
   "id": "d2691dfc-8fa5-4a49-aefd-23b5e21f0e34",
   "metadata": {},
   "outputs": [
    {
     "data": {
      "image/png": "[encoded data removed]"
     },
     "metadata": {},
     "output_type": "display_data"
    }
   ],
   "source": [
    "%%R\n",
    "x <- c(1, 2, 3, 4, 5)\n",
    "y <- c(5, 4, 3, 2, 1)\n",
    "plot(x, y, main=\"Plot of x and y\", xlab=\"x-axis\", ylab=\"y-axis\")\n"
   ]
  },
  {
   "cell_type": "code",
   "execution_count": null,
   "id": "3890755d-2733-4245-997c-a2364d009c23",
   "metadata": {},
   "outputs": [],
   "source": []
  },
  {
   "cell_type": "markdown",
   "id": "2cba42ea-1f9b-4962-87d8-0fc43178d7c5",
   "metadata": {},
   "source": [
    "### <font color = yellow> Helpful fct() to get info about r fcts "
   ]
  },
  {
   "cell_type": "code",
   "execution_count": 6,
   "id": "01f64679-f21e-4032-812f-5525aacf8dc5",
   "metadata": {},
   "outputs": [],
   "source": [
    "%%R\n",
    "\n",
    "\n",
    "# func_name is a necessary placeholder\n",
    "\n",
    "open_r_code <- function(func_name) {\n",
    "  # Base URL for the R documentation index\n",
    "  base_url <- \"https://search.r-project.org/R/refmans/base/html/\"\n",
    "  \n",
    "  # Construct the full URL for the given function\n",
    "  full_url <- paste0(base_url, func_name, \".html\")\n",
    "  \n",
    "  # Open the URL in the default web browser\n",
    "  browseURL(full_url)\n",
    "}\n",
    "\n",
    "# Example usage\n",
    "fct <- \"tapply\"\n",
    "open_r_code(fct)\n"
   ]
  },
  {
   "cell_type": "code",
   "execution_count": null,
   "id": "3a57818c-6421-4c2b-a0cc-1ddb13be88e9",
   "metadata": {},
   "outputs": [],
   "source": []
  },
  {
   "cell_type": "code",
   "execution_count": 7,
   "id": "af0e099c-1033-4c14-b714-45e702e63524",
   "metadata": {},
   "outputs": [
    {
     "name": "stdout",
     "output_type": "stream",
     "text": [
      "function (.data, ..., .by_group = FALSE) \n",
      "{\n",
      "    UseMethod(\"arrange\")\n",
      "}\n",
      "<bytecode: 0x000001f6e4bf6e98>\n",
      "<environment: namespace:dplyr>\n"
     ]
    }
   ],
   "source": [
    "%%R\n",
    "arrange"
   ]
  },
  {
   "cell_type": "code",
   "execution_count": null,
   "id": "314711e0-fae4-498e-a16d-b45cc2f054ed",
   "metadata": {},
   "outputs": [],
   "source": []
  },
  {
   "cell_type": "code",
   "execution_count": 8,
   "id": "9b4edd8e-a2e4-4fbf-ac12-439a4c88569f",
   "metadata": {},
   "outputs": [
    {
     "name": "stdout",
     "output_type": "stream",
     "text": [
      "  Region Sales\n",
      "1  North   100\n",
      "2  North   150\n",
      "3  South   200\n",
      "4  South   250\n",
      "5   East   300\n",
      "6   East   350\n",
      "\u001b[38;5;246m# A tibble: 3 x 2\u001b[39m\n",
      "  Region TotalSales\n",
      "  \u001b[3m\u001b[38;5;246m<chr>\u001b[39m\u001b[23m       \u001b[3m\u001b[38;5;246m<dbl>\u001b[39m\u001b[23m\n",
      "\u001b[38;5;250m1\u001b[39m East          650\n",
      "\u001b[38;5;250m2\u001b[39m North         250\n",
      "\u001b[38;5;250m3\u001b[39m South         450\n"
     ]
    }
   ],
   "source": [
    "%%R\n",
    "\n",
    "# library(dplyr)\n",
    "\n",
    "# Example data frame\n",
    "sales_data <- data.frame(\n",
    "  Region = c(\"North\", \"North\", \"South\", \"South\", \"East\", \"East\"),\n",
    "  Sales = c(100, 150, 200, 250, 300, 350)\n",
    ")\n",
    "\n",
    "print(sales_data)\n",
    "\n",
    "# Group by Region and summarize total sales\n",
    "total_sales_per_region <- sales_data %>%\n",
    "  group_by(Region) %>%\n",
    "  summarize(TotalSales = sum(Sales))\n",
    "\n",
    "print(total_sales_per_region)\n"
   ]
  },
  {
   "cell_type": "code",
   "execution_count": 9,
   "id": "7c198f51-b18a-42e4-bbfc-1bb8e7836e16",
   "metadata": {},
   "outputs": [
    {
     "name": "stderr",
     "output_type": "stream",
     "text": [
      "R[write to console]: starting httpd help server ...\n",
      "R[write to console]:  done\n",
      "\n"
     ]
    }
   ],
   "source": [
    "%%R\n",
    "?by"
   ]
  },
  {
   "cell_type": "code",
   "execution_count": 10,
   "id": "b1eb4c61-feb9-4caf-9d8c-be2b96f55dd9",
   "metadata": {},
   "outputs": [
    {
     "name": "stdout",
     "output_type": "stream",
     "text": [
      "function (data, INDICES, FUN, ..., simplify = TRUE) \n",
      "UseMethod(\"by\")\n",
      "<bytecode: 0x000001f6f5fd4a00>\n",
      "<environment: namespace:base>\n"
     ]
    }
   ],
   "source": [
    "%%R\n",
    "by"
   ]
  },
  {
   "cell_type": "code",
   "execution_count": 11,
   "id": "9ce2d0b5-853b-40c7-802e-63a54412f14f",
   "metadata": {},
   "outputs": [
    {
     "name": "stdout",
     "output_type": "stream",
     "text": [
      "function (.data, ..., .by = NULL, .groups = NULL) \n",
      "{\n",
      "    by <- enquo(.by)\n",
      "    if (!quo_is_null(by) && !is.null(.groups)) {\n",
      "        abort(\"Can't supply both `.by` and `.groups`.\")\n",
      "    }\n",
      "    UseMethod(\"summarise\")\n",
      "}\n",
      "<bytecode: 0x000001f6f43b8c58>\n",
      "<environment: namespace:dplyr>\n"
     ]
    }
   ],
   "source": [
    "%%R\n",
    "summarize"
   ]
  },
  {
   "cell_type": "code",
   "execution_count": 12,
   "id": "15cabfda-c64a-4c65-aaae-83130050f963",
   "metadata": {},
   "outputs": [
    {
     "name": "stdout",
     "output_type": "stream",
     "text": [
      "sales_data$Region: East\n",
      "[1] 325\n",
      "------------------------------------------------------------ \n",
      "sales_data$Region: North\n",
      "[1] 125\n",
      "------------------------------------------------------------ \n",
      "sales_data$Region: South\n",
      "[1] 225\n"
     ]
    }
   ],
   "source": [
    "%%R\n",
    "# Sample data frame\n",
    "sales_data <- data.frame(\n",
    "  Region = c(\"North\", \"North\", \"South\", \"South\", \"East\", \"East\"),\n",
    "  Sales = c(100, 150, 200, 250, 300, 350)\n",
    ")\n",
    "\n",
    "# Using by() to calculate mean sales per region\n",
    "mean_sales_by_region <- by(sales_data$Sales, sales_data$Region, mean)\n",
    "\n",
    "print(mean_sales_by_region)\n"
   ]
  },
  {
   "cell_type": "code",
   "execution_count": 13,
   "id": "aa3fc470-2622-4632-85c2-734a4d8f12ae",
   "metadata": {},
   "outputs": [
    {
     "name": "stdout",
     "output_type": "stream",
     "text": [
      "[1] 1200000      21\n"
     ]
    }
   ],
   "source": [
    "%%R\n",
    "# Load the test dataset\n",
    "test_path <- \"C:\\\\all_programming\\\\Kaggle\\\\datasets\\\\test\\\\test.csv\"\n",
    "df_test <- read.csv(test_path, stringsAsFactors = FALSE)\n",
    "dim(df_test)   # has empty fields\n",
    "\n",
    "train_path <- \"C:\\\\all_programming\\\\Kaggle\\\\datasets\\\\train\\\\train.csv\"\n",
    "df_train <- read.csv(train_path, stringsAsFactors = FALSE)\n",
    "dim(df_train)\n"
   ]
  },
  {
   "cell_type": "code",
   "execution_count": 14,
   "id": "1cfaaec3-343a-4a2d-a255-709cafd0d9e5",
   "metadata": {},
   "outputs": [
    {
     "name": "stdout",
     "output_type": "stream",
     "text": [
      "function (x, do.NULL = TRUE, prefix = \"col\") \n",
      "{\n",
      "    if (is.data.frame(x) && do.NULL) \n",
      "        return(names(x))\n",
      "    dn <- dimnames(x)\n",
      "    if (!is.null(dn[[2L]])) \n",
      "        dn[[2L]]\n",
      "    else {\n",
      "        nc <- NCOL(x)\n",
      "        if (do.NULL) \n",
      "            NULL\n",
      "        else if (nc > 0L) \n",
      "            paste0(prefix, seq_len(nc))\n",
      "        else character()\n",
      "    }\n",
      "}\n",
      "<bytecode: 0x000001f6e1207cd0>\n",
      "<environment: namespace:base>\n"
     ]
    }
   ],
   "source": [
    "%%R\n",
    "dim(df_test)\n",
    "colnames"
   ]
  },
  {
   "cell_type": "code",
   "execution_count": 15,
   "id": "9e2b7700-2126-465d-8cba-a0aa71f1e48d",
   "metadata": {},
   "outputs": [
    {
     "name": "stdout",
     "output_type": "stream",
     "text": [
      " [1] \"id\"                   \"Age\"                  \"Gender\"              \n",
      " [4] \"Annual.Income\"        \"Marital.Status\"       \"Number.of.Dependents\"\n",
      " [7] \"Education.Level\"      \"Occupation\"           \"Health.Score\"        \n",
      "[10] \"Location\"             \"Policy.Type\"          \"Previous.Claims\"     \n",
      "[13] \"Vehicle.Age\"          \"Credit.Score\"         \"Insurance.Duration\"  \n",
      "[16] \"Policy.Start.Date\"    \"Customer.Feedback\"    \"Smoking.Status\"      \n",
      "[19] \"Exercise.Frequency\"   \"Property.Type\"       \n"
     ]
    }
   ],
   "source": [
    "%%R\n",
    "colnames(df_test)"
   ]
  },
  {
   "cell_type": "code",
   "execution_count": 16,
   "id": "81673cb1-973a-4ef4-9a58-f9cd06c08b45",
   "metadata": {},
   "outputs": [
    {
     "name": "stdout",
     "output_type": "stream",
     "text": [
      "function (x)  .Primitive(\"is.na\")\n"
     ]
    }
   ],
   "source": [
    "%%R\n",
    "is.na"
   ]
  },
  {
   "cell_type": "code",
   "execution_count": null,
   "id": "633b1a34-d60e-4c54-8485-633bf79c9e75",
   "metadata": {},
   "outputs": [],
   "source": []
  },
  {
   "cell_type": "code",
   "execution_count": 17,
   "id": "cf87aecc-4870-4327-8e45-40fa285b0359",
   "metadata": {},
   "outputs": [
    {
     "name": "stdout",
     "output_type": "stream",
     "text": [
      "      Value\n",
      "1    800000\n",
      "2 123456789\n",
      "3 987654321\n"
     ]
    }
   ],
   "source": [
    "%%R\n",
    "# Set the scientific notation penalty to a high value to avoid scientific notation\n",
    "options(scipen = 999)\n",
    "# Example dataframe\n",
    "df_test <- data.frame(Value = c(800000, 123456789, 987654321))\n",
    "\n",
    "# Print the demo of reform\n",
    "print(df_test)\n"
   ]
  },
  {
   "cell_type": "code",
   "execution_count": 18,
   "id": "279d2759-9a7e-46d3-9e99-5d87c446f644",
   "metadata": {},
   "outputs": [],
   "source": [
    "%%R\n",
    "sum_test_age <- by(df_test$Age, df_test$Property.Type, function(x) sum(is.na(x)))\n",
    "print(sum_test_age)"
   ]
  },
  {
   "cell_type": "code",
   "execution_count": 19,
   "id": "662ca3a5-5e27-4482-ac66-e9b39b656ba6",
   "metadata": {},
   "outputs": [
    {
     "name": "stdout",
     "output_type": "stream",
     "text": [
      "\n",
      "\t The sum of the na's is:  12489"
     ]
    }
   ],
   "source": [
    "%%R\n",
    "sum_na <- sum(4108+4159+4222)\n",
    "cat(\"\\n\\t The sum of the na's is: \", sum_na)"
   ]
  },
  {
   "cell_type": "code",
   "execution_count": 20,
   "id": "574c8ccb-09a6-4bed-b365-f9912a19b9e4",
   "metadata": {},
   "outputs": [
    {
     "name": "stdout",
     "output_type": "stream",
     "text": [
      " \n",
      " \n",
      "integer(0)\n"
     ]
    }
   ],
   "source": [
    "%%R\n",
    "\n",
    "# options(scipen = 999)\n",
    "\n",
    "sum_na <- by(df_test$Age, df_test$Property.Type, function(x) sum(!is.na(x)))\n",
    "cat(sum_na, \"\\n\")\n",
    "sum_not_na <- by(df_test$Age, df_test$Property.Type, function(x) sum(is.na(x)))\n",
    "cat(sum_not_na, \"\\n\")\n",
    "sum_ages <- sum_na + sum_not_na\n",
    "print(sum_ages)"
   ]
  },
  {
   "cell_type": "code",
   "execution_count": 21,
   "id": "7f474055-6527-4cdd-8bca-21743c18c5bd",
   "metadata": {},
   "outputs": [],
   "source": [
    "%%R\n",
    "sum_na <- by(df_test$Age, df_test$Property.Type, function(x) sum(!is.na(x)))\n",
    "sum_na"
   ]
  },
  {
   "cell_type": "code",
   "execution_count": 22,
   "id": "f636654c-17a6-454c-9486-ba7c60cde321",
   "metadata": {},
   "outputs": [],
   "source": [
    "%%R\n",
    "sum_not_na <- by(df_test$Age, df_test$Property.Type, function(x) sum(is.na(x)))\n",
    "print(sum_not_na, \"\\n\")"
   ]
  },
  {
   "cell_type": "code",
   "execution_count": null,
   "id": "34ef8447-c254-4fbc-a024-87f75e5ca43a",
   "metadata": {},
   "outputs": [],
   "source": []
  },
  {
   "cell_type": "code",
   "execution_count": 23,
   "id": "c194e6b1-ed37-4a48-a1d6-88fad7580ac3",
   "metadata": {},
   "outputs": [
    {
     "name": "stdout",
     "output_type": "stream",
     "text": [
      "\n",
      "\t The distribution of the ages by property types are:   \n",
      "[1] 800000\n"
     ]
    }
   ],
   "source": [
    "%%R\n",
    "cat(\"\\n\\t The distribution of the ages by property types are: \", sum_ages,\"\\n\")\n",
    "n <- (266044+266805+267151)\n",
    "n"
   ]
  },
  {
   "cell_type": "code",
   "execution_count": 24,
   "id": "42f5beb7-3056-4747-b624-cecc6f73666c",
   "metadata": {},
   "outputs": [
    {
     "name": "stdout",
     "output_type": "stream",
     "text": [
      "\n",
      "\t The sum of the na's is:  799818"
     ]
    }
   ],
   "source": [
    "%%R\n",
    "sum_test_age <- by(df_test$Age, df_test$Property.Type, function(x) sum(x == '', na.rm = TRUE))\n",
    "print(sum_test_age)\n",
    "sum_na <- sum(261936+262464+262929+12489)\n",
    "cat(\"\\n\\t The sum of the na's is: \", sum_na)"
   ]
  },
  {
   "cell_type": "code",
   "execution_count": null,
   "id": "9171a9f4-38c0-4442-bcad-3bbda7dbb278",
   "metadata": {},
   "outputs": [],
   "source": []
  },
  {
   "cell_type": "code",
   "execution_count": 25,
   "id": "328b6c5c-0b20-4309-a71f-adcfec8e9d6d",
   "metadata": {},
   "outputs": [
    {
     "name": "stdout",
     "output_type": "stream",
     "text": [
      " A  B \n",
      "30 30 \n"
     ]
    }
   ],
   "source": [
    "%%R\n",
    "# Sample data\n",
    "values <- c(10, 20, 30, NA)\n",
    "group <- c(\"A\", \"A\", \"B\", \"B\")\n",
    "\n",
    "# Using tapply() with default = NA\n",
    "result <- tapply(values, group, sum, na.rm = TRUE, default = NA)\n",
    "print(result)\n"
   ]
  },
  {
   "cell_type": "code",
   "execution_count": 26,
   "id": "b8c6e8bc-f925-49c1-9d12-27e2707297f1",
   "metadata": {},
   "outputs": [
    {
     "name": "stdout",
     "output_type": "stream",
     "text": [
      " A  B \n",
      "30 NA \n"
     ]
    }
   ],
   "source": [
    "%%R\n",
    "# Sample data\n",
    "values <- c(10, 20, 30, NA)\n",
    "group <- c(\"A\", \"A\", \"B\", \"B\")\n",
    "\n",
    "# Using tapply() with default = NA\n",
    "result <- tapply(values, group, sum, na.rm = FALSE, default = NA)\n",
    "print(result)"
   ]
  },
  {
   "cell_type": "code",
   "execution_count": null,
   "id": "1cd4644e-f606-4a69-8850-5a0a4bc36b4b",
   "metadata": {},
   "outputs": [],
   "source": []
  },
  {
   "cell_type": "code",
   "execution_count": 27,
   "id": "3bd66f9e-ffc4-4c9a-aa1a-ba4cd17713af",
   "metadata": {},
   "outputs": [
    {
     "name": "stdout",
     "output_type": "stream",
     "text": [
      "Apartment     Condo     House \n",
      " 25.61171  25.64999  25.58010 \n"
     ]
    }
   ],
   "source": [
    "%%R \n",
    "# Calculate mean Health.Score for each Property.Type\n",
    "mean_health_score <- tapply(df_train$Health.Score, df_train$Property.Type, mean, na.rm = TRUE)\n",
    "print(mean_health_score)\n"
   ]
  },
  {
   "cell_type": "code",
   "execution_count": 28,
   "id": "475e67f6-0e32-48bb-b07e-c828e937e17d",
   "metadata": {},
   "outputs": [
    {
     "name": "stdout",
     "output_type": "stream",
     "text": [
      "          by.df_train.Health.Score..df_train.Property.Type..mean..na.rm...TRUE.\n",
      "Apartment                                                              25.61171\n",
      "Condo                                                                  25.64999\n",
      "House                                                                  25.58010\n",
      "Hello \n",
      "'data.frame':\t3 obs. of  1 variable:\n",
      " $ by.df_train.Health.Score..df_train.Property.Type..mean..na.rm...TRUE.: 'by' num [1:3(1d)] 25.6 25.6 25.6\n",
      "  ..- attr(*, \"call\")= language by.default(data = df_train$Health.Score, INDICES = df_train$Property.Type,      FUN = mean, na.rm = TRUE)\n"
     ]
    }
   ],
   "source": [
    "%%R \n",
    "# Calculate mean Health.Score for each Property.Type\n",
    "mean_health_score <- data.frame(by(df_train$Health.Score, df_train$Property.Type, mean, na.rm = TRUE))\n",
    "print(mean_health_score)\n",
    "\n",
    "# dim(mean_health_score)\n",
    "cat(\"Hello \\n\")\n",
    "dimnames(mean_health_score)\n",
    "#cat(str(mean_health_score))\n",
    "str(mean_health_score)"
   ]
  },
  {
   "cell_type": "code",
   "execution_count": 29,
   "id": "872ffd66-ee94-4ce2-8525-d5fbdac2e66c",
   "metadata": {},
   "outputs": [
    {
     "name": "stdout",
     "output_type": "stream",
     "text": [
      " Divorced Married Single \n",
      "List of 4\n",
      " $         : num 33496\n",
      " $ Divorced: num 715529\n",
      " $ Married : num 720683\n",
      " $ Single  : num 721779\n"
     ]
    }
   ],
   "source": [
    "%%R\n",
    "\n",
    "# Custom function to calculate the sum of Number.of.Dependents\n",
    "sum_dependents <- function(data) {\n",
    "  sum(data$Number.of.Dependents, na.rm = TRUE)\n",
    "}\n",
    "\n",
    "# Split data by Marital.Status\n",
    "split_data <- split(df_train, df_train$Marital.Status)\n",
    "# str(split_data)\n",
    "cat(names(split_data), \"\\n\")\n",
    "# Apply the custom function to each subset\n",
    "sum_dependents_by_status <- lapply(split_data, sum_dependents)\n",
    "#print(sum_dependents_by_status)\n",
    "str(sum_dependents_by_status)"
   ]
  },
  {
   "cell_type": "code",
   "execution_count": null,
   "id": "deb1b885-e332-4bcf-acb7-4cbc4500697b",
   "metadata": {},
   "outputs": [],
   "source": []
  },
  {
   "cell_type": "code",
   "execution_count": 30,
   "id": "26fd30fe-2d62-48f0-a34b-2976b18e9d75",
   "metadata": {},
   "outputs": [
    {
     "name": "stdout",
     "output_type": "stream",
     "text": [
      "function (X, INDEX, FUN = NULL, ..., default = NA, simplify = TRUE) \n",
      "{\n",
      "    FUN <- if (!is.null(FUN)) \n",
      "        match.fun(FUN)\n",
      "    if (inherits(INDEX, \"formula\")) {\n",
      "        if (is.data.frame(X)) \n",
      "            INDEX <- .formula2varlist(INDEX, X)\n",
      "        else stop(\"'X' must be a data frame when 'INDEX' is a formula\")\n",
      "    }\n",
      "    if (!is.list(INDEX)) \n",
      "        INDEX <- list(INDEX)\n",
      "    INDEX <- lapply(INDEX, as.factor)\n",
      "    nI <- length(INDEX)\n",
      "    if (!nI) \n",
      "        stop(\"'INDEX' is of length zero\")\n",
      "    if (!is.object(X) && !all(lengths(INDEX) == length(X))) \n",
      "        stop(\"arguments must have same length\")\n",
      "    namelist <- lapply(INDEX, levels)\n",
      "    extent <- lengths(namelist, use.names = FALSE)\n",
      "    cumextent <- cumprod(extent)\n",
      "    if (cumextent[nI] > .Machine$integer.max) \n",
      "        stop(\"total number of levels >= 2^31\")\n",
      "    storage.mode(cumextent) <- \"integer\"\n",
      "    ngroup <- cumextent[nI]\n",
      "    group <- as.integer(INDEX[[1L]])\n",
      "    if (nI > 1L) \n",
      "        for (i in 2L:nI) group <- group + cumextent[i - 1L] * \n",
      "            (as.integer(INDEX[[i]]) - 1L)\n",
      "    if (is.null(FUN)) \n",
      "        return(group)\n",
      "    levels(group) <- as.character(seq_len(ngroup))\n",
      "    class(group) <- \"factor\"\n",
      "    ans <- split(X, group)\n",
      "    names(ans) <- NULL\n",
      "    index <- as.logical(lengths(ans))\n",
      "    ans <- lapply(X = ans[index], FUN = FUN, ...)\n",
      "    ansmat <- array(if (simplify && all(lengths(ans) == 1L)) {\n",
      "        ans <- unlist(ans, recursive = FALSE, use.names = FALSE)\n",
      "        if (!is.null(ans) && is.na(default) && is.atomic(ans)) \n",
      "            vector(typeof(ans))\n",
      "        else default\n",
      "    }\n",
      "    else vector(\"list\", prod(extent)), dim = extent, dimnames = namelist)\n",
      "    if (length(ans)) {\n",
      "        ansmat[index] <- ans\n",
      "    }\n",
      "    ansmat\n",
      "}\n",
      "<bytecode: 0x000001f6e52c0ac0>\n",
      "<environment: namespace:base>\n"
     ]
    }
   ],
   "source": [
    "%%R\n",
    "open_r_code(\"tapply\")\n",
    "tapply"
   ]
  },
  {
   "cell_type": "code",
   "execution_count": null,
   "id": "ecb7172c-517e-4b4e-9cb3-8c403a9791ba",
   "metadata": {},
   "outputs": [],
   "source": []
  },
  {
   "cell_type": "code",
   "execution_count": 31,
   "id": "92a7523f-96fa-4ffb-b301-9471be70e972",
   "metadata": {},
   "outputs": [
    {
     "name": "stdout",
     "output_type": "stream",
     "text": [
      "      Value   Names\n",
      "1    800000    Able\n",
      "2 123456789   Bravo\n",
      "3 987654321 Charlie\n",
      "800000 123456789 987654321 \n",
      "Able Bravo Charlie \n"
     ]
    }
   ],
   "source": [
    "%%R\n",
    "df_tester <- data.frame(Value = c(800000, 123456789, 987654321),\n",
    "                       Names = c(\"Able\", \"Bravo\", \"Charlie\")\n",
    "                       )\n",
    "\n",
    "# Print the demo of reform\n",
    "print(df_tester)\n",
    "cat(df_tester$Value, \"\\n\")\n",
    "cat(df_tester$Names, \"\\n\")\n"
   ]
  },
  {
   "cell_type": "code",
   "execution_count": null,
   "id": "84f020d8-352c-4ce5-b59c-9b0612fd897a",
   "metadata": {},
   "outputs": [],
   "source": []
  },
  {
   "cell_type": "code",
   "execution_count": null,
   "id": "6bb5667e-f510-49a9-808f-60c2af047975",
   "metadata": {},
   "outputs": [],
   "source": []
  },
  {
   "cell_type": "code",
   "execution_count": null,
   "id": "d1e68aaf-a344-4aed-9e9c-3b5192d2c702",
   "metadata": {},
   "outputs": [],
   "source": []
  },
  {
   "cell_type": "code",
   "execution_count": null,
   "id": "10cdb95f-32ce-400a-91e3-044fc668b87e",
   "metadata": {},
   "outputs": [],
   "source": []
  },
  {
   "cell_type": "code",
   "execution_count": null,
   "id": "2659a22b-20f7-4b65-a217-3deeaf2574db",
   "metadata": {},
   "outputs": [],
   "source": []
  },
  {
   "cell_type": "code",
   "execution_count": null,
   "id": "3c3c52f0-645c-46c5-b56a-467ac7aff51a",
   "metadata": {},
   "outputs": [],
   "source": []
  }
 ],
 "metadata": {
  "kernelspec": {
   "display_name": "Python 3 (ipykernel)",
   "language": "python",
   "name": "python3"
  },
  "language_info": {
   "codemirror_mode": {
    "name": "ipython",
    "version": 3
   },
   "file_extension": ".py",
   "mimetype": "text/x-python",
   "name": "python",
   "nbconvert_exporter": "python",
   "pygments_lexer": "ipython3",
   "version": "3.9.7"
  }
 },
 "nbformat": 4,
 "nbformat_minor": 5
}
